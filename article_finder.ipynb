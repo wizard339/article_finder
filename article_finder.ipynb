{
  "nbformat": 4,
  "nbformat_minor": 0,
  "metadata": {
    "colab": {
      "name": "article_finder.ipynb",
      "provenance": [],
      "include_colab_link": true
    },
    "kernelspec": {
      "name": "python3",
      "display_name": "Python 3"
    },
    "language_info": {
      "name": "python"
    }
  },
  "cells": [
    {
      "cell_type": "markdown",
      "metadata": {
        "id": "view-in-github",
        "colab_type": "text"
      },
      "source": [
        "<a href=\"https://colab.research.google.com/github/wizard339/article_finder/blob/main/article_finder.ipynb\" target=\"_parent\"><img src=\"https://colab.research.google.com/assets/colab-badge.svg\" alt=\"Open In Colab\"/></a>"
      ]
    },
    {
      "cell_type": "code",
      "source": [
        "import urllib.request\n",
        "import urllib.parse\n",
        "import argparse\n",
        "import xml.etree.ElementTree as ET\n",
        "from bs4 import BeautifulSoup\n",
        "import pandas as pd\n",
        "import datetime\n",
        "import time"
      ],
      "metadata": {
        "id": "79P-1ebmtTGi"
      },
      "execution_count": 1,
      "outputs": []
    },
    {
      "cell_type": "code",
      "source": [
        "BASE_URL = 'http://export.arxiv.org/api/query?search_query='\n",
        "PREFIX = {'Title': 'ti',\n",
        "          'Author': 'au',\n",
        "          'Abstract': 'abs',\n",
        "          'Comment': 'co',\n",
        "          'Journal Reference': 'jr',\n",
        "          'Subject Category': 'cat',\n",
        "          'Report Number': 'rn',\n",
        "          'ID': 'id',\n",
        "          'All': 'all'}\n",
        "TIME_PERIOD = {'Day': datetime.timedelta(1),\n",
        "               'Week': datetime.timedelta(7),\n",
        "               'Mounth': datetime.timedelta(30),\n",
        "               'Year': datetime.timedelta(365)}\n",
        "CURRENT_DATE = datetime.datetime.now()\n",
        "\n",
        "# input_keywords = input('Please enter the keywords or search phrases separated by commas: ')\n",
        "input_keywords = 'reinforcement AND learning'"
      ],
      "metadata": {
        "id": "00472c1PtVvC"
      },
      "execution_count": 2,
      "outputs": []
    },
    {
      "cell_type": "code",
      "source": [
        "CURRENT_DATE - TIME_PERIOD['Week']"
      ],
      "metadata": {
        "id": "3ZpQZAlWMxLg",
        "outputId": "c83f98ca-55db-4f6f-a0f5-f437b8aae26e",
        "colab": {
          "base_uri": "https://localhost:8080/"
        }
      },
      "execution_count": 3,
      "outputs": [
        {
          "output_type": "execute_result",
          "data": {
            "text/plain": [
              "datetime.datetime(2022, 9, 3, 7, 20, 57, 885159)"
            ]
          },
          "metadata": {},
          "execution_count": 3
        }
      ]
    },
    {
      "cell_type": "code",
      "source": [
        "def make_query(base_url=BASE_URL, prefix=PREFIX['All'], start=0, keywords=input_keywords, time_period=TIME_PERIOD['Week']):\n",
        "    \"\"\"нужно ввести счетчик и проверку на значение тега updated в entry\"\"\"\n",
        "    # the starting date from which we receive the data\n",
        "    starting_date = CURRENT_DATE - time_period\n",
        "    # encoding of the search query\n",
        "    keywords = urllib.parse.quote_plus(keywords)\n",
        "\n",
        "    cols = ['updated', 'title', 'summary', 'author', 'link']\n",
        "    articles = pd.DataFrame(columns=cols)\n",
        "    start_counter = 0\n",
        "    \n",
        "    while True:\n",
        "      url = f'{base_url}{prefix}:{keywords}&start={start_counter}&max_results=30000&sortBy=lastUpdatedDate&sortOrder=descending'\n",
        "      print(url)\n",
        "      req = urllib.request.Request(url)\n",
        "      with urllib.request.urlopen(req) as response:\n",
        "          if response.status==200:\n",
        "              soup = BeautifulSoup(response, 'xml')\n",
        "          else:\n",
        "              raise ValueError('Please, check the correctness of the request')\n",
        "              break\n",
        "      date_on_the_page = datetime.datetime(*[int(i) for i in soup.entry.updated.string.split('T')[0].split('-')])\n",
        "      print(date_on_the_page)\n",
        "      if date_on_the_page >= starting_date:\n",
        "        print(soup.entry.updated)\n",
        "        for tag in soup.find_all('entry'):\n",
        "            updated_to_df = pd.to_datetime(tag.updated.string.split('T')[0])\n",
        "            authors_list = \", \".join([n.string for n in tag.find_all('name')])\n",
        "            link_to_df = tag.find(title='pdf').get('href')\n",
        "            row_to_concat = pd.DataFrame({'updated': updated_to_df,\n",
        "                                          'title': tag.title,\n",
        "                                          'summary': tag.summary,\n",
        "                                          'author': authors_list,\n",
        "                                          'link': link_to_df}, index=tag.id)\n",
        "            articles = pd.concat([articles, row_to_concat])\n",
        "      else:\n",
        "        break\n",
        "      start_counter += 1\n",
        "      time.sleep(3)\n",
        "\n",
        "    return articles"
      ],
      "metadata": {
        "id": "6Tbgq-pttVru"
      },
      "execution_count": 12,
      "outputs": []
    },
    {
      "cell_type": "code",
      "execution_count": 14,
      "metadata": {
        "colab": {
          "base_uri": "https://localhost:8080/",
          "height": 329
        },
        "id": "onoXXu5wtMQb",
        "outputId": "4f5b5055-9f21-402a-927b-50cca964b5b6"
      },
      "outputs": [
        {
          "output_type": "stream",
          "name": "stdout",
          "text": [
            "http://export.arxiv.org/api/query?search_query=all:reinforcement+AND+learning&start=0&max_results=30000&sortBy=lastUpdatedDate&sortOrder=descending\n"
          ]
        },
        {
          "output_type": "error",
          "ename": "HTTPError",
          "evalue": "ignored",
          "traceback": [
            "\u001b[0;31m---------------------------------------------------------------------------\u001b[0m",
            "\u001b[0;31mHTTPError\u001b[0m                                 Traceback (most recent call last)",
            "\u001b[0;32m<ipython-input-14-7f475a9f84ac>\u001b[0m in \u001b[0;36m<module>\u001b[0;34m\u001b[0m\n\u001b[0;32m----> 1\u001b[0;31m \u001b[0marticles\u001b[0m \u001b[0;34m=\u001b[0m \u001b[0mmake_query\u001b[0m\u001b[0;34m(\u001b[0m\u001b[0;34m)\u001b[0m\u001b[0;34m\u001b[0m\u001b[0;34m\u001b[0m\u001b[0m\n\u001b[0m",
            "\u001b[0;32m<ipython-input-12-4cba18c2b433>\u001b[0m in \u001b[0;36mmake_query\u001b[0;34m(base_url, prefix, start, keywords, time_period)\u001b[0m\n\u001b[1;32m     14\u001b[0m       \u001b[0mprint\u001b[0m\u001b[0;34m(\u001b[0m\u001b[0murl\u001b[0m\u001b[0;34m)\u001b[0m\u001b[0;34m\u001b[0m\u001b[0;34m\u001b[0m\u001b[0m\n\u001b[1;32m     15\u001b[0m       \u001b[0mreq\u001b[0m \u001b[0;34m=\u001b[0m \u001b[0murllib\u001b[0m\u001b[0;34m.\u001b[0m\u001b[0mrequest\u001b[0m\u001b[0;34m.\u001b[0m\u001b[0mRequest\u001b[0m\u001b[0;34m(\u001b[0m\u001b[0murl\u001b[0m\u001b[0;34m)\u001b[0m\u001b[0;34m\u001b[0m\u001b[0;34m\u001b[0m\u001b[0m\n\u001b[0;32m---> 16\u001b[0;31m       \u001b[0;32mwith\u001b[0m \u001b[0murllib\u001b[0m\u001b[0;34m.\u001b[0m\u001b[0mrequest\u001b[0m\u001b[0;34m.\u001b[0m\u001b[0murlopen\u001b[0m\u001b[0;34m(\u001b[0m\u001b[0mreq\u001b[0m\u001b[0;34m)\u001b[0m \u001b[0;32mas\u001b[0m \u001b[0mresponse\u001b[0m\u001b[0;34m:\u001b[0m\u001b[0;34m\u001b[0m\u001b[0;34m\u001b[0m\u001b[0m\n\u001b[0m\u001b[1;32m     17\u001b[0m           \u001b[0;32mif\u001b[0m \u001b[0mresponse\u001b[0m\u001b[0;34m.\u001b[0m\u001b[0mstatus\u001b[0m\u001b[0;34m==\u001b[0m\u001b[0;36m200\u001b[0m\u001b[0;34m:\u001b[0m\u001b[0;34m\u001b[0m\u001b[0;34m\u001b[0m\u001b[0m\n\u001b[1;32m     18\u001b[0m               \u001b[0msoup\u001b[0m \u001b[0;34m=\u001b[0m \u001b[0mBeautifulSoup\u001b[0m\u001b[0;34m(\u001b[0m\u001b[0mresponse\u001b[0m\u001b[0;34m,\u001b[0m \u001b[0;34m'xml'\u001b[0m\u001b[0;34m)\u001b[0m\u001b[0;34m\u001b[0m\u001b[0;34m\u001b[0m\u001b[0m\n",
            "\u001b[0;32m/usr/lib/python3.7/urllib/request.py\u001b[0m in \u001b[0;36murlopen\u001b[0;34m(url, data, timeout, cafile, capath, cadefault, context)\u001b[0m\n\u001b[1;32m    220\u001b[0m     \u001b[0;32melse\u001b[0m\u001b[0;34m:\u001b[0m\u001b[0;34m\u001b[0m\u001b[0;34m\u001b[0m\u001b[0m\n\u001b[1;32m    221\u001b[0m         \u001b[0mopener\u001b[0m \u001b[0;34m=\u001b[0m \u001b[0m_opener\u001b[0m\u001b[0;34m\u001b[0m\u001b[0;34m\u001b[0m\u001b[0m\n\u001b[0;32m--> 222\u001b[0;31m     \u001b[0;32mreturn\u001b[0m \u001b[0mopener\u001b[0m\u001b[0;34m.\u001b[0m\u001b[0mopen\u001b[0m\u001b[0;34m(\u001b[0m\u001b[0murl\u001b[0m\u001b[0;34m,\u001b[0m \u001b[0mdata\u001b[0m\u001b[0;34m,\u001b[0m \u001b[0mtimeout\u001b[0m\u001b[0;34m)\u001b[0m\u001b[0;34m\u001b[0m\u001b[0;34m\u001b[0m\u001b[0m\n\u001b[0m\u001b[1;32m    223\u001b[0m \u001b[0;34m\u001b[0m\u001b[0m\n\u001b[1;32m    224\u001b[0m \u001b[0;32mdef\u001b[0m \u001b[0minstall_opener\u001b[0m\u001b[0;34m(\u001b[0m\u001b[0mopener\u001b[0m\u001b[0;34m)\u001b[0m\u001b[0;34m:\u001b[0m\u001b[0;34m\u001b[0m\u001b[0;34m\u001b[0m\u001b[0m\n",
            "\u001b[0;32m/usr/lib/python3.7/urllib/request.py\u001b[0m in \u001b[0;36mopen\u001b[0;34m(self, fullurl, data, timeout)\u001b[0m\n\u001b[1;32m    529\u001b[0m         \u001b[0;32mfor\u001b[0m \u001b[0mprocessor\u001b[0m \u001b[0;32min\u001b[0m \u001b[0mself\u001b[0m\u001b[0;34m.\u001b[0m\u001b[0mprocess_response\u001b[0m\u001b[0;34m.\u001b[0m\u001b[0mget\u001b[0m\u001b[0;34m(\u001b[0m\u001b[0mprotocol\u001b[0m\u001b[0;34m,\u001b[0m \u001b[0;34m[\u001b[0m\u001b[0;34m]\u001b[0m\u001b[0;34m)\u001b[0m\u001b[0;34m:\u001b[0m\u001b[0;34m\u001b[0m\u001b[0;34m\u001b[0m\u001b[0m\n\u001b[1;32m    530\u001b[0m             \u001b[0mmeth\u001b[0m \u001b[0;34m=\u001b[0m \u001b[0mgetattr\u001b[0m\u001b[0;34m(\u001b[0m\u001b[0mprocessor\u001b[0m\u001b[0;34m,\u001b[0m \u001b[0mmeth_name\u001b[0m\u001b[0;34m)\u001b[0m\u001b[0;34m\u001b[0m\u001b[0;34m\u001b[0m\u001b[0m\n\u001b[0;32m--> 531\u001b[0;31m             \u001b[0mresponse\u001b[0m \u001b[0;34m=\u001b[0m \u001b[0mmeth\u001b[0m\u001b[0;34m(\u001b[0m\u001b[0mreq\u001b[0m\u001b[0;34m,\u001b[0m \u001b[0mresponse\u001b[0m\u001b[0;34m)\u001b[0m\u001b[0;34m\u001b[0m\u001b[0;34m\u001b[0m\u001b[0m\n\u001b[0m\u001b[1;32m    532\u001b[0m \u001b[0;34m\u001b[0m\u001b[0m\n\u001b[1;32m    533\u001b[0m         \u001b[0;32mreturn\u001b[0m \u001b[0mresponse\u001b[0m\u001b[0;34m\u001b[0m\u001b[0;34m\u001b[0m\u001b[0m\n",
            "\u001b[0;32m/usr/lib/python3.7/urllib/request.py\u001b[0m in \u001b[0;36mhttp_response\u001b[0;34m(self, request, response)\u001b[0m\n\u001b[1;32m    639\u001b[0m         \u001b[0;32mif\u001b[0m \u001b[0;32mnot\u001b[0m \u001b[0;34m(\u001b[0m\u001b[0;36m200\u001b[0m \u001b[0;34m<=\u001b[0m \u001b[0mcode\u001b[0m \u001b[0;34m<\u001b[0m \u001b[0;36m300\u001b[0m\u001b[0;34m)\u001b[0m\u001b[0;34m:\u001b[0m\u001b[0;34m\u001b[0m\u001b[0;34m\u001b[0m\u001b[0m\n\u001b[1;32m    640\u001b[0m             response = self.parent.error(\n\u001b[0;32m--> 641\u001b[0;31m                 'http', request, response, code, msg, hdrs)\n\u001b[0m\u001b[1;32m    642\u001b[0m \u001b[0;34m\u001b[0m\u001b[0m\n\u001b[1;32m    643\u001b[0m         \u001b[0;32mreturn\u001b[0m \u001b[0mresponse\u001b[0m\u001b[0;34m\u001b[0m\u001b[0;34m\u001b[0m\u001b[0m\n",
            "\u001b[0;32m/usr/lib/python3.7/urllib/request.py\u001b[0m in \u001b[0;36merror\u001b[0;34m(self, proto, *args)\u001b[0m\n\u001b[1;32m    567\u001b[0m         \u001b[0;32mif\u001b[0m \u001b[0mhttp_err\u001b[0m\u001b[0;34m:\u001b[0m\u001b[0;34m\u001b[0m\u001b[0;34m\u001b[0m\u001b[0m\n\u001b[1;32m    568\u001b[0m             \u001b[0margs\u001b[0m \u001b[0;34m=\u001b[0m \u001b[0;34m(\u001b[0m\u001b[0mdict\u001b[0m\u001b[0;34m,\u001b[0m \u001b[0;34m'default'\u001b[0m\u001b[0;34m,\u001b[0m \u001b[0;34m'http_error_default'\u001b[0m\u001b[0;34m)\u001b[0m \u001b[0;34m+\u001b[0m \u001b[0morig_args\u001b[0m\u001b[0;34m\u001b[0m\u001b[0;34m\u001b[0m\u001b[0m\n\u001b[0;32m--> 569\u001b[0;31m             \u001b[0;32mreturn\u001b[0m \u001b[0mself\u001b[0m\u001b[0;34m.\u001b[0m\u001b[0m_call_chain\u001b[0m\u001b[0;34m(\u001b[0m\u001b[0;34m*\u001b[0m\u001b[0margs\u001b[0m\u001b[0;34m)\u001b[0m\u001b[0;34m\u001b[0m\u001b[0;34m\u001b[0m\u001b[0m\n\u001b[0m\u001b[1;32m    570\u001b[0m \u001b[0;34m\u001b[0m\u001b[0m\n\u001b[1;32m    571\u001b[0m \u001b[0;31m# XXX probably also want an abstract factory that knows when it makes\u001b[0m\u001b[0;34m\u001b[0m\u001b[0;34m\u001b[0m\u001b[0;34m\u001b[0m\u001b[0m\n",
            "\u001b[0;32m/usr/lib/python3.7/urllib/request.py\u001b[0m in \u001b[0;36m_call_chain\u001b[0;34m(self, chain, kind, meth_name, *args)\u001b[0m\n\u001b[1;32m    501\u001b[0m         \u001b[0;32mfor\u001b[0m \u001b[0mhandler\u001b[0m \u001b[0;32min\u001b[0m \u001b[0mhandlers\u001b[0m\u001b[0;34m:\u001b[0m\u001b[0;34m\u001b[0m\u001b[0;34m\u001b[0m\u001b[0m\n\u001b[1;32m    502\u001b[0m             \u001b[0mfunc\u001b[0m \u001b[0;34m=\u001b[0m \u001b[0mgetattr\u001b[0m\u001b[0;34m(\u001b[0m\u001b[0mhandler\u001b[0m\u001b[0;34m,\u001b[0m \u001b[0mmeth_name\u001b[0m\u001b[0;34m)\u001b[0m\u001b[0;34m\u001b[0m\u001b[0;34m\u001b[0m\u001b[0m\n\u001b[0;32m--> 503\u001b[0;31m             \u001b[0mresult\u001b[0m \u001b[0;34m=\u001b[0m \u001b[0mfunc\u001b[0m\u001b[0;34m(\u001b[0m\u001b[0;34m*\u001b[0m\u001b[0margs\u001b[0m\u001b[0;34m)\u001b[0m\u001b[0;34m\u001b[0m\u001b[0;34m\u001b[0m\u001b[0m\n\u001b[0m\u001b[1;32m    504\u001b[0m             \u001b[0;32mif\u001b[0m \u001b[0mresult\u001b[0m \u001b[0;32mis\u001b[0m \u001b[0;32mnot\u001b[0m \u001b[0;32mNone\u001b[0m\u001b[0;34m:\u001b[0m\u001b[0;34m\u001b[0m\u001b[0;34m\u001b[0m\u001b[0m\n\u001b[1;32m    505\u001b[0m                 \u001b[0;32mreturn\u001b[0m \u001b[0mresult\u001b[0m\u001b[0;34m\u001b[0m\u001b[0;34m\u001b[0m\u001b[0m\n",
            "\u001b[0;32m/usr/lib/python3.7/urllib/request.py\u001b[0m in \u001b[0;36mhttp_error_default\u001b[0;34m(self, req, fp, code, msg, hdrs)\u001b[0m\n\u001b[1;32m    647\u001b[0m \u001b[0;32mclass\u001b[0m \u001b[0mHTTPDefaultErrorHandler\u001b[0m\u001b[0;34m(\u001b[0m\u001b[0mBaseHandler\u001b[0m\u001b[0;34m)\u001b[0m\u001b[0;34m:\u001b[0m\u001b[0;34m\u001b[0m\u001b[0;34m\u001b[0m\u001b[0m\n\u001b[1;32m    648\u001b[0m     \u001b[0;32mdef\u001b[0m \u001b[0mhttp_error_default\u001b[0m\u001b[0;34m(\u001b[0m\u001b[0mself\u001b[0m\u001b[0;34m,\u001b[0m \u001b[0mreq\u001b[0m\u001b[0;34m,\u001b[0m \u001b[0mfp\u001b[0m\u001b[0;34m,\u001b[0m \u001b[0mcode\u001b[0m\u001b[0;34m,\u001b[0m \u001b[0mmsg\u001b[0m\u001b[0;34m,\u001b[0m \u001b[0mhdrs\u001b[0m\u001b[0;34m)\u001b[0m\u001b[0;34m:\u001b[0m\u001b[0;34m\u001b[0m\u001b[0;34m\u001b[0m\u001b[0m\n\u001b[0;32m--> 649\u001b[0;31m         \u001b[0;32mraise\u001b[0m \u001b[0mHTTPError\u001b[0m\u001b[0;34m(\u001b[0m\u001b[0mreq\u001b[0m\u001b[0;34m.\u001b[0m\u001b[0mfull_url\u001b[0m\u001b[0;34m,\u001b[0m \u001b[0mcode\u001b[0m\u001b[0;34m,\u001b[0m \u001b[0mmsg\u001b[0m\u001b[0;34m,\u001b[0m \u001b[0mhdrs\u001b[0m\u001b[0;34m,\u001b[0m \u001b[0mfp\u001b[0m\u001b[0;34m)\u001b[0m\u001b[0;34m\u001b[0m\u001b[0;34m\u001b[0m\u001b[0m\n\u001b[0m\u001b[1;32m    650\u001b[0m \u001b[0;34m\u001b[0m\u001b[0m\n\u001b[1;32m    651\u001b[0m \u001b[0;32mclass\u001b[0m \u001b[0mHTTPRedirectHandler\u001b[0m\u001b[0;34m(\u001b[0m\u001b[0mBaseHandler\u001b[0m\u001b[0;34m)\u001b[0m\u001b[0;34m:\u001b[0m\u001b[0;34m\u001b[0m\u001b[0;34m\u001b[0m\u001b[0m\n",
            "\u001b[0;31mHTTPError\u001b[0m: HTTP Error 400: Bad Request"
          ]
        }
      ],
      "source": [
        "articles = make_query()"
      ]
    },
    {
      "cell_type": "code",
      "source": [
        "datetime.datetime(2022,8,31)"
      ],
      "metadata": {
        "id": "sWFT89kuX6ZC",
        "outputId": "57f1500d-2846-4b16-a046-e113e071a682",
        "colab": {
          "base_uri": "https://localhost:8080/"
        }
      },
      "execution_count": null,
      "outputs": [
        {
          "output_type": "execute_result",
          "data": {
            "text/plain": [
              "datetime.datetime(2022, 8, 31, 0, 0)"
            ]
          },
          "metadata": {},
          "execution_count": 39
        }
      ]
    },
    {
      "cell_type": "code",
      "source": [
        "articles.sample(10)"
      ],
      "metadata": {
        "id": "u5u0DJYMtjIo",
        "colab": {
          "base_uri": "https://localhost:8080/",
          "height": 598
        },
        "outputId": "e0c72fed-cb48-4eae-c458-82bfd77646bc"
      },
      "execution_count": 6,
      "outputs": [
        {
          "output_type": "execute_result",
          "data": {
            "text/plain": [
              "                                     updated  \\\n",
              "http://arxiv.org/abs/2201.08299v3 2022-09-02   \n",
              "http://arxiv.org/abs/2208.04822v2 2022-08-29   \n",
              "http://arxiv.org/abs/2203.07889v4 2022-08-30   \n",
              "http://arxiv.org/abs/2207.06559v2 2022-09-01   \n",
              "http://arxiv.org/abs/2209.02166v1 2022-09-05   \n",
              "http://arxiv.org/abs/2208.11639v2 2022-08-26   \n",
              "http://arxiv.org/abs/2208.12622v1 2022-08-26   \n",
              "http://arxiv.org/abs/2201.13170v3 2022-09-01   \n",
              "http://arxiv.org/abs/2208.08133v2 2022-09-05   \n",
              "http://arxiv.org/abs/2208.12345v1 2022-08-25   \n",
              "\n",
              "                                                                               title  \\\n",
              "http://arxiv.org/abs/2201.08299v3  Goal-Conditioned Reinforcement Learning: Probl...   \n",
              "http://arxiv.org/abs/2208.04822v2  Generalized Reinforcement Learning: Experience...   \n",
              "http://arxiv.org/abs/2203.07889v4  Comparing Two Samples Through Stochastic Domin...   \n",
              "http://arxiv.org/abs/2207.06559v2  Scalable Model-based Policy Optimization for D...   \n",
              "http://arxiv.org/abs/2209.02166v1  To Compute or not to Compute? Adaptive Smart S...   \n",
              "http://arxiv.org/abs/2208.11639v2  Oracle-free Reinforcement Learning in Mean-Fie...   \n",
              "http://arxiv.org/abs/2208.12622v1  Play with Emotion: Affect-Driven Reinforcement...   \n",
              "http://arxiv.org/abs/2201.13170v3  Cooperative Online Learning in Stochastic and ...   \n",
              "http://arxiv.org/abs/2208.08133v2  Metric Residual Networks for Sample Efficient ...   \n",
              "http://arxiv.org/abs/2208.12345v1  Light-weight probing of unsupervised represent...   \n",
              "\n",
              "                                                                             summary  \\\n",
              "http://arxiv.org/abs/2201.08299v3    Goal-conditioned reinforcement learning (GCR...   \n",
              "http://arxiv.org/abs/2208.04822v2    Learning a control policy capable of adaptin...   \n",
              "http://arxiv.org/abs/2203.07889v4    Non-deterministic measurements are common in...   \n",
              "http://arxiv.org/abs/2207.06559v2    Reinforcement learning algorithms require a ...   \n",
              "http://arxiv.org/abs/2209.02166v1    We consider a network of smart sensors for e...   \n",
              "http://arxiv.org/abs/2208.11639v2    We consider online reinforcement learning in...   \n",
              "http://arxiv.org/abs/2208.12622v1    This paper introduces a paradigm shift by vi...   \n",
              "http://arxiv.org/abs/2201.13170v3    We study cooperative online learning in stoc...   \n",
              "http://arxiv.org/abs/2208.08133v2    Goal-conditioned reinforcement learning (GCR...   \n",
              "http://arxiv.org/abs/2208.12345v1    Unsupervised visual representation learning ...   \n",
              "\n",
              "                                                                              author  \\\n",
              "http://arxiv.org/abs/2201.08299v3            Minghuan Liu, Menghui Zhu, Weinan Zhang   \n",
              "http://arxiv.org/abs/2208.04822v2                      Po-Hsiang Chiu, Manfred Huber   \n",
              "http://arxiv.org/abs/2203.07889v4  Etor Arza, Josu Ceberio, Ekhiñe Irurozki, Arit...   \n",
              "http://arxiv.org/abs/2207.06559v2  Yali Du, Chengdong Ma, Yuchen Liu, Runji Lin, ...   \n",
              "http://arxiv.org/abs/2209.02166v1  Luca Ballotta, Giovanni Peserico, Francesco Za...   \n",
              "http://arxiv.org/abs/2208.11639v2  Muhammad Aneeq uz Zaman, Alec Koppel, Sujay Bh...   \n",
              "http://arxiv.org/abs/2208.12622v1  Matthew Barthet, Ahmed Khalifa, Antonios Liapi...   \n",
              "http://arxiv.org/abs/2201.13170v3     Tal Lancewicki, Aviv Rosenberg, Yishay Mansour   \n",
              "http://arxiv.org/abs/2208.08133v2         Bo Liu, Yihao Feng, Qiang Liu, Peter Stone   \n",
              "http://arxiv.org/abs/2208.12345v1  Wancong Zhang, Anthony GX-Chen, Vlad Sobal, Ya...   \n",
              "\n",
              "                                                                link  \n",
              "http://arxiv.org/abs/2201.08299v3  http://arxiv.org/pdf/2201.08299v3  \n",
              "http://arxiv.org/abs/2208.04822v2  http://arxiv.org/pdf/2208.04822v2  \n",
              "http://arxiv.org/abs/2203.07889v4  http://arxiv.org/pdf/2203.07889v4  \n",
              "http://arxiv.org/abs/2207.06559v2  http://arxiv.org/pdf/2207.06559v2  \n",
              "http://arxiv.org/abs/2209.02166v1  http://arxiv.org/pdf/2209.02166v1  \n",
              "http://arxiv.org/abs/2208.11639v2  http://arxiv.org/pdf/2208.11639v2  \n",
              "http://arxiv.org/abs/2208.12622v1  http://arxiv.org/pdf/2208.12622v1  \n",
              "http://arxiv.org/abs/2201.13170v3  http://arxiv.org/pdf/2201.13170v3  \n",
              "http://arxiv.org/abs/2208.08133v2  http://arxiv.org/pdf/2208.08133v2  \n",
              "http://arxiv.org/abs/2208.12345v1  http://arxiv.org/pdf/2208.12345v1  "
            ],
            "text/html": [
              "\n",
              "  <div id=\"df-902c8d98-bdf6-4ccb-8262-d10ca82267b2\">\n",
              "    <div class=\"colab-df-container\">\n",
              "      <div>\n",
              "<style scoped>\n",
              "    .dataframe tbody tr th:only-of-type {\n",
              "        vertical-align: middle;\n",
              "    }\n",
              "\n",
              "    .dataframe tbody tr th {\n",
              "        vertical-align: top;\n",
              "    }\n",
              "\n",
              "    .dataframe thead th {\n",
              "        text-align: right;\n",
              "    }\n",
              "</style>\n",
              "<table border=\"1\" class=\"dataframe\">\n",
              "  <thead>\n",
              "    <tr style=\"text-align: right;\">\n",
              "      <th></th>\n",
              "      <th>updated</th>\n",
              "      <th>title</th>\n",
              "      <th>summary</th>\n",
              "      <th>author</th>\n",
              "      <th>link</th>\n",
              "    </tr>\n",
              "  </thead>\n",
              "  <tbody>\n",
              "    <tr>\n",
              "      <th>http://arxiv.org/abs/2201.08299v3</th>\n",
              "      <td>2022-09-02</td>\n",
              "      <td>Goal-Conditioned Reinforcement Learning: Probl...</td>\n",
              "      <td>Goal-conditioned reinforcement learning (GCR...</td>\n",
              "      <td>Minghuan Liu, Menghui Zhu, Weinan Zhang</td>\n",
              "      <td>http://arxiv.org/pdf/2201.08299v3</td>\n",
              "    </tr>\n",
              "    <tr>\n",
              "      <th>http://arxiv.org/abs/2208.04822v2</th>\n",
              "      <td>2022-08-29</td>\n",
              "      <td>Generalized Reinforcement Learning: Experience...</td>\n",
              "      <td>Learning a control policy capable of adaptin...</td>\n",
              "      <td>Po-Hsiang Chiu, Manfred Huber</td>\n",
              "      <td>http://arxiv.org/pdf/2208.04822v2</td>\n",
              "    </tr>\n",
              "    <tr>\n",
              "      <th>http://arxiv.org/abs/2203.07889v4</th>\n",
              "      <td>2022-08-30</td>\n",
              "      <td>Comparing Two Samples Through Stochastic Domin...</td>\n",
              "      <td>Non-deterministic measurements are common in...</td>\n",
              "      <td>Etor Arza, Josu Ceberio, Ekhiñe Irurozki, Arit...</td>\n",
              "      <td>http://arxiv.org/pdf/2203.07889v4</td>\n",
              "    </tr>\n",
              "    <tr>\n",
              "      <th>http://arxiv.org/abs/2207.06559v2</th>\n",
              "      <td>2022-09-01</td>\n",
              "      <td>Scalable Model-based Policy Optimization for D...</td>\n",
              "      <td>Reinforcement learning algorithms require a ...</td>\n",
              "      <td>Yali Du, Chengdong Ma, Yuchen Liu, Runji Lin, ...</td>\n",
              "      <td>http://arxiv.org/pdf/2207.06559v2</td>\n",
              "    </tr>\n",
              "    <tr>\n",
              "      <th>http://arxiv.org/abs/2209.02166v1</th>\n",
              "      <td>2022-09-05</td>\n",
              "      <td>To Compute or not to Compute? Adaptive Smart S...</td>\n",
              "      <td>We consider a network of smart sensors for e...</td>\n",
              "      <td>Luca Ballotta, Giovanni Peserico, Francesco Za...</td>\n",
              "      <td>http://arxiv.org/pdf/2209.02166v1</td>\n",
              "    </tr>\n",
              "    <tr>\n",
              "      <th>http://arxiv.org/abs/2208.11639v2</th>\n",
              "      <td>2022-08-26</td>\n",
              "      <td>Oracle-free Reinforcement Learning in Mean-Fie...</td>\n",
              "      <td>We consider online reinforcement learning in...</td>\n",
              "      <td>Muhammad Aneeq uz Zaman, Alec Koppel, Sujay Bh...</td>\n",
              "      <td>http://arxiv.org/pdf/2208.11639v2</td>\n",
              "    </tr>\n",
              "    <tr>\n",
              "      <th>http://arxiv.org/abs/2208.12622v1</th>\n",
              "      <td>2022-08-26</td>\n",
              "      <td>Play with Emotion: Affect-Driven Reinforcement...</td>\n",
              "      <td>This paper introduces a paradigm shift by vi...</td>\n",
              "      <td>Matthew Barthet, Ahmed Khalifa, Antonios Liapi...</td>\n",
              "      <td>http://arxiv.org/pdf/2208.12622v1</td>\n",
              "    </tr>\n",
              "    <tr>\n",
              "      <th>http://arxiv.org/abs/2201.13170v3</th>\n",
              "      <td>2022-09-01</td>\n",
              "      <td>Cooperative Online Learning in Stochastic and ...</td>\n",
              "      <td>We study cooperative online learning in stoc...</td>\n",
              "      <td>Tal Lancewicki, Aviv Rosenberg, Yishay Mansour</td>\n",
              "      <td>http://arxiv.org/pdf/2201.13170v3</td>\n",
              "    </tr>\n",
              "    <tr>\n",
              "      <th>http://arxiv.org/abs/2208.08133v2</th>\n",
              "      <td>2022-09-05</td>\n",
              "      <td>Metric Residual Networks for Sample Efficient ...</td>\n",
              "      <td>Goal-conditioned reinforcement learning (GCR...</td>\n",
              "      <td>Bo Liu, Yihao Feng, Qiang Liu, Peter Stone</td>\n",
              "      <td>http://arxiv.org/pdf/2208.08133v2</td>\n",
              "    </tr>\n",
              "    <tr>\n",
              "      <th>http://arxiv.org/abs/2208.12345v1</th>\n",
              "      <td>2022-08-25</td>\n",
              "      <td>Light-weight probing of unsupervised represent...</td>\n",
              "      <td>Unsupervised visual representation learning ...</td>\n",
              "      <td>Wancong Zhang, Anthony GX-Chen, Vlad Sobal, Ya...</td>\n",
              "      <td>http://arxiv.org/pdf/2208.12345v1</td>\n",
              "    </tr>\n",
              "  </tbody>\n",
              "</table>\n",
              "</div>\n",
              "      <button class=\"colab-df-convert\" onclick=\"convertToInteractive('df-902c8d98-bdf6-4ccb-8262-d10ca82267b2')\"\n",
              "              title=\"Convert this dataframe to an interactive table.\"\n",
              "              style=\"display:none;\">\n",
              "        \n",
              "  <svg xmlns=\"http://www.w3.org/2000/svg\" height=\"24px\"viewBox=\"0 0 24 24\"\n",
              "       width=\"24px\">\n",
              "    <path d=\"M0 0h24v24H0V0z\" fill=\"none\"/>\n",
              "    <path d=\"M18.56 5.44l.94 2.06.94-2.06 2.06-.94-2.06-.94-.94-2.06-.94 2.06-2.06.94zm-11 1L8.5 8.5l.94-2.06 2.06-.94-2.06-.94L8.5 2.5l-.94 2.06-2.06.94zm10 10l.94 2.06.94-2.06 2.06-.94-2.06-.94-.94-2.06-.94 2.06-2.06.94z\"/><path d=\"M17.41 7.96l-1.37-1.37c-.4-.4-.92-.59-1.43-.59-.52 0-1.04.2-1.43.59L10.3 9.45l-7.72 7.72c-.78.78-.78 2.05 0 2.83L4 21.41c.39.39.9.59 1.41.59.51 0 1.02-.2 1.41-.59l7.78-7.78 2.81-2.81c.8-.78.8-2.07 0-2.86zM5.41 20L4 18.59l7.72-7.72 1.47 1.35L5.41 20z\"/>\n",
              "  </svg>\n",
              "      </button>\n",
              "      \n",
              "  <style>\n",
              "    .colab-df-container {\n",
              "      display:flex;\n",
              "      flex-wrap:wrap;\n",
              "      gap: 12px;\n",
              "    }\n",
              "\n",
              "    .colab-df-convert {\n",
              "      background-color: #E8F0FE;\n",
              "      border: none;\n",
              "      border-radius: 50%;\n",
              "      cursor: pointer;\n",
              "      display: none;\n",
              "      fill: #1967D2;\n",
              "      height: 32px;\n",
              "      padding: 0 0 0 0;\n",
              "      width: 32px;\n",
              "    }\n",
              "\n",
              "    .colab-df-convert:hover {\n",
              "      background-color: #E2EBFA;\n",
              "      box-shadow: 0px 1px 2px rgba(60, 64, 67, 0.3), 0px 1px 3px 1px rgba(60, 64, 67, 0.15);\n",
              "      fill: #174EA6;\n",
              "    }\n",
              "\n",
              "    [theme=dark] .colab-df-convert {\n",
              "      background-color: #3B4455;\n",
              "      fill: #D2E3FC;\n",
              "    }\n",
              "\n",
              "    [theme=dark] .colab-df-convert:hover {\n",
              "      background-color: #434B5C;\n",
              "      box-shadow: 0px 1px 3px 1px rgba(0, 0, 0, 0.15);\n",
              "      filter: drop-shadow(0px 1px 2px rgba(0, 0, 0, 0.3));\n",
              "      fill: #FFFFFF;\n",
              "    }\n",
              "  </style>\n",
              "\n",
              "      <script>\n",
              "        const buttonEl =\n",
              "          document.querySelector('#df-902c8d98-bdf6-4ccb-8262-d10ca82267b2 button.colab-df-convert');\n",
              "        buttonEl.style.display =\n",
              "          google.colab.kernel.accessAllowed ? 'block' : 'none';\n",
              "\n",
              "        async function convertToInteractive(key) {\n",
              "          const element = document.querySelector('#df-902c8d98-bdf6-4ccb-8262-d10ca82267b2');\n",
              "          const dataTable =\n",
              "            await google.colab.kernel.invokeFunction('convertToInteractive',\n",
              "                                                     [key], {});\n",
              "          if (!dataTable) return;\n",
              "\n",
              "          const docLinkHtml = 'Like what you see? Visit the ' +\n",
              "            '<a target=\"_blank\" href=https://colab.research.google.com/notebooks/data_table.ipynb>data table notebook</a>'\n",
              "            + ' to learn more about interactive tables.';\n",
              "          element.innerHTML = '';\n",
              "          dataTable['output_type'] = 'display_data';\n",
              "          await google.colab.output.renderOutput(dataTable, element);\n",
              "          const docLink = document.createElement('div');\n",
              "          docLink.innerHTML = docLinkHtml;\n",
              "          element.appendChild(docLink);\n",
              "        }\n",
              "      </script>\n",
              "    </div>\n",
              "  </div>\n",
              "  "
            ]
          },
          "metadata": {},
          "execution_count": 6
        }
      ]
    },
    {
      "cell_type": "code",
      "source": [
        "articles.updated.value_counts()"
      ],
      "metadata": {
        "colab": {
          "base_uri": "https://localhost:8080/"
        },
        "id": "TAZMbKetbJE6",
        "outputId": "329b6949-4bf8-4b7e-f557-b23822686a50"
      },
      "execution_count": 7,
      "outputs": [
        {
          "output_type": "execute_result",
          "data": {
            "text/plain": [
              "2022-09-01    1298\n",
              "2022-08-26    1180\n",
              "2022-08-30    1062\n",
              "2022-08-22     760\n",
              "2022-08-31     708\n",
              "2022-08-29     708\n",
              "2022-08-23     702\n",
              "2022-08-25     649\n",
              "2022-09-05     637\n",
              "2022-09-02     531\n",
              "2022-08-24     531\n",
              "2022-09-07     430\n",
              "2022-09-03     413\n",
              "2022-09-06     407\n",
              "2022-08-28     354\n",
              "2022-08-27     354\n",
              "2022-08-19     253\n",
              "2022-08-21     252\n",
              "2022-09-04     230\n",
              "2022-08-18     153\n",
              "2022-08-20     122\n",
              "2022-09-08      66\n",
              "Name: updated, dtype: int64"
            ]
          },
          "metadata": {},
          "execution_count": 7
        }
      ]
    },
    {
      "cell_type": "code",
      "source": [
        "articles.info()"
      ],
      "metadata": {
        "colab": {
          "base_uri": "https://localhost:8080/"
        },
        "id": "m3JYF40vEYHG",
        "outputId": "ee51bad1-1eef-47b5-d278-4b393a494bb6"
      },
      "execution_count": 8,
      "outputs": [
        {
          "output_type": "stream",
          "name": "stdout",
          "text": [
            "<class 'pandas.core.frame.DataFrame'>\n",
            "Index: 11800 entries, http://arxiv.org/abs/2209.03887v1 to http://arxiv.org/abs/2204.05893v2\n",
            "Data columns (total 5 columns):\n",
            " #   Column   Non-Null Count  Dtype         \n",
            "---  ------   --------------  -----         \n",
            " 0   updated  11800 non-null  datetime64[ns]\n",
            " 1   title    11800 non-null  object        \n",
            " 2   summary  11800 non-null  object        \n",
            " 3   author   11800 non-null  object        \n",
            " 4   link     11800 non-null  object        \n",
            "dtypes: datetime64[ns](1), object(4)\n",
            "memory usage: 553.1+ KB\n"
          ]
        }
      ]
    },
    {
      "cell_type": "code",
      "source": [],
      "metadata": {
        "id": "W7fbWqnFFVED"
      },
      "execution_count": null,
      "outputs": []
    }
  ]
}