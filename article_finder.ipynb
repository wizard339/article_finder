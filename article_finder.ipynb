{
  "nbformat": 4,
  "nbformat_minor": 0,
  "metadata": {
    "colab": {
      "name": "article_finder.ipynb",
      "provenance": [],
      "include_colab_link": true
    },
    "kernelspec": {
      "name": "python3",
      "display_name": "Python 3"
    },
    "language_info": {
      "name": "python"
    }
  },
  "cells": [
    {
      "cell_type": "markdown",
      "metadata": {
        "id": "view-in-github",
        "colab_type": "text"
      },
      "source": [
        "<a href=\"https://colab.research.google.com/github/wizard339/article_finder/blob/main/article_finder.ipynb\" target=\"_parent\"><img src=\"https://colab.research.google.com/assets/colab-badge.svg\" alt=\"Open In Colab\"/></a>"
      ]
    },
    {
      "cell_type": "code",
      "source": [
        "import urllib.request\n",
        "import urllib.parse\n",
        "import argparse\n",
        "import xml.etree.ElementTree as ET\n",
        "from bs4 import BeautifulSoup\n",
        "import pandas as pd\n",
        "import datetime\n",
        "import time"
      ],
      "metadata": {
        "id": "79P-1ebmtTGi"
      },
      "execution_count": 53,
      "outputs": []
    },
    {
      "cell_type": "code",
      "source": [
        "BASE_URL = 'http://export.arxiv.org/api/query?search_query='\n",
        "PREFIX = {'Title': 'ti',\n",
        "          'Author': 'au',\n",
        "          'Abstract': 'abs',\n",
        "          'Comment': 'co',\n",
        "          'Journal Reference': 'jr',\n",
        "          'Subject Category': 'cat',\n",
        "          'Report Number': 'rn',\n",
        "          'ID': 'id',\n",
        "          'All': 'all'}\n",
        "TIME_PERIOD = {'Day': datetime.timedelta(1),\n",
        "               'Week': datetime.timedelta(7),\n",
        "               'Mounth': datetime.timedelta(30),\n",
        "               'Year': datetime.timedelta(365)}\n",
        "CURRENT_DATE = datetime.datetime.now()\n",
        "\n",
        "# input_keywords = input('Please enter the keywords or search phrases separated by commas: ')\n",
        "input_keywords = 'reinforcement AND learning'"
      ],
      "metadata": {
        "id": "00472c1PtVvC"
      },
      "execution_count": 54,
      "outputs": []
    },
    {
      "cell_type": "code",
      "source": [
        "CURRENT_DATE - TIME_PERIOD['Week']"
      ],
      "metadata": {
        "id": "3ZpQZAlWMxLg",
        "outputId": "c726e41e-21ce-49f5-846c-6f5df6f532ab",
        "colab": {
          "base_uri": "https://localhost:8080/"
        }
      },
      "execution_count": 55,
      "outputs": [
        {
          "output_type": "execute_result",
          "data": {
            "text/plain": [
              "datetime.datetime(2022, 8, 25, 14, 19, 53, 142867)"
            ]
          },
          "metadata": {},
          "execution_count": 55
        }
      ]
    },
    {
      "cell_type": "code",
      "source": [
        "def make_query(url=BASE_URL, prefix=PREFIX['All'], start=0, keywords=input_keywords, time_period=TIME_PERIOD['Week']):\n",
        "    \"\"\"нужно ввести счетчик и проверку на значение тега updated в entry\"\"\"\n",
        "    # the starting date from which we receive the data\n",
        "    starting_date = CURRENT_DATE - time_period\n",
        "    # encoding of the search query\n",
        "    keywords = urllib.parse.quote_plus(keywords)\n",
        "\n",
        "    cols = ['updated', 'title', 'summary', 'author', 'link']\n",
        "    articles = pd.DataFrame(columns=cols)\n",
        "    start_counter = 0\n",
        "    while True:\n",
        "      url = f'{url}{prefix}:{keywords}&start={start_counter}&max_results=200&sortBy=lastUpdatedDate&sortOrder=descending'\n",
        "      print(url)\n",
        "      req = urllib.request.Request(url)\n",
        "      with urllib.request.urlopen(req) as response:\n",
        "          if response.status==200:\n",
        "              soup = BeautifulSoup(response, 'xml')\n",
        "          else:\n",
        "              raise ValueError('Please, check the correctness of the request')\n",
        "              break\n",
        "      date_on_the_page = datetime.datetime(*[int(i) for i in soup.entry.updated.string.split('T')[0].split('-')])\n",
        "      if date_on_the_page >= starting_date:\n",
        "        print(soup.entry.updated)\n",
        "        for tag in soup.find_all('entry'):\n",
        "            updated_to_df = pd.to_datetime(tag.updated.string.split('T')[0])\n",
        "            authors_list = \", \".join([n.string for n in tag.find_all('name')])\n",
        "            link_to_df = tag.find(title='pdf').get('href')\n",
        "            row_to_concat = pd.DataFrame({'updated': updated_to_df,\n",
        "                                          'title': tag.title,\n",
        "                                          'summary': tag.summary,\n",
        "                                          'author': authors_list,\n",
        "                                          'link': link_to_df}, index=tag.id)\n",
        "            articles = pd.concat([articles, row_to_concat])\n",
        "      else:\n",
        "        break\n",
        "      start_counter += 1\n",
        "      time.sleep(3)\n",
        "\n",
        "    return articles"
      ],
      "metadata": {
        "id": "6Tbgq-pttVru"
      },
      "execution_count": 57,
      "outputs": []
    },
    {
      "cell_type": "code",
      "execution_count": 58,
      "metadata": {
        "colab": {
          "base_uri": "https://localhost:8080/",
          "height": 398
        },
        "id": "onoXXu5wtMQb",
        "outputId": "8ade3728-447c-4bae-a397-d9098e6d23bf"
      },
      "outputs": [
        {
          "output_type": "stream",
          "name": "stdout",
          "text": [
            "http://export.arxiv.org/api/query?search_query=all:reinforcement+AND+learning&start=0&max_results=200&sortBy=lastUpdatedDate&sortOrder=descending\n",
            "<updated>2022-08-31T15:52:02Z</updated>\n",
            "http://export.arxiv.org/api/query?search_query=all:reinforcement+AND+learning&start=0&max_results=200&sortBy=lastUpdatedDate&sortOrder=descendingall:reinforcement+AND+learning&start=1&max_results=200&sortBy=lastUpdatedDate&sortOrder=descending\n"
          ]
        },
        {
          "output_type": "error",
          "ename": "HTTPError",
          "evalue": "ignored",
          "traceback": [
            "\u001b[0;31m---------------------------------------------------------------------------\u001b[0m",
            "\u001b[0;31mHTTPError\u001b[0m                                 Traceback (most recent call last)",
            "\u001b[0;32m<ipython-input-58-7f475a9f84ac>\u001b[0m in \u001b[0;36m<module>\u001b[0;34m\u001b[0m\n\u001b[0;32m----> 1\u001b[0;31m \u001b[0marticles\u001b[0m \u001b[0;34m=\u001b[0m \u001b[0mmake_query\u001b[0m\u001b[0;34m(\u001b[0m\u001b[0;34m)\u001b[0m\u001b[0;34m\u001b[0m\u001b[0;34m\u001b[0m\u001b[0m\n\u001b[0m",
            "\u001b[0;32m<ipython-input-57-6ce5bf0b8c3a>\u001b[0m in \u001b[0;36mmake_query\u001b[0;34m(url, prefix, start, keywords, time_period)\u001b[0m\n\u001b[1;32m     13\u001b[0m       \u001b[0mprint\u001b[0m\u001b[0;34m(\u001b[0m\u001b[0murl\u001b[0m\u001b[0;34m)\u001b[0m\u001b[0;34m\u001b[0m\u001b[0;34m\u001b[0m\u001b[0m\n\u001b[1;32m     14\u001b[0m       \u001b[0mreq\u001b[0m \u001b[0;34m=\u001b[0m \u001b[0murllib\u001b[0m\u001b[0;34m.\u001b[0m\u001b[0mrequest\u001b[0m\u001b[0;34m.\u001b[0m\u001b[0mRequest\u001b[0m\u001b[0;34m(\u001b[0m\u001b[0murl\u001b[0m\u001b[0;34m)\u001b[0m\u001b[0;34m\u001b[0m\u001b[0;34m\u001b[0m\u001b[0m\n\u001b[0;32m---> 15\u001b[0;31m       \u001b[0;32mwith\u001b[0m \u001b[0murllib\u001b[0m\u001b[0;34m.\u001b[0m\u001b[0mrequest\u001b[0m\u001b[0;34m.\u001b[0m\u001b[0murlopen\u001b[0m\u001b[0;34m(\u001b[0m\u001b[0mreq\u001b[0m\u001b[0;34m)\u001b[0m \u001b[0;32mas\u001b[0m \u001b[0mresponse\u001b[0m\u001b[0;34m:\u001b[0m\u001b[0;34m\u001b[0m\u001b[0;34m\u001b[0m\u001b[0m\n\u001b[0m\u001b[1;32m     16\u001b[0m           \u001b[0;32mif\u001b[0m \u001b[0mresponse\u001b[0m\u001b[0;34m.\u001b[0m\u001b[0mstatus\u001b[0m\u001b[0;34m==\u001b[0m\u001b[0;36m200\u001b[0m\u001b[0;34m:\u001b[0m\u001b[0;34m\u001b[0m\u001b[0;34m\u001b[0m\u001b[0m\n\u001b[1;32m     17\u001b[0m               \u001b[0msoup\u001b[0m \u001b[0;34m=\u001b[0m \u001b[0mBeautifulSoup\u001b[0m\u001b[0;34m(\u001b[0m\u001b[0mresponse\u001b[0m\u001b[0;34m,\u001b[0m \u001b[0;34m'xml'\u001b[0m\u001b[0;34m)\u001b[0m\u001b[0;34m\u001b[0m\u001b[0;34m\u001b[0m\u001b[0m\n",
            "\u001b[0;32m/usr/lib/python3.7/urllib/request.py\u001b[0m in \u001b[0;36murlopen\u001b[0;34m(url, data, timeout, cafile, capath, cadefault, context)\u001b[0m\n\u001b[1;32m    220\u001b[0m     \u001b[0;32melse\u001b[0m\u001b[0;34m:\u001b[0m\u001b[0;34m\u001b[0m\u001b[0;34m\u001b[0m\u001b[0m\n\u001b[1;32m    221\u001b[0m         \u001b[0mopener\u001b[0m \u001b[0;34m=\u001b[0m \u001b[0m_opener\u001b[0m\u001b[0;34m\u001b[0m\u001b[0;34m\u001b[0m\u001b[0m\n\u001b[0;32m--> 222\u001b[0;31m     \u001b[0;32mreturn\u001b[0m \u001b[0mopener\u001b[0m\u001b[0;34m.\u001b[0m\u001b[0mopen\u001b[0m\u001b[0;34m(\u001b[0m\u001b[0murl\u001b[0m\u001b[0;34m,\u001b[0m \u001b[0mdata\u001b[0m\u001b[0;34m,\u001b[0m \u001b[0mtimeout\u001b[0m\u001b[0;34m)\u001b[0m\u001b[0;34m\u001b[0m\u001b[0;34m\u001b[0m\u001b[0m\n\u001b[0m\u001b[1;32m    223\u001b[0m \u001b[0;34m\u001b[0m\u001b[0m\n\u001b[1;32m    224\u001b[0m \u001b[0;32mdef\u001b[0m \u001b[0minstall_opener\u001b[0m\u001b[0;34m(\u001b[0m\u001b[0mopener\u001b[0m\u001b[0;34m)\u001b[0m\u001b[0;34m:\u001b[0m\u001b[0;34m\u001b[0m\u001b[0;34m\u001b[0m\u001b[0m\n",
            "\u001b[0;32m/usr/lib/python3.7/urllib/request.py\u001b[0m in \u001b[0;36mopen\u001b[0;34m(self, fullurl, data, timeout)\u001b[0m\n\u001b[1;32m    529\u001b[0m         \u001b[0;32mfor\u001b[0m \u001b[0mprocessor\u001b[0m \u001b[0;32min\u001b[0m \u001b[0mself\u001b[0m\u001b[0;34m.\u001b[0m\u001b[0mprocess_response\u001b[0m\u001b[0;34m.\u001b[0m\u001b[0mget\u001b[0m\u001b[0;34m(\u001b[0m\u001b[0mprotocol\u001b[0m\u001b[0;34m,\u001b[0m \u001b[0;34m[\u001b[0m\u001b[0;34m]\u001b[0m\u001b[0;34m)\u001b[0m\u001b[0;34m:\u001b[0m\u001b[0;34m\u001b[0m\u001b[0;34m\u001b[0m\u001b[0m\n\u001b[1;32m    530\u001b[0m             \u001b[0mmeth\u001b[0m \u001b[0;34m=\u001b[0m \u001b[0mgetattr\u001b[0m\u001b[0;34m(\u001b[0m\u001b[0mprocessor\u001b[0m\u001b[0;34m,\u001b[0m \u001b[0mmeth_name\u001b[0m\u001b[0;34m)\u001b[0m\u001b[0;34m\u001b[0m\u001b[0;34m\u001b[0m\u001b[0m\n\u001b[0;32m--> 531\u001b[0;31m             \u001b[0mresponse\u001b[0m \u001b[0;34m=\u001b[0m \u001b[0mmeth\u001b[0m\u001b[0;34m(\u001b[0m\u001b[0mreq\u001b[0m\u001b[0;34m,\u001b[0m \u001b[0mresponse\u001b[0m\u001b[0;34m)\u001b[0m\u001b[0;34m\u001b[0m\u001b[0;34m\u001b[0m\u001b[0m\n\u001b[0m\u001b[1;32m    532\u001b[0m \u001b[0;34m\u001b[0m\u001b[0m\n\u001b[1;32m    533\u001b[0m         \u001b[0;32mreturn\u001b[0m \u001b[0mresponse\u001b[0m\u001b[0;34m\u001b[0m\u001b[0;34m\u001b[0m\u001b[0m\n",
            "\u001b[0;32m/usr/lib/python3.7/urllib/request.py\u001b[0m in \u001b[0;36mhttp_response\u001b[0;34m(self, request, response)\u001b[0m\n\u001b[1;32m    639\u001b[0m         \u001b[0;32mif\u001b[0m \u001b[0;32mnot\u001b[0m \u001b[0;34m(\u001b[0m\u001b[0;36m200\u001b[0m \u001b[0;34m<=\u001b[0m \u001b[0mcode\u001b[0m \u001b[0;34m<\u001b[0m \u001b[0;36m300\u001b[0m\u001b[0;34m)\u001b[0m\u001b[0;34m:\u001b[0m\u001b[0;34m\u001b[0m\u001b[0;34m\u001b[0m\u001b[0m\n\u001b[1;32m    640\u001b[0m             response = self.parent.error(\n\u001b[0;32m--> 641\u001b[0;31m                 'http', request, response, code, msg, hdrs)\n\u001b[0m\u001b[1;32m    642\u001b[0m \u001b[0;34m\u001b[0m\u001b[0m\n\u001b[1;32m    643\u001b[0m         \u001b[0;32mreturn\u001b[0m \u001b[0mresponse\u001b[0m\u001b[0;34m\u001b[0m\u001b[0;34m\u001b[0m\u001b[0m\n",
            "\u001b[0;32m/usr/lib/python3.7/urllib/request.py\u001b[0m in \u001b[0;36merror\u001b[0;34m(self, proto, *args)\u001b[0m\n\u001b[1;32m    567\u001b[0m         \u001b[0;32mif\u001b[0m \u001b[0mhttp_err\u001b[0m\u001b[0;34m:\u001b[0m\u001b[0;34m\u001b[0m\u001b[0;34m\u001b[0m\u001b[0m\n\u001b[1;32m    568\u001b[0m             \u001b[0margs\u001b[0m \u001b[0;34m=\u001b[0m \u001b[0;34m(\u001b[0m\u001b[0mdict\u001b[0m\u001b[0;34m,\u001b[0m \u001b[0;34m'default'\u001b[0m\u001b[0;34m,\u001b[0m \u001b[0;34m'http_error_default'\u001b[0m\u001b[0;34m)\u001b[0m \u001b[0;34m+\u001b[0m \u001b[0morig_args\u001b[0m\u001b[0;34m\u001b[0m\u001b[0;34m\u001b[0m\u001b[0m\n\u001b[0;32m--> 569\u001b[0;31m             \u001b[0;32mreturn\u001b[0m \u001b[0mself\u001b[0m\u001b[0;34m.\u001b[0m\u001b[0m_call_chain\u001b[0m\u001b[0;34m(\u001b[0m\u001b[0;34m*\u001b[0m\u001b[0margs\u001b[0m\u001b[0;34m)\u001b[0m\u001b[0;34m\u001b[0m\u001b[0;34m\u001b[0m\u001b[0m\n\u001b[0m\u001b[1;32m    570\u001b[0m \u001b[0;34m\u001b[0m\u001b[0m\n\u001b[1;32m    571\u001b[0m \u001b[0;31m# XXX probably also want an abstract factory that knows when it makes\u001b[0m\u001b[0;34m\u001b[0m\u001b[0;34m\u001b[0m\u001b[0;34m\u001b[0m\u001b[0m\n",
            "\u001b[0;32m/usr/lib/python3.7/urllib/request.py\u001b[0m in \u001b[0;36m_call_chain\u001b[0;34m(self, chain, kind, meth_name, *args)\u001b[0m\n\u001b[1;32m    501\u001b[0m         \u001b[0;32mfor\u001b[0m \u001b[0mhandler\u001b[0m \u001b[0;32min\u001b[0m \u001b[0mhandlers\u001b[0m\u001b[0;34m:\u001b[0m\u001b[0;34m\u001b[0m\u001b[0;34m\u001b[0m\u001b[0m\n\u001b[1;32m    502\u001b[0m             \u001b[0mfunc\u001b[0m \u001b[0;34m=\u001b[0m \u001b[0mgetattr\u001b[0m\u001b[0;34m(\u001b[0m\u001b[0mhandler\u001b[0m\u001b[0;34m,\u001b[0m \u001b[0mmeth_name\u001b[0m\u001b[0;34m)\u001b[0m\u001b[0;34m\u001b[0m\u001b[0;34m\u001b[0m\u001b[0m\n\u001b[0;32m--> 503\u001b[0;31m             \u001b[0mresult\u001b[0m \u001b[0;34m=\u001b[0m \u001b[0mfunc\u001b[0m\u001b[0;34m(\u001b[0m\u001b[0;34m*\u001b[0m\u001b[0margs\u001b[0m\u001b[0;34m)\u001b[0m\u001b[0;34m\u001b[0m\u001b[0;34m\u001b[0m\u001b[0m\n\u001b[0m\u001b[1;32m    504\u001b[0m             \u001b[0;32mif\u001b[0m \u001b[0mresult\u001b[0m \u001b[0;32mis\u001b[0m \u001b[0;32mnot\u001b[0m \u001b[0;32mNone\u001b[0m\u001b[0;34m:\u001b[0m\u001b[0;34m\u001b[0m\u001b[0;34m\u001b[0m\u001b[0m\n\u001b[1;32m    505\u001b[0m                 \u001b[0;32mreturn\u001b[0m \u001b[0mresult\u001b[0m\u001b[0;34m\u001b[0m\u001b[0;34m\u001b[0m\u001b[0m\n",
            "\u001b[0;32m/usr/lib/python3.7/urllib/request.py\u001b[0m in \u001b[0;36mhttp_error_default\u001b[0;34m(self, req, fp, code, msg, hdrs)\u001b[0m\n\u001b[1;32m    647\u001b[0m \u001b[0;32mclass\u001b[0m \u001b[0mHTTPDefaultErrorHandler\u001b[0m\u001b[0;34m(\u001b[0m\u001b[0mBaseHandler\u001b[0m\u001b[0;34m)\u001b[0m\u001b[0;34m:\u001b[0m\u001b[0;34m\u001b[0m\u001b[0;34m\u001b[0m\u001b[0m\n\u001b[1;32m    648\u001b[0m     \u001b[0;32mdef\u001b[0m \u001b[0mhttp_error_default\u001b[0m\u001b[0;34m(\u001b[0m\u001b[0mself\u001b[0m\u001b[0;34m,\u001b[0m \u001b[0mreq\u001b[0m\u001b[0;34m,\u001b[0m \u001b[0mfp\u001b[0m\u001b[0;34m,\u001b[0m \u001b[0mcode\u001b[0m\u001b[0;34m,\u001b[0m \u001b[0mmsg\u001b[0m\u001b[0;34m,\u001b[0m \u001b[0mhdrs\u001b[0m\u001b[0;34m)\u001b[0m\u001b[0;34m:\u001b[0m\u001b[0;34m\u001b[0m\u001b[0;34m\u001b[0m\u001b[0m\n\u001b[0;32m--> 649\u001b[0;31m         \u001b[0;32mraise\u001b[0m \u001b[0mHTTPError\u001b[0m\u001b[0;34m(\u001b[0m\u001b[0mreq\u001b[0m\u001b[0;34m.\u001b[0m\u001b[0mfull_url\u001b[0m\u001b[0;34m,\u001b[0m \u001b[0mcode\u001b[0m\u001b[0;34m,\u001b[0m \u001b[0mmsg\u001b[0m\u001b[0;34m,\u001b[0m \u001b[0mhdrs\u001b[0m\u001b[0;34m,\u001b[0m \u001b[0mfp\u001b[0m\u001b[0;34m)\u001b[0m\u001b[0;34m\u001b[0m\u001b[0;34m\u001b[0m\u001b[0m\n\u001b[0m\u001b[1;32m    650\u001b[0m \u001b[0;34m\u001b[0m\u001b[0m\n\u001b[1;32m    651\u001b[0m \u001b[0;32mclass\u001b[0m \u001b[0mHTTPRedirectHandler\u001b[0m\u001b[0;34m(\u001b[0m\u001b[0mBaseHandler\u001b[0m\u001b[0;34m)\u001b[0m\u001b[0;34m:\u001b[0m\u001b[0;34m\u001b[0m\u001b[0;34m\u001b[0m\u001b[0m\n",
            "\u001b[0;31mHTTPError\u001b[0m: HTTP Error 400: Bad Request"
          ]
        }
      ],
      "source": [
        "articles = make_query()"
      ]
    },
    {
      "cell_type": "code",
      "source": [
        "datetime.datetime(*[int(i) for i in soup.entry.updated.string.split('T')[0].split('-')])"
      ],
      "metadata": {
        "id": "3pFesn9LY0fI",
        "outputId": "0e1452a6-3603-47f8-c4ca-70d0311f7a9c",
        "colab": {
          "base_uri": "https://localhost:8080/"
        }
      },
      "execution_count": 47,
      "outputs": [
        {
          "output_type": "execute_result",
          "data": {
            "text/plain": [
              "datetime.datetime(2022, 8, 31, 0, 0)"
            ]
          },
          "metadata": {},
          "execution_count": 47
        }
      ]
    },
    {
      "cell_type": "code",
      "source": [
        "datetime.datetime(2022,8,31)"
      ],
      "metadata": {
        "id": "sWFT89kuX6ZC",
        "outputId": "57f1500d-2846-4b16-a046-e113e071a682",
        "colab": {
          "base_uri": "https://localhost:8080/"
        }
      },
      "execution_count": 39,
      "outputs": [
        {
          "output_type": "execute_result",
          "data": {
            "text/plain": [
              "datetime.datetime(2022, 8, 31, 0, 0)"
            ]
          },
          "metadata": {},
          "execution_count": 39
        }
      ]
    },
    {
      "cell_type": "code",
      "source": [
        "articles.sample(10)"
      ],
      "metadata": {
        "id": "u5u0DJYMtjIo",
        "colab": {
          "base_uri": "https://localhost:8080/",
          "height": 363
        },
        "outputId": "3c46225f-0215-40a9-8409-d9340d758150"
      },
      "execution_count": 29,
      "outputs": [
        {
          "output_type": "execute_result",
          "data": {
            "text/plain": [
              "                                     updated  \\\n",
              "http://arxiv.org/abs/2205.06212v2 2022-07-20   \n",
              "http://arxiv.org/abs/2012.08950v4 2022-08-14   \n",
              "http://arxiv.org/abs/2110.12352v2 2022-07-26   \n",
              "http://arxiv.org/abs/2102.11075v3 2022-06-29   \n",
              "http://arxiv.org/abs/2208.06267v1 2022-08-12   \n",
              "http://arxiv.org/abs/2009.14108v2 2022-06-28   \n",
              "http://arxiv.org/abs/2009.09575v2 2022-07-07   \n",
              "http://arxiv.org/abs/2208.12125v1 2022-08-25   \n",
              "http://arxiv.org/abs/2111.01294v2 2022-08-16   \n",
              "http://arxiv.org/abs/2112.04454v2 2022-07-04   \n",
              "\n",
              "                                                                               title  \\\n",
              "http://arxiv.org/abs/2205.06212v2  Contingency-constrained economic dispatch with...   \n",
              "http://arxiv.org/abs/2012.08950v4  Revocable Deep Reinforcement Learning with Aff...   \n",
              "http://arxiv.org/abs/2110.12352v2  DiffSRL: Learning Dynamical State Representati...   \n",
              "http://arxiv.org/abs/2102.11075v3  SENTINEL: Taming Uncertainty with Ensemble-bas...   \n",
              "http://arxiv.org/abs/2208.06267v1  Causal Imitation Learning with Unobserved Conf...   \n",
              "http://arxiv.org/abs/2009.14108v2  Align-RUDDER: Learning From Few Demonstrations...   \n",
              "http://arxiv.org/abs/2009.09575v2  Human Engagement Providing Evaluative and Info...   \n",
              "http://arxiv.org/abs/2208.12125v1  UAS Navigation in the Real World Using Visual ...   \n",
              "http://arxiv.org/abs/2111.01294v2  Learning to Operate an Electric Vehicle Chargi...   \n",
              "http://arxiv.org/abs/2112.04454v2  Greedy-based Value Representation for Optimal ...   \n",
              "\n",
              "                                                                             summary  \\\n",
              "http://arxiv.org/abs/2205.06212v2    Future power systems will rely heavily on mi...   \n",
              "http://arxiv.org/abs/2012.08950v4    Graph matching (GM) has been a building bloc...   \n",
              "http://arxiv.org/abs/2110.12352v2    Dynamic state representation learning is an ...   \n",
              "http://arxiv.org/abs/2102.11075v3    In this paper, we consider risk-sensitive se...   \n",
              "http://arxiv.org/abs/2208.06267v1    One of the common ways children learn is by ...   \n",
              "http://arxiv.org/abs/2009.14108v2    Reinforcement learning algorithms require ma...   \n",
              "http://arxiv.org/abs/2009.09575v2    Interactive reinforcement learning proposes ...   \n",
              "http://arxiv.org/abs/2208.12125v1    This paper presents a novel end-to-end Unman...   \n",
              "http://arxiv.org/abs/2111.01294v2    The rapid adoption of electric vehicles (EVs...   \n",
              "http://arxiv.org/abs/2112.04454v2    Due to the representation limitation of the ...   \n",
              "\n",
              "                                                                              author  \\\n",
              "http://arxiv.org/abs/2205.06212v2  Michael Eichelbeck, Hannah Markgraf, Matthias ...   \n",
              "http://arxiv.org/abs/2012.08950v4  Chang Liu, Runzhong Wang, Zetian Jiang, Junchi...   \n",
              "http://arxiv.org/abs/2110.12352v2  Sirui Chen, Yunhao Liu, Jialong Li, Shang Wen ...   \n",
              "http://arxiv.org/abs/2102.11075v3  Hannes Eriksson, Debabrota Basu, Mina Alibeigi...   \n",
              "http://arxiv.org/abs/2208.06267v1       Junzhe Zhang, Daniel Kumor, Elias Bareinboim   \n",
              "http://arxiv.org/abs/2009.14108v2  Vihang P. Patil, Markus Hofmarcher, Marius-Con...   \n",
              "http://arxiv.org/abs/2009.09575v2  Adam Bignold, Francisco Cruz, Richard Dazeley,...   \n",
              "http://arxiv.org/abs/2208.12125v1                 Yuci Han, Jianli Wei, Alper Yilmaz   \n",
              "http://arxiv.org/abs/2111.01294v2                  Zuzhao Ye, Yuanqi Gao, Nanpeng Yu   \n",
              "http://arxiv.org/abs/2112.04454v2  Lipeng Wan, Zeyang Liu, Xingyu Chen, Han Wang,...   \n",
              "\n",
              "                                                                link  \n",
              "http://arxiv.org/abs/2205.06212v2  http://arxiv.org/pdf/2205.06212v2  \n",
              "http://arxiv.org/abs/2012.08950v4  http://arxiv.org/pdf/2012.08950v4  \n",
              "http://arxiv.org/abs/2110.12352v2  http://arxiv.org/pdf/2110.12352v2  \n",
              "http://arxiv.org/abs/2102.11075v3  http://arxiv.org/pdf/2102.11075v3  \n",
              "http://arxiv.org/abs/2208.06267v1  http://arxiv.org/pdf/2208.06267v1  \n",
              "http://arxiv.org/abs/2009.14108v2  http://arxiv.org/pdf/2009.14108v2  \n",
              "http://arxiv.org/abs/2009.09575v2  http://arxiv.org/pdf/2009.09575v2  \n",
              "http://arxiv.org/abs/2208.12125v1  http://arxiv.org/pdf/2208.12125v1  \n",
              "http://arxiv.org/abs/2111.01294v2  http://arxiv.org/pdf/2111.01294v2  \n",
              "http://arxiv.org/abs/2112.04454v2  http://arxiv.org/pdf/2112.04454v2  "
            ],
            "text/html": [
              "\n",
              "  <div id=\"df-e88d03e0-72f6-471f-97cf-200b03ea393e\">\n",
              "    <div class=\"colab-df-container\">\n",
              "      <div>\n",
              "<style scoped>\n",
              "    .dataframe tbody tr th:only-of-type {\n",
              "        vertical-align: middle;\n",
              "    }\n",
              "\n",
              "    .dataframe tbody tr th {\n",
              "        vertical-align: top;\n",
              "    }\n",
              "\n",
              "    .dataframe thead th {\n",
              "        text-align: right;\n",
              "    }\n",
              "</style>\n",
              "<table border=\"1\" class=\"dataframe\">\n",
              "  <thead>\n",
              "    <tr style=\"text-align: right;\">\n",
              "      <th></th>\n",
              "      <th>updated</th>\n",
              "      <th>title</th>\n",
              "      <th>summary</th>\n",
              "      <th>author</th>\n",
              "      <th>link</th>\n",
              "    </tr>\n",
              "  </thead>\n",
              "  <tbody>\n",
              "    <tr>\n",
              "      <th>http://arxiv.org/abs/2205.06212v2</th>\n",
              "      <td>2022-07-20</td>\n",
              "      <td>Contingency-constrained economic dispatch with...</td>\n",
              "      <td>Future power systems will rely heavily on mi...</td>\n",
              "      <td>Michael Eichelbeck, Hannah Markgraf, Matthias ...</td>\n",
              "      <td>http://arxiv.org/pdf/2205.06212v2</td>\n",
              "    </tr>\n",
              "    <tr>\n",
              "      <th>http://arxiv.org/abs/2012.08950v4</th>\n",
              "      <td>2022-08-14</td>\n",
              "      <td>Revocable Deep Reinforcement Learning with Aff...</td>\n",
              "      <td>Graph matching (GM) has been a building bloc...</td>\n",
              "      <td>Chang Liu, Runzhong Wang, Zetian Jiang, Junchi...</td>\n",
              "      <td>http://arxiv.org/pdf/2012.08950v4</td>\n",
              "    </tr>\n",
              "    <tr>\n",
              "      <th>http://arxiv.org/abs/2110.12352v2</th>\n",
              "      <td>2022-07-26</td>\n",
              "      <td>DiffSRL: Learning Dynamical State Representati...</td>\n",
              "      <td>Dynamic state representation learning is an ...</td>\n",
              "      <td>Sirui Chen, Yunhao Liu, Jialong Li, Shang Wen ...</td>\n",
              "      <td>http://arxiv.org/pdf/2110.12352v2</td>\n",
              "    </tr>\n",
              "    <tr>\n",
              "      <th>http://arxiv.org/abs/2102.11075v3</th>\n",
              "      <td>2022-06-29</td>\n",
              "      <td>SENTINEL: Taming Uncertainty with Ensemble-bas...</td>\n",
              "      <td>In this paper, we consider risk-sensitive se...</td>\n",
              "      <td>Hannes Eriksson, Debabrota Basu, Mina Alibeigi...</td>\n",
              "      <td>http://arxiv.org/pdf/2102.11075v3</td>\n",
              "    </tr>\n",
              "    <tr>\n",
              "      <th>http://arxiv.org/abs/2208.06267v1</th>\n",
              "      <td>2022-08-12</td>\n",
              "      <td>Causal Imitation Learning with Unobserved Conf...</td>\n",
              "      <td>One of the common ways children learn is by ...</td>\n",
              "      <td>Junzhe Zhang, Daniel Kumor, Elias Bareinboim</td>\n",
              "      <td>http://arxiv.org/pdf/2208.06267v1</td>\n",
              "    </tr>\n",
              "    <tr>\n",
              "      <th>http://arxiv.org/abs/2009.14108v2</th>\n",
              "      <td>2022-06-28</td>\n",
              "      <td>Align-RUDDER: Learning From Few Demonstrations...</td>\n",
              "      <td>Reinforcement learning algorithms require ma...</td>\n",
              "      <td>Vihang P. Patil, Markus Hofmarcher, Marius-Con...</td>\n",
              "      <td>http://arxiv.org/pdf/2009.14108v2</td>\n",
              "    </tr>\n",
              "    <tr>\n",
              "      <th>http://arxiv.org/abs/2009.09575v2</th>\n",
              "      <td>2022-07-07</td>\n",
              "      <td>Human Engagement Providing Evaluative and Info...</td>\n",
              "      <td>Interactive reinforcement learning proposes ...</td>\n",
              "      <td>Adam Bignold, Francisco Cruz, Richard Dazeley,...</td>\n",
              "      <td>http://arxiv.org/pdf/2009.09575v2</td>\n",
              "    </tr>\n",
              "    <tr>\n",
              "      <th>http://arxiv.org/abs/2208.12125v1</th>\n",
              "      <td>2022-08-25</td>\n",
              "      <td>UAS Navigation in the Real World Using Visual ...</td>\n",
              "      <td>This paper presents a novel end-to-end Unman...</td>\n",
              "      <td>Yuci Han, Jianli Wei, Alper Yilmaz</td>\n",
              "      <td>http://arxiv.org/pdf/2208.12125v1</td>\n",
              "    </tr>\n",
              "    <tr>\n",
              "      <th>http://arxiv.org/abs/2111.01294v2</th>\n",
              "      <td>2022-08-16</td>\n",
              "      <td>Learning to Operate an Electric Vehicle Chargi...</td>\n",
              "      <td>The rapid adoption of electric vehicles (EVs...</td>\n",
              "      <td>Zuzhao Ye, Yuanqi Gao, Nanpeng Yu</td>\n",
              "      <td>http://arxiv.org/pdf/2111.01294v2</td>\n",
              "    </tr>\n",
              "    <tr>\n",
              "      <th>http://arxiv.org/abs/2112.04454v2</th>\n",
              "      <td>2022-07-04</td>\n",
              "      <td>Greedy-based Value Representation for Optimal ...</td>\n",
              "      <td>Due to the representation limitation of the ...</td>\n",
              "      <td>Lipeng Wan, Zeyang Liu, Xingyu Chen, Han Wang,...</td>\n",
              "      <td>http://arxiv.org/pdf/2112.04454v2</td>\n",
              "    </tr>\n",
              "  </tbody>\n",
              "</table>\n",
              "</div>\n",
              "      <button class=\"colab-df-convert\" onclick=\"convertToInteractive('df-e88d03e0-72f6-471f-97cf-200b03ea393e')\"\n",
              "              title=\"Convert this dataframe to an interactive table.\"\n",
              "              style=\"display:none;\">\n",
              "        \n",
              "  <svg xmlns=\"http://www.w3.org/2000/svg\" height=\"24px\"viewBox=\"0 0 24 24\"\n",
              "       width=\"24px\">\n",
              "    <path d=\"M0 0h24v24H0V0z\" fill=\"none\"/>\n",
              "    <path d=\"M18.56 5.44l.94 2.06.94-2.06 2.06-.94-2.06-.94-.94-2.06-.94 2.06-2.06.94zm-11 1L8.5 8.5l.94-2.06 2.06-.94-2.06-.94L8.5 2.5l-.94 2.06-2.06.94zm10 10l.94 2.06.94-2.06 2.06-.94-2.06-.94-.94-2.06-.94 2.06-2.06.94z\"/><path d=\"M17.41 7.96l-1.37-1.37c-.4-.4-.92-.59-1.43-.59-.52 0-1.04.2-1.43.59L10.3 9.45l-7.72 7.72c-.78.78-.78 2.05 0 2.83L4 21.41c.39.39.9.59 1.41.59.51 0 1.02-.2 1.41-.59l7.78-7.78 2.81-2.81c.8-.78.8-2.07 0-2.86zM5.41 20L4 18.59l7.72-7.72 1.47 1.35L5.41 20z\"/>\n",
              "  </svg>\n",
              "      </button>\n",
              "      \n",
              "  <style>\n",
              "    .colab-df-container {\n",
              "      display:flex;\n",
              "      flex-wrap:wrap;\n",
              "      gap: 12px;\n",
              "    }\n",
              "\n",
              "    .colab-df-convert {\n",
              "      background-color: #E8F0FE;\n",
              "      border: none;\n",
              "      border-radius: 50%;\n",
              "      cursor: pointer;\n",
              "      display: none;\n",
              "      fill: #1967D2;\n",
              "      height: 32px;\n",
              "      padding: 0 0 0 0;\n",
              "      width: 32px;\n",
              "    }\n",
              "\n",
              "    .colab-df-convert:hover {\n",
              "      background-color: #E2EBFA;\n",
              "      box-shadow: 0px 1px 2px rgba(60, 64, 67, 0.3), 0px 1px 3px 1px rgba(60, 64, 67, 0.15);\n",
              "      fill: #174EA6;\n",
              "    }\n",
              "\n",
              "    [theme=dark] .colab-df-convert {\n",
              "      background-color: #3B4455;\n",
              "      fill: #D2E3FC;\n",
              "    }\n",
              "\n",
              "    [theme=dark] .colab-df-convert:hover {\n",
              "      background-color: #434B5C;\n",
              "      box-shadow: 0px 1px 3px 1px rgba(0, 0, 0, 0.15);\n",
              "      filter: drop-shadow(0px 1px 2px rgba(0, 0, 0, 0.3));\n",
              "      fill: #FFFFFF;\n",
              "    }\n",
              "  </style>\n",
              "\n",
              "      <script>\n",
              "        const buttonEl =\n",
              "          document.querySelector('#df-e88d03e0-72f6-471f-97cf-200b03ea393e button.colab-df-convert');\n",
              "        buttonEl.style.display =\n",
              "          google.colab.kernel.accessAllowed ? 'block' : 'none';\n",
              "\n",
              "        async function convertToInteractive(key) {\n",
              "          const element = document.querySelector('#df-e88d03e0-72f6-471f-97cf-200b03ea393e');\n",
              "          const dataTable =\n",
              "            await google.colab.kernel.invokeFunction('convertToInteractive',\n",
              "                                                     [key], {});\n",
              "          if (!dataTable) return;\n",
              "\n",
              "          const docLinkHtml = 'Like what you see? Visit the ' +\n",
              "            '<a target=\"_blank\" href=https://colab.research.google.com/notebooks/data_table.ipynb>data table notebook</a>'\n",
              "            + ' to learn more about interactive tables.';\n",
              "          element.innerHTML = '';\n",
              "          dataTable['output_type'] = 'display_data';\n",
              "          await google.colab.output.renderOutput(dataTable, element);\n",
              "          const docLink = document.createElement('div');\n",
              "          docLink.innerHTML = docLinkHtml;\n",
              "          element.appendChild(docLink);\n",
              "        }\n",
              "      </script>\n",
              "    </div>\n",
              "  </div>\n",
              "  "
            ]
          },
          "metadata": {},
          "execution_count": 29
        }
      ]
    },
    {
      "cell_type": "code",
      "source": [
        "articles.updated.value_counts()"
      ],
      "metadata": {
        "colab": {
          "base_uri": "https://localhost:8080/"
        },
        "id": "TAZMbKetbJE6",
        "outputId": "08ceaff5-2125-4f52-ae3b-b4ac8197efd7"
      },
      "execution_count": 30,
      "outputs": [
        {
          "output_type": "execute_result",
          "data": {
            "text/plain": [
              "2022-07-07    30\n",
              "2022-06-28    28\n",
              "2022-06-21    27\n",
              "2022-07-01    26\n",
              "2022-07-13    23\n",
              "              ..\n",
              "2022-07-09     5\n",
              "2022-08-20     5\n",
              "2022-07-10     5\n",
              "2022-08-13     4\n",
              "2022-08-14     3\n",
              "Name: updated, Length: 72, dtype: int64"
            ]
          },
          "metadata": {},
          "execution_count": 30
        }
      ]
    },
    {
      "cell_type": "code",
      "source": [
        "articles.info()"
      ],
      "metadata": {
        "colab": {
          "base_uri": "https://localhost:8080/"
        },
        "id": "m3JYF40vEYHG",
        "outputId": "bfa1571a-cf67-4da2-ceb6-bd20036e22b7"
      },
      "execution_count": null,
      "outputs": [
        {
          "output_type": "stream",
          "name": "stdout",
          "text": [
            "<class 'pandas.core.frame.DataFrame'>\n",
            "Index: 1000 entries, http://arxiv.org/abs/2208.13764v1 to http://arxiv.org/abs/2208.10993v1\n",
            "Data columns (total 5 columns):\n",
            " #   Column   Non-Null Count  Dtype         \n",
            "---  ------   --------------  -----         \n",
            " 0   updated  1000 non-null   datetime64[ns]\n",
            " 1   title    1000 non-null   object        \n",
            " 2   summary  1000 non-null   object        \n",
            " 3   author   1000 non-null   object        \n",
            " 4   link     1000 non-null   object        \n",
            "dtypes: datetime64[ns](1), object(4)\n",
            "memory usage: 46.9+ KB\n"
          ]
        }
      ]
    },
    {
      "cell_type": "code",
      "source": [],
      "metadata": {
        "id": "W7fbWqnFFVED"
      },
      "execution_count": null,
      "outputs": []
    }
  ]
}