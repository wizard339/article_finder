{
  "nbformat": 4,
  "nbformat_minor": 0,
  "metadata": {
    "colab": {
      "name": "article_finder.ipynb",
      "provenance": [],
      "authorship_tag": "ABX9TyMWH67dU6dnYWy++TZw8alO",
      "include_colab_link": true
    },
    "kernelspec": {
      "name": "python3",
      "display_name": "Python 3"
    },
    "language_info": {
      "name": "python"
    }
  },
  "cells": [
    {
      "cell_type": "markdown",
      "metadata": {
        "id": "view-in-github",
        "colab_type": "text"
      },
      "source": [
        "<a href=\"https://colab.research.google.com/github/wizard339/article_finder/blob/main/article_finder.ipynb\" target=\"_parent\"><img src=\"https://colab.research.google.com/assets/colab-badge.svg\" alt=\"Open In Colab\"/></a>"
      ]
    },
    {
      "cell_type": "code",
      "source": [
        "import urllib.request\n",
        "import urllib.parse\n",
        "import argparse\n",
        "import xml.etree.ElementTree as ET\n",
        "from bs4 import BeautifulSoup\n",
        "import pandas as pd"
      ],
      "metadata": {
        "id": "79P-1ebmtTGi"
      },
      "execution_count": 1,
      "outputs": []
    },
    {
      "cell_type": "code",
      "source": [
        "BASE_URL = 'http://export.arxiv.org/api/query?search_query='\n",
        "PREFIX = {'Title': 'ti',\n",
        "          'Author': 'au',\n",
        "          'Abstract': 'abs',\n",
        "          'Comment': 'co',\n",
        "          'Journal Reference': 'jr',\n",
        "          'Subject Category': 'cat',\n",
        "          'Report Number': 'rn',\n",
        "          'ID': 'id',\n",
        "          'All': 'all'}\n",
        "\n",
        "# input_keywords = input('Please enter the keywords or search phrases separated by commas: ')\n",
        "input_keywords = 'reinforcement learning'"
      ],
      "metadata": {
        "id": "00472c1PtVvC"
      },
      "execution_count": 2,
      "outputs": []
    },
    {
      "cell_type": "code",
      "source": [
        "def make_query(url=BASE_URL, prefix=PREFIX['All'], keywords=input_keywords):\n",
        "    keywords = urllib.parse.quote_plus(keywords)\n",
        "    url = f'{url}{prefix}:{keywords}&start=0&max_results=1000&sortBy=lastUpdatedDate&sortOrder=descending'\n",
        "    print(url)\n",
        "    req = urllib.request.Request(url)\n",
        "    with urllib.request.urlopen(req) as response:\n",
        "        if response.status == 200:\n",
        "            soup = BeautifulSoup(response, 'xml')\n",
        "        else:\n",
        "            raise ValueError('Please, check the correctness of the request')\n",
        "    cols = ['updated', 'title', 'summary', 'author', 'link']\n",
        "    articles = pd.DataFrame(columns=cols)\n",
        "\n",
        "    for tag in soup.find_all('entry'):\n",
        "        updated_to_df = pd.to_datetime(tag.updated.string.split('T')[0])\n",
        "        authors_list = \", \".join([n.string for n in tag.find_all('name')])\n",
        "        link_to_df = tag.find(title='pdf').get('href')\n",
        "        row_to_concat = pd.DataFrame({'updated': updated_to_df,\n",
        "                                      'title': tag.title,\n",
        "                                      'summary': tag.summary,\n",
        "                                      'author': authors_list,\n",
        "                                      'link': link_to_df}, index=tag.id)\n",
        "        articles = pd.concat([articles, row_to_concat])\n",
        "\n",
        "    return articles"
      ],
      "metadata": {
        "id": "6Tbgq-pttVru"
      },
      "execution_count": 11,
      "outputs": []
    },
    {
      "cell_type": "code",
      "execution_count": 12,
      "metadata": {
        "colab": {
          "base_uri": "https://localhost:8080/"
        },
        "id": "onoXXu5wtMQb",
        "outputId": "d6334007-f9ed-46c4-fde9-4262762541eb"
      },
      "outputs": [
        {
          "output_type": "stream",
          "name": "stdout",
          "text": [
            "http://export.arxiv.org/api/query?search_query=all:reinforcement+learning&start=0&max_results=1000&sortBy=lastUpdatedDate&sortOrder=descending\n"
          ]
        }
      ],
      "source": [
        "articles = make_query()"
      ]
    },
    {
      "cell_type": "code",
      "source": [
        "articles.sample(10)"
      ],
      "metadata": {
        "id": "u5u0DJYMtjIo",
        "colab": {
          "base_uri": "https://localhost:8080/",
          "height": 580
        },
        "outputId": "2be3a706-a2aa-40c9-cbeb-63b16da05eb4"
      },
      "execution_count": 15,
      "outputs": [
        {
          "output_type": "execute_result",
          "data": {
            "text/plain": [
              "                                     updated  \\\n",
              "http://arxiv.org/abs/2202.09954v2 2022-08-27   \n",
              "http://arxiv.org/abs/2203.01376v3 2022-08-24   \n",
              "http://arxiv.org/abs/2208.11907v1 2022-08-25   \n",
              "http://arxiv.org/abs/2208.09735v2 2022-08-26   \n",
              "http://arxiv.org/abs/2208.13027v1 2022-08-27   \n",
              "http://arxiv.org/abs/2208.13600v1 2022-08-29   \n",
              "http://arxiv.org/abs/2203.15722v2 2022-08-23   \n",
              "http://arxiv.org/abs/2208.13154v1 2022-08-28   \n",
              "http://arxiv.org/abs/2208.13685v1 2022-08-29   \n",
              "http://arxiv.org/abs/2203.07825v2 2022-08-29   \n",
              "\n",
              "                                                                               title  \\\n",
              "http://arxiv.org/abs/2202.09954v2  Theoretical Analysis of Deep Neural Networks i...   \n",
              "http://arxiv.org/abs/2203.01376v3  Homogeneous ice nucleation in an ab initio mac...   \n",
              "http://arxiv.org/abs/2208.11907v1  Time Series Clustering with an EM algorithm fo...   \n",
              "http://arxiv.org/abs/2208.09735v2  How Small Amount of Data Sharing Benefits Dist...   \n",
              "http://arxiv.org/abs/2208.13027v1  Improving debris flow evacuation alerts in Tai...   \n",
              "http://arxiv.org/abs/2208.13600v1  Towards Robust Face Recognition with Comprehen...   \n",
              "http://arxiv.org/abs/2203.15722v2  Transformer Network-based Reinforcement Learni...   \n",
              "http://arxiv.org/abs/2208.13154v1  Asynchronous Training Schemes in Distributed L...   \n",
              "http://arxiv.org/abs/2208.13685v1  FedEgo: Privacy-preserving Personalized Federa...   \n",
              "http://arxiv.org/abs/2203.07825v2  SPA-VAE: Similar-Parts-Assignment for Unsuperv...   \n",
              "\n",
              "                                                                             summary  \\\n",
              "http://arxiv.org/abs/2202.09954v2    Recently, deep neural network (DNN)-based ph...   \n",
              "http://arxiv.org/abs/2203.01376v3    Molecular simulations have provided valuable...   \n",
              "http://arxiv.org/abs/2208.11907v1    In this paper, we consider the task of clust...   \n",
              "http://arxiv.org/abs/2208.09735v2    While distributed optimization algorithms ha...   \n",
              "http://arxiv.org/abs/2208.13027v1    Taiwan has the highest susceptibility to and...   \n",
              "http://arxiv.org/abs/2208.13600v1    Data cleaning, architecture, and loss functi...   \n",
              "http://arxiv.org/abs/2203.15722v2    In this article, for the first time, we prop...   \n",
              "http://arxiv.org/abs/2208.13154v1    In the context of distributed deep learning,...   \n",
              "http://arxiv.org/abs/2208.13685v1    As special information carriers containing b...   \n",
              "http://arxiv.org/abs/2203.07825v2    This paper addresses the problem of unsuperv...   \n",
              "\n",
              "                                                                              author  \\\n",
              "http://arxiv.org/abs/2202.09954v2  Jun Liu, Haitao Zhao, Dongtang Ma, Kai Mei, Ji...   \n",
              "http://arxiv.org/abs/2203.01376v3  Pablo M. Piaggi, Jack Weis, Athanassios Z. Pan...   \n",
              "http://arxiv.org/abs/2208.11907v1  Ryohei Umatani, Takashi Imai, Kaoru Kawamoto, ...   \n",
              "http://arxiv.org/abs/2208.09735v2                               Mingxi Zhu, Yinyu Ye   \n",
              "http://arxiv.org/abs/2208.13027v1  Yi-Lin Tsai, Jeremy Irvin, Suhas Chundi, João ...   \n",
              "http://arxiv.org/abs/2208.13600v1  Manyuan Zhang, Guanglu Song, Yu Liu, Hongsheng Li   \n",
              "http://arxiv.org/abs/2203.15722v2  Hyunwook Park, Minsu Kim, Seongguk Kim, Keunwo...   \n",
              "http://arxiv.org/abs/2208.13154v1  Haoxiang Wang, Zhanhong Jiang, Chao Liu, Soumi...   \n",
              "http://arxiv.org/abs/2208.13685v1  Taolin Zhang, Chuan Chen, Yaomin Chang, Lin Sh...   \n",
              "http://arxiv.org/abs/2203.07825v2           Shidi Li, Christian Walder, Miaomiao Liu   \n",
              "\n",
              "                                                                link  \n",
              "http://arxiv.org/abs/2202.09954v2  http://arxiv.org/pdf/2202.09954v2  \n",
              "http://arxiv.org/abs/2203.01376v3  http://arxiv.org/pdf/2203.01376v3  \n",
              "http://arxiv.org/abs/2208.11907v1  http://arxiv.org/pdf/2208.11907v1  \n",
              "http://arxiv.org/abs/2208.09735v2  http://arxiv.org/pdf/2208.09735v2  \n",
              "http://arxiv.org/abs/2208.13027v1  http://arxiv.org/pdf/2208.13027v1  \n",
              "http://arxiv.org/abs/2208.13600v1  http://arxiv.org/pdf/2208.13600v1  \n",
              "http://arxiv.org/abs/2203.15722v2  http://arxiv.org/pdf/2203.15722v2  \n",
              "http://arxiv.org/abs/2208.13154v1  http://arxiv.org/pdf/2208.13154v1  \n",
              "http://arxiv.org/abs/2208.13685v1  http://arxiv.org/pdf/2208.13685v1  \n",
              "http://arxiv.org/abs/2203.07825v2  http://arxiv.org/pdf/2203.07825v2  "
            ],
            "text/html": [
              "\n",
              "  <div id=\"df-9710c3cb-3e3b-4935-a616-f605313e3aa1\">\n",
              "    <div class=\"colab-df-container\">\n",
              "      <div>\n",
              "<style scoped>\n",
              "    .dataframe tbody tr th:only-of-type {\n",
              "        vertical-align: middle;\n",
              "    }\n",
              "\n",
              "    .dataframe tbody tr th {\n",
              "        vertical-align: top;\n",
              "    }\n",
              "\n",
              "    .dataframe thead th {\n",
              "        text-align: right;\n",
              "    }\n",
              "</style>\n",
              "<table border=\"1\" class=\"dataframe\">\n",
              "  <thead>\n",
              "    <tr style=\"text-align: right;\">\n",
              "      <th></th>\n",
              "      <th>updated</th>\n",
              "      <th>title</th>\n",
              "      <th>summary</th>\n",
              "      <th>author</th>\n",
              "      <th>link</th>\n",
              "    </tr>\n",
              "  </thead>\n",
              "  <tbody>\n",
              "    <tr>\n",
              "      <th>http://arxiv.org/abs/2202.09954v2</th>\n",
              "      <td>2022-08-27</td>\n",
              "      <td>Theoretical Analysis of Deep Neural Networks i...</td>\n",
              "      <td>Recently, deep neural network (DNN)-based ph...</td>\n",
              "      <td>Jun Liu, Haitao Zhao, Dongtang Ma, Kai Mei, Ji...</td>\n",
              "      <td>http://arxiv.org/pdf/2202.09954v2</td>\n",
              "    </tr>\n",
              "    <tr>\n",
              "      <th>http://arxiv.org/abs/2203.01376v3</th>\n",
              "      <td>2022-08-24</td>\n",
              "      <td>Homogeneous ice nucleation in an ab initio mac...</td>\n",
              "      <td>Molecular simulations have provided valuable...</td>\n",
              "      <td>Pablo M. Piaggi, Jack Weis, Athanassios Z. Pan...</td>\n",
              "      <td>http://arxiv.org/pdf/2203.01376v3</td>\n",
              "    </tr>\n",
              "    <tr>\n",
              "      <th>http://arxiv.org/abs/2208.11907v1</th>\n",
              "      <td>2022-08-25</td>\n",
              "      <td>Time Series Clustering with an EM algorithm fo...</td>\n",
              "      <td>In this paper, we consider the task of clust...</td>\n",
              "      <td>Ryohei Umatani, Takashi Imai, Kaoru Kawamoto, ...</td>\n",
              "      <td>http://arxiv.org/pdf/2208.11907v1</td>\n",
              "    </tr>\n",
              "    <tr>\n",
              "      <th>http://arxiv.org/abs/2208.09735v2</th>\n",
              "      <td>2022-08-26</td>\n",
              "      <td>How Small Amount of Data Sharing Benefits Dist...</td>\n",
              "      <td>While distributed optimization algorithms ha...</td>\n",
              "      <td>Mingxi Zhu, Yinyu Ye</td>\n",
              "      <td>http://arxiv.org/pdf/2208.09735v2</td>\n",
              "    </tr>\n",
              "    <tr>\n",
              "      <th>http://arxiv.org/abs/2208.13027v1</th>\n",
              "      <td>2022-08-27</td>\n",
              "      <td>Improving debris flow evacuation alerts in Tai...</td>\n",
              "      <td>Taiwan has the highest susceptibility to and...</td>\n",
              "      <td>Yi-Lin Tsai, Jeremy Irvin, Suhas Chundi, João ...</td>\n",
              "      <td>http://arxiv.org/pdf/2208.13027v1</td>\n",
              "    </tr>\n",
              "    <tr>\n",
              "      <th>http://arxiv.org/abs/2208.13600v1</th>\n",
              "      <td>2022-08-29</td>\n",
              "      <td>Towards Robust Face Recognition with Comprehen...</td>\n",
              "      <td>Data cleaning, architecture, and loss functi...</td>\n",
              "      <td>Manyuan Zhang, Guanglu Song, Yu Liu, Hongsheng Li</td>\n",
              "      <td>http://arxiv.org/pdf/2208.13600v1</td>\n",
              "    </tr>\n",
              "    <tr>\n",
              "      <th>http://arxiv.org/abs/2203.15722v2</th>\n",
              "      <td>2022-08-23</td>\n",
              "      <td>Transformer Network-based Reinforcement Learni...</td>\n",
              "      <td>In this article, for the first time, we prop...</td>\n",
              "      <td>Hyunwook Park, Minsu Kim, Seongguk Kim, Keunwo...</td>\n",
              "      <td>http://arxiv.org/pdf/2203.15722v2</td>\n",
              "    </tr>\n",
              "    <tr>\n",
              "      <th>http://arxiv.org/abs/2208.13154v1</th>\n",
              "      <td>2022-08-28</td>\n",
              "      <td>Asynchronous Training Schemes in Distributed L...</td>\n",
              "      <td>In the context of distributed deep learning,...</td>\n",
              "      <td>Haoxiang Wang, Zhanhong Jiang, Chao Liu, Soumi...</td>\n",
              "      <td>http://arxiv.org/pdf/2208.13154v1</td>\n",
              "    </tr>\n",
              "    <tr>\n",
              "      <th>http://arxiv.org/abs/2208.13685v1</th>\n",
              "      <td>2022-08-29</td>\n",
              "      <td>FedEgo: Privacy-preserving Personalized Federa...</td>\n",
              "      <td>As special information carriers containing b...</td>\n",
              "      <td>Taolin Zhang, Chuan Chen, Yaomin Chang, Lin Sh...</td>\n",
              "      <td>http://arxiv.org/pdf/2208.13685v1</td>\n",
              "    </tr>\n",
              "    <tr>\n",
              "      <th>http://arxiv.org/abs/2203.07825v2</th>\n",
              "      <td>2022-08-29</td>\n",
              "      <td>SPA-VAE: Similar-Parts-Assignment for Unsuperv...</td>\n",
              "      <td>This paper addresses the problem of unsuperv...</td>\n",
              "      <td>Shidi Li, Christian Walder, Miaomiao Liu</td>\n",
              "      <td>http://arxiv.org/pdf/2203.07825v2</td>\n",
              "    </tr>\n",
              "  </tbody>\n",
              "</table>\n",
              "</div>\n",
              "      <button class=\"colab-df-convert\" onclick=\"convertToInteractive('df-9710c3cb-3e3b-4935-a616-f605313e3aa1')\"\n",
              "              title=\"Convert this dataframe to an interactive table.\"\n",
              "              style=\"display:none;\">\n",
              "        \n",
              "  <svg xmlns=\"http://www.w3.org/2000/svg\" height=\"24px\"viewBox=\"0 0 24 24\"\n",
              "       width=\"24px\">\n",
              "    <path d=\"M0 0h24v24H0V0z\" fill=\"none\"/>\n",
              "    <path d=\"M18.56 5.44l.94 2.06.94-2.06 2.06-.94-2.06-.94-.94-2.06-.94 2.06-2.06.94zm-11 1L8.5 8.5l.94-2.06 2.06-.94-2.06-.94L8.5 2.5l-.94 2.06-2.06.94zm10 10l.94 2.06.94-2.06 2.06-.94-2.06-.94-.94-2.06-.94 2.06-2.06.94z\"/><path d=\"M17.41 7.96l-1.37-1.37c-.4-.4-.92-.59-1.43-.59-.52 0-1.04.2-1.43.59L10.3 9.45l-7.72 7.72c-.78.78-.78 2.05 0 2.83L4 21.41c.39.39.9.59 1.41.59.51 0 1.02-.2 1.41-.59l7.78-7.78 2.81-2.81c.8-.78.8-2.07 0-2.86zM5.41 20L4 18.59l7.72-7.72 1.47 1.35L5.41 20z\"/>\n",
              "  </svg>\n",
              "      </button>\n",
              "      \n",
              "  <style>\n",
              "    .colab-df-container {\n",
              "      display:flex;\n",
              "      flex-wrap:wrap;\n",
              "      gap: 12px;\n",
              "    }\n",
              "\n",
              "    .colab-df-convert {\n",
              "      background-color: #E8F0FE;\n",
              "      border: none;\n",
              "      border-radius: 50%;\n",
              "      cursor: pointer;\n",
              "      display: none;\n",
              "      fill: #1967D2;\n",
              "      height: 32px;\n",
              "      padding: 0 0 0 0;\n",
              "      width: 32px;\n",
              "    }\n",
              "\n",
              "    .colab-df-convert:hover {\n",
              "      background-color: #E2EBFA;\n",
              "      box-shadow: 0px 1px 2px rgba(60, 64, 67, 0.3), 0px 1px 3px 1px rgba(60, 64, 67, 0.15);\n",
              "      fill: #174EA6;\n",
              "    }\n",
              "\n",
              "    [theme=dark] .colab-df-convert {\n",
              "      background-color: #3B4455;\n",
              "      fill: #D2E3FC;\n",
              "    }\n",
              "\n",
              "    [theme=dark] .colab-df-convert:hover {\n",
              "      background-color: #434B5C;\n",
              "      box-shadow: 0px 1px 3px 1px rgba(0, 0, 0, 0.15);\n",
              "      filter: drop-shadow(0px 1px 2px rgba(0, 0, 0, 0.3));\n",
              "      fill: #FFFFFF;\n",
              "    }\n",
              "  </style>\n",
              "\n",
              "      <script>\n",
              "        const buttonEl =\n",
              "          document.querySelector('#df-9710c3cb-3e3b-4935-a616-f605313e3aa1 button.colab-df-convert');\n",
              "        buttonEl.style.display =\n",
              "          google.colab.kernel.accessAllowed ? 'block' : 'none';\n",
              "\n",
              "        async function convertToInteractive(key) {\n",
              "          const element = document.querySelector('#df-9710c3cb-3e3b-4935-a616-f605313e3aa1');\n",
              "          const dataTable =\n",
              "            await google.colab.kernel.invokeFunction('convertToInteractive',\n",
              "                                                     [key], {});\n",
              "          if (!dataTable) return;\n",
              "\n",
              "          const docLinkHtml = 'Like what you see? Visit the ' +\n",
              "            '<a target=\"_blank\" href=https://colab.research.google.com/notebooks/data_table.ipynb>data table notebook</a>'\n",
              "            + ' to learn more about interactive tables.';\n",
              "          element.innerHTML = '';\n",
              "          dataTable['output_type'] = 'display_data';\n",
              "          await google.colab.output.renderOutput(dataTable, element);\n",
              "          const docLink = document.createElement('div');\n",
              "          docLink.innerHTML = docLinkHtml;\n",
              "          element.appendChild(docLink);\n",
              "        }\n",
              "      </script>\n",
              "    </div>\n",
              "  </div>\n",
              "  "
            ]
          },
          "metadata": {},
          "execution_count": 15
        }
      ]
    },
    {
      "cell_type": "code",
      "source": [
        "articles.updated.value_counts()"
      ],
      "metadata": {
        "colab": {
          "base_uri": "https://localhost:8080/"
        },
        "id": "TAZMbKetbJE6",
        "outputId": "dc17661a-c4dd-4374-d4e5-846101f638bf"
      },
      "execution_count": 17,
      "outputs": [
        {
          "output_type": "execute_result",
          "data": {
            "text/plain": [
              "2022-08-24    213\n",
              "2022-08-26    197\n",
              "2022-08-25    192\n",
              "2022-08-29    149\n",
              "2022-08-23     86\n",
              "2022-08-27     82\n",
              "2022-08-28     81\n",
              "Name: updated, dtype: int64"
            ]
          },
          "metadata": {},
          "execution_count": 17
        }
      ]
    },
    {
      "cell_type": "code",
      "source": [
        "articles.info()"
      ],
      "metadata": {
        "colab": {
          "base_uri": "https://localhost:8080/"
        },
        "id": "m3JYF40vEYHG",
        "outputId": "bfa1571a-cf67-4da2-ceb6-bd20036e22b7"
      },
      "execution_count": 14,
      "outputs": [
        {
          "output_type": "stream",
          "name": "stdout",
          "text": [
            "<class 'pandas.core.frame.DataFrame'>\n",
            "Index: 1000 entries, http://arxiv.org/abs/2208.13764v1 to http://arxiv.org/abs/2208.10993v1\n",
            "Data columns (total 5 columns):\n",
            " #   Column   Non-Null Count  Dtype         \n",
            "---  ------   --------------  -----         \n",
            " 0   updated  1000 non-null   datetime64[ns]\n",
            " 1   title    1000 non-null   object        \n",
            " 2   summary  1000 non-null   object        \n",
            " 3   author   1000 non-null   object        \n",
            " 4   link     1000 non-null   object        \n",
            "dtypes: datetime64[ns](1), object(4)\n",
            "memory usage: 46.9+ KB\n"
          ]
        }
      ]
    },
    {
      "cell_type": "code",
      "source": [],
      "metadata": {
        "id": "W7fbWqnFFVED"
      },
      "execution_count": null,
      "outputs": []
    }
  ]
}