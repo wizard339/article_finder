{
  "nbformat": 4,
  "nbformat_minor": 0,
  "metadata": {
    "colab": {
      "name": "article_finder.ipynb",
      "provenance": [],
      "include_colab_link": true
    },
    "kernelspec": {
      "name": "python3",
      "display_name": "Python 3"
    },
    "language_info": {
      "name": "python"
    }
  },
  "cells": [
    {
      "cell_type": "markdown",
      "metadata": {
        "id": "view-in-github",
        "colab_type": "text"
      },
      "source": [
        "<a href=\"https://colab.research.google.com/github/wizard339/article_finder/blob/main/article_finder.ipynb\" target=\"_parent\"><img src=\"https://colab.research.google.com/assets/colab-badge.svg\" alt=\"Open In Colab\"/></a>"
      ]
    },
    {
      "cell_type": "code",
      "source": [
        "import urllib.request\n",
        "import urllib.parse\n",
        "import argparse\n",
        "import xml.etree.ElementTree as ET\n",
        "from bs4 import BeautifulSoup\n",
        "import pandas as pd\n",
        "import datetime\n",
        "import time"
      ],
      "metadata": {
        "id": "79P-1ebmtTGi"
      },
      "execution_count": 2,
      "outputs": []
    },
    {
      "cell_type": "code",
      "source": [
        "BASE_URL = 'http://export.arxiv.org/api/query?search_query='\n",
        "PREFIX = {'Title': 'ti',\n",
        "          'Author': 'au',\n",
        "          'Abstract': 'abs',\n",
        "          'Comment': 'co',\n",
        "          'Journal Reference': 'jr',\n",
        "          'Subject Category': 'cat',\n",
        "          'Report Number': 'rn',\n",
        "          'ID': 'id',\n",
        "          'All': 'all'}\n",
        "TIME_PERIOD = {'Day': datetime.timedelta(1),\n",
        "               'Week': datetime.timedelta(7),\n",
        "               'Mounth': datetime.timedelta(30),\n",
        "               'Year': datetime.timedelta(365)}\n",
        "CURRENT_DATE = datetime.datetime.now()\n",
        "\n",
        "# input_keywords = input('Please enter the keywords or search phrases separated by commas: ')\n",
        "input_keywords = 'reinforcement AND learning'"
      ],
      "metadata": {
        "id": "00472c1PtVvC"
      },
      "execution_count": 3,
      "outputs": []
    },
    {
      "cell_type": "code",
      "source": [
        "CURRENT_DATE - TIME_PERIOD['Week']"
      ],
      "metadata": {
        "id": "3ZpQZAlWMxLg",
        "outputId": "738ecc91-ab58-4b76-a43c-4a527ff5bdc9",
        "colab": {
          "base_uri": "https://localhost:8080/"
        }
      },
      "execution_count": 14,
      "outputs": [
        {
          "output_type": "execute_result",
          "data": {
            "text/plain": [
              "datetime.datetime(2022, 8, 26, 12, 9, 30, 835628)"
            ]
          },
          "metadata": {},
          "execution_count": 14
        }
      ]
    },
    {
      "cell_type": "code",
      "source": [
        "def make_query(base_url=BASE_URL, prefix=PREFIX['All'], start=0, keywords=input_keywords, time_period=TIME_PERIOD['Week']):\n",
        "    \"\"\"нужно ввести счетчик и проверку на значение тега updated в entry\"\"\"\n",
        "    # the starting date from which we receive the data\n",
        "    starting_date = CURRENT_DATE - time_period\n",
        "    # encoding of the search query\n",
        "    keywords = urllib.parse.quote_plus(keywords)\n",
        "\n",
        "    cols = ['updated', 'title', 'summary', 'author', 'link']\n",
        "    articles = pd.DataFrame(columns=cols)\n",
        "    start_counter = 0\n",
        "    \n",
        "    while True:\n",
        "      url = f'{base_url}{prefix}:{keywords}&start={start_counter}&max_results=200&sortBy=lastUpdatedDate&sortOrder=descending'\n",
        "      print(url)\n",
        "      req = urllib.request.Request(url)\n",
        "      with urllib.request.urlopen(req) as response:\n",
        "          if response.status==200:\n",
        "              soup = BeautifulSoup(response, 'xml')\n",
        "          else:\n",
        "              raise ValueError('Please, check the correctness of the request')\n",
        "              break\n",
        "      date_on_the_page = datetime.datetime(*[int(i) for i in soup.entry.updated.string.split('T')[0].split('-')])\n",
        "      if date_on_the_page >= starting_date:\n",
        "        print(soup.entry.updated)\n",
        "        for tag in soup.find_all('entry'):\n",
        "            updated_to_df = pd.to_datetime(tag.updated.string.split('T')[0])\n",
        "            authors_list = \", \".join([n.string for n in tag.find_all('name')])\n",
        "            link_to_df = tag.find(title='pdf').get('href')\n",
        "            row_to_concat = pd.DataFrame({'updated': updated_to_df,\n",
        "                                          'title': tag.title,\n",
        "                                          'summary': tag.summary,\n",
        "                                          'author': authors_list,\n",
        "                                          'link': link_to_df}, index=tag.id)\n",
        "            articles = pd.concat([articles, row_to_concat])\n",
        "      else:\n",
        "        break\n",
        "      start_counter += 1\n",
        "      time.sleep(3)\n",
        "\n",
        "    return articles"
      ],
      "metadata": {
        "id": "6Tbgq-pttVru"
      },
      "execution_count": 9,
      "outputs": []
    },
    {
      "cell_type": "code",
      "execution_count": 10,
      "metadata": {
        "colab": {
          "base_uri": "https://localhost:8080/"
        },
        "id": "onoXXu5wtMQb",
        "outputId": "5bd358e9-3293-4b63-c98d-83fcd8e9eace"
      },
      "outputs": [
        {
          "output_type": "stream",
          "name": "stdout",
          "text": [
            "http://export.arxiv.org/api/query?search_query=all:reinforcement+AND+learning&start=0&max_results=200&sortBy=lastUpdatedDate&sortOrder=descending\n",
            "<updated>2022-09-01T17:35:02Z</updated>\n",
            "http://export.arxiv.org/api/query?search_query=all:reinforcement+AND+learning&start=1&max_results=200&sortBy=lastUpdatedDate&sortOrder=descending\n",
            "<updated>2022-09-01T17:03:07Z</updated>\n",
            "http://export.arxiv.org/api/query?search_query=all:reinforcement+AND+learning&start=2&max_results=200&sortBy=lastUpdatedDate&sortOrder=descending\n",
            "<updated>2022-09-01T16:49:22Z</updated>\n",
            "http://export.arxiv.org/api/query?search_query=all:reinforcement+AND+learning&start=3&max_results=200&sortBy=lastUpdatedDate&sortOrder=descending\n",
            "<updated>2022-09-01T16:31:37Z</updated>\n",
            "http://export.arxiv.org/api/query?search_query=all:reinforcement+AND+learning&start=4&max_results=200&sortBy=lastUpdatedDate&sortOrder=descending\n",
            "<updated>2022-09-01T16:28:47Z</updated>\n",
            "http://export.arxiv.org/api/query?search_query=all:reinforcement+AND+learning&start=5&max_results=200&sortBy=lastUpdatedDate&sortOrder=descending\n",
            "<updated>2022-09-01T16:19:22Z</updated>\n",
            "http://export.arxiv.org/api/query?search_query=all:reinforcement+AND+learning&start=6&max_results=200&sortBy=lastUpdatedDate&sortOrder=descending\n",
            "<updated>2022-09-01T15:53:57Z</updated>\n",
            "http://export.arxiv.org/api/query?search_query=all:reinforcement+AND+learning&start=7&max_results=200&sortBy=lastUpdatedDate&sortOrder=descending\n",
            "<updated>2022-09-01T15:27:46Z</updated>\n",
            "http://export.arxiv.org/api/query?search_query=all:reinforcement+AND+learning&start=8&max_results=200&sortBy=lastUpdatedDate&sortOrder=descending\n",
            "<updated>2022-09-01T12:02:09Z</updated>\n",
            "http://export.arxiv.org/api/query?search_query=all:reinforcement+AND+learning&start=9&max_results=200&sortBy=lastUpdatedDate&sortOrder=descending\n",
            "<updated>2022-09-01T10:26:58Z</updated>\n",
            "http://export.arxiv.org/api/query?search_query=all:reinforcement+AND+learning&start=10&max_results=200&sortBy=lastUpdatedDate&sortOrder=descending\n",
            "<updated>2022-09-01T10:10:02Z</updated>\n",
            "http://export.arxiv.org/api/query?search_query=all:reinforcement+AND+learning&start=11&max_results=200&sortBy=lastUpdatedDate&sortOrder=descending\n",
            "<updated>2022-09-01T08:58:40Z</updated>\n",
            "http://export.arxiv.org/api/query?search_query=all:reinforcement+AND+learning&start=12&max_results=200&sortBy=lastUpdatedDate&sortOrder=descending\n",
            "<updated>2022-09-01T07:22:39Z</updated>\n",
            "http://export.arxiv.org/api/query?search_query=all:reinforcement+AND+learning&start=13&max_results=200&sortBy=lastUpdatedDate&sortOrder=descending\n",
            "<updated>2022-09-01T03:43:25Z</updated>\n",
            "http://export.arxiv.org/api/query?search_query=all:reinforcement+AND+learning&start=14&max_results=200&sortBy=lastUpdatedDate&sortOrder=descending\n",
            "<updated>2022-09-01T03:39:32Z</updated>\n",
            "http://export.arxiv.org/api/query?search_query=all:reinforcement+AND+learning&start=15&max_results=200&sortBy=lastUpdatedDate&sortOrder=descending\n",
            "<updated>2022-09-01T02:14:48Z</updated>\n",
            "http://export.arxiv.org/api/query?search_query=all:reinforcement+AND+learning&start=16&max_results=200&sortBy=lastUpdatedDate&sortOrder=descending\n",
            "<updated>2022-08-31T15:52:02Z</updated>\n",
            "http://export.arxiv.org/api/query?search_query=all:reinforcement+AND+learning&start=17&max_results=200&sortBy=lastUpdatedDate&sortOrder=descending\n",
            "<updated>2022-08-31T14:53:19Z</updated>\n",
            "http://export.arxiv.org/api/query?search_query=all:reinforcement+AND+learning&start=18&max_results=200&sortBy=lastUpdatedDate&sortOrder=descending\n",
            "<updated>2022-08-31T14:10:49Z</updated>\n",
            "http://export.arxiv.org/api/query?search_query=all:reinforcement+AND+learning&start=19&max_results=200&sortBy=lastUpdatedDate&sortOrder=descending\n",
            "<updated>2022-08-31T13:45:00Z</updated>\n",
            "http://export.arxiv.org/api/query?search_query=all:reinforcement+AND+learning&start=20&max_results=200&sortBy=lastUpdatedDate&sortOrder=descending\n",
            "<updated>2022-08-31T13:15:21Z</updated>\n",
            "http://export.arxiv.org/api/query?search_query=all:reinforcement+AND+learning&start=21&max_results=200&sortBy=lastUpdatedDate&sortOrder=descending\n",
            "<updated>2022-08-31T13:03:33Z</updated>\n",
            "http://export.arxiv.org/api/query?search_query=all:reinforcement+AND+learning&start=22&max_results=200&sortBy=lastUpdatedDate&sortOrder=descending\n",
            "<updated>2022-08-31T09:45:30Z</updated>\n",
            "http://export.arxiv.org/api/query?search_query=all:reinforcement+AND+learning&start=23&max_results=200&sortBy=lastUpdatedDate&sortOrder=descending\n",
            "<updated>2022-08-31T09:20:14Z</updated>\n",
            "http://export.arxiv.org/api/query?search_query=all:reinforcement+AND+learning&start=24&max_results=200&sortBy=lastUpdatedDate&sortOrder=descending\n",
            "<updated>2022-08-31T08:36:40Z</updated>\n",
            "http://export.arxiv.org/api/query?search_query=all:reinforcement+AND+learning&start=25&max_results=200&sortBy=lastUpdatedDate&sortOrder=descending\n",
            "<updated>2022-08-31T07:36:19Z</updated>\n",
            "http://export.arxiv.org/api/query?search_query=all:reinforcement+AND+learning&start=26&max_results=200&sortBy=lastUpdatedDate&sortOrder=descending\n",
            "<updated>2022-08-31T03:28:21Z</updated>\n",
            "http://export.arxiv.org/api/query?search_query=all:reinforcement+AND+learning&start=27&max_results=200&sortBy=lastUpdatedDate&sortOrder=descending\n",
            "<updated>2022-08-31T03:04:16Z</updated>\n",
            "http://export.arxiv.org/api/query?search_query=all:reinforcement+AND+learning&start=28&max_results=200&sortBy=lastUpdatedDate&sortOrder=descending\n",
            "<updated>2022-08-30T21:05:33Z</updated>\n",
            "http://export.arxiv.org/api/query?search_query=all:reinforcement+AND+learning&start=29&max_results=200&sortBy=lastUpdatedDate&sortOrder=descending\n",
            "<updated>2022-08-30T19:03:48Z</updated>\n",
            "http://export.arxiv.org/api/query?search_query=all:reinforcement+AND+learning&start=30&max_results=200&sortBy=lastUpdatedDate&sortOrder=descending\n",
            "<updated>2022-08-30T17:57:33Z</updated>\n",
            "http://export.arxiv.org/api/query?search_query=all:reinforcement+AND+learning&start=31&max_results=200&sortBy=lastUpdatedDate&sortOrder=descending\n",
            "<updated>2022-08-30T17:45:52Z</updated>\n",
            "http://export.arxiv.org/api/query?search_query=all:reinforcement+AND+learning&start=32&max_results=200&sortBy=lastUpdatedDate&sortOrder=descending\n",
            "<updated>2022-08-30T17:19:26Z</updated>\n",
            "http://export.arxiv.org/api/query?search_query=all:reinforcement+AND+learning&start=33&max_results=200&sortBy=lastUpdatedDate&sortOrder=descending\n",
            "<updated>2022-08-30T17:00:53Z</updated>\n",
            "http://export.arxiv.org/api/query?search_query=all:reinforcement+AND+learning&start=34&max_results=200&sortBy=lastUpdatedDate&sortOrder=descending\n",
            "<updated>2022-08-30T16:42:33Z</updated>\n",
            "http://export.arxiv.org/api/query?search_query=all:reinforcement+AND+learning&start=35&max_results=200&sortBy=lastUpdatedDate&sortOrder=descending\n",
            "<updated>2022-08-30T15:30:45Z</updated>\n",
            "http://export.arxiv.org/api/query?search_query=all:reinforcement+AND+learning&start=36&max_results=200&sortBy=lastUpdatedDate&sortOrder=descending\n",
            "<updated>2022-08-30T15:25:54Z</updated>\n",
            "http://export.arxiv.org/api/query?search_query=all:reinforcement+AND+learning&start=37&max_results=200&sortBy=lastUpdatedDate&sortOrder=descending\n",
            "<updated>2022-08-30T14:44:41Z</updated>\n",
            "http://export.arxiv.org/api/query?search_query=all:reinforcement+AND+learning&start=38&max_results=200&sortBy=lastUpdatedDate&sortOrder=descending\n",
            "<updated>2022-08-30T11:20:38Z</updated>\n",
            "http://export.arxiv.org/api/query?search_query=all:reinforcement+AND+learning&start=39&max_results=200&sortBy=lastUpdatedDate&sortOrder=descending\n",
            "<updated>2022-08-30T09:38:53Z</updated>\n",
            "http://export.arxiv.org/api/query?search_query=all:reinforcement+AND+learning&start=40&max_results=200&sortBy=lastUpdatedDate&sortOrder=descending\n",
            "<updated>2022-08-30T09:24:33Z</updated>\n",
            "http://export.arxiv.org/api/query?search_query=all:reinforcement+AND+learning&start=41&max_results=200&sortBy=lastUpdatedDate&sortOrder=descending\n",
            "<updated>2022-08-30T08:44:15Z</updated>\n",
            "http://export.arxiv.org/api/query?search_query=all:reinforcement+AND+learning&start=42&max_results=200&sortBy=lastUpdatedDate&sortOrder=descending\n",
            "<updated>2022-08-30T07:40:15Z</updated>\n",
            "http://export.arxiv.org/api/query?search_query=all:reinforcement+AND+learning&start=43&max_results=200&sortBy=lastUpdatedDate&sortOrder=descending\n",
            "<updated>2022-08-30T07:37:03Z</updated>\n",
            "http://export.arxiv.org/api/query?search_query=all:reinforcement+AND+learning&start=44&max_results=200&sortBy=lastUpdatedDate&sortOrder=descending\n",
            "<updated>2022-08-30T02:12:47Z</updated>\n",
            "http://export.arxiv.org/api/query?search_query=all:reinforcement+AND+learning&start=45&max_results=200&sortBy=lastUpdatedDate&sortOrder=descending\n",
            "<updated>2022-08-30T00:51:46Z</updated>\n",
            "http://export.arxiv.org/api/query?search_query=all:reinforcement+AND+learning&start=46&max_results=200&sortBy=lastUpdatedDate&sortOrder=descending\n",
            "<updated>2022-08-29T21:34:01Z</updated>\n",
            "http://export.arxiv.org/api/query?search_query=all:reinforcement+AND+learning&start=47&max_results=200&sortBy=lastUpdatedDate&sortOrder=descending\n",
            "<updated>2022-08-29T20:57:35Z</updated>\n",
            "http://export.arxiv.org/api/query?search_query=all:reinforcement+AND+learning&start=48&max_results=200&sortBy=lastUpdatedDate&sortOrder=descending\n",
            "<updated>2022-08-29T20:36:14Z</updated>\n",
            "http://export.arxiv.org/api/query?search_query=all:reinforcement+AND+learning&start=49&max_results=200&sortBy=lastUpdatedDate&sortOrder=descending\n",
            "<updated>2022-08-29T18:38:17Z</updated>\n",
            "http://export.arxiv.org/api/query?search_query=all:reinforcement+AND+learning&start=50&max_results=200&sortBy=lastUpdatedDate&sortOrder=descending\n",
            "<updated>2022-08-29T18:00:06Z</updated>\n",
            "http://export.arxiv.org/api/query?search_query=all:reinforcement+AND+learning&start=51&max_results=200&sortBy=lastUpdatedDate&sortOrder=descending\n",
            "<updated>2022-08-29T15:51:36Z</updated>\n",
            "http://export.arxiv.org/api/query?search_query=all:reinforcement+AND+learning&start=52&max_results=200&sortBy=lastUpdatedDate&sortOrder=descending\n",
            "<updated>2022-08-29T15:10:14Z</updated>\n",
            "http://export.arxiv.org/api/query?search_query=all:reinforcement+AND+learning&start=53&max_results=200&sortBy=lastUpdatedDate&sortOrder=descending\n",
            "<updated>2022-08-29T13:50:02Z</updated>\n",
            "http://export.arxiv.org/api/query?search_query=all:reinforcement+AND+learning&start=54&max_results=200&sortBy=lastUpdatedDate&sortOrder=descending\n",
            "<updated>2022-08-29T10:30:43Z</updated>\n",
            "http://export.arxiv.org/api/query?search_query=all:reinforcement+AND+learning&start=55&max_results=200&sortBy=lastUpdatedDate&sortOrder=descending\n",
            "<updated>2022-08-29T06:13:56Z</updated>\n",
            "http://export.arxiv.org/api/query?search_query=all:reinforcement+AND+learning&start=56&max_results=200&sortBy=lastUpdatedDate&sortOrder=descending\n",
            "<updated>2022-08-29T04:59:06Z</updated>\n",
            "http://export.arxiv.org/api/query?search_query=all:reinforcement+AND+learning&start=57&max_results=200&sortBy=lastUpdatedDate&sortOrder=descending\n",
            "<updated>2022-08-29T01:40:46Z</updated>\n",
            "http://export.arxiv.org/api/query?search_query=all:reinforcement+AND+learning&start=58&max_results=200&sortBy=lastUpdatedDate&sortOrder=descending\n",
            "<updated>2022-08-28T22:01:10Z</updated>\n",
            "http://export.arxiv.org/api/query?search_query=all:reinforcement+AND+learning&start=59&max_results=200&sortBy=lastUpdatedDate&sortOrder=descending\n",
            "<updated>2022-08-28T20:29:49Z</updated>\n",
            "http://export.arxiv.org/api/query?search_query=all:reinforcement+AND+learning&start=60&max_results=200&sortBy=lastUpdatedDate&sortOrder=descending\n",
            "<updated>2022-08-28T13:16:01Z</updated>\n",
            "http://export.arxiv.org/api/query?search_query=all:reinforcement+AND+learning&start=61&max_results=200&sortBy=lastUpdatedDate&sortOrder=descending\n",
            "<updated>2022-08-28T08:30:04Z</updated>\n",
            "http://export.arxiv.org/api/query?search_query=all:reinforcement+AND+learning&start=62&max_results=200&sortBy=lastUpdatedDate&sortOrder=descending\n",
            "<updated>2022-08-28T08:04:00Z</updated>\n",
            "http://export.arxiv.org/api/query?search_query=all:reinforcement+AND+learning&start=63&max_results=200&sortBy=lastUpdatedDate&sortOrder=descending\n",
            "<updated>2022-08-28T02:52:10Z</updated>\n",
            "http://export.arxiv.org/api/query?search_query=all:reinforcement+AND+learning&start=64&max_results=200&sortBy=lastUpdatedDate&sortOrder=descending\n",
            "<updated>2022-08-27T19:22:53Z</updated>\n",
            "http://export.arxiv.org/api/query?search_query=all:reinforcement+AND+learning&start=65&max_results=200&sortBy=lastUpdatedDate&sortOrder=descending\n",
            "<updated>2022-08-27T16:56:47Z</updated>\n",
            "http://export.arxiv.org/api/query?search_query=all:reinforcement+AND+learning&start=66&max_results=200&sortBy=lastUpdatedDate&sortOrder=descending\n",
            "<updated>2022-08-27T14:50:00Z</updated>\n",
            "http://export.arxiv.org/api/query?search_query=all:reinforcement+AND+learning&start=67&max_results=200&sortBy=lastUpdatedDate&sortOrder=descending\n",
            "<updated>2022-08-27T13:26:30Z</updated>\n",
            "http://export.arxiv.org/api/query?search_query=all:reinforcement+AND+learning&start=68&max_results=200&sortBy=lastUpdatedDate&sortOrder=descending\n",
            "<updated>2022-08-27T09:38:56Z</updated>\n",
            "http://export.arxiv.org/api/query?search_query=all:reinforcement+AND+learning&start=69&max_results=200&sortBy=lastUpdatedDate&sortOrder=descending\n",
            "<updated>2022-08-27T02:50:31Z</updated>\n",
            "http://export.arxiv.org/api/query?search_query=all:reinforcement+AND+learning&start=70&max_results=200&sortBy=lastUpdatedDate&sortOrder=descending\n"
          ]
        }
      ],
      "source": [
        "articles = make_query()"
      ]
    },
    {
      "cell_type": "code",
      "source": [
        "datetime.datetime(*[int(i) for i in soup.entry.updated.string.split('T')[0].split('-')])"
      ],
      "metadata": {
        "id": "3pFesn9LY0fI",
        "outputId": "0e1452a6-3603-47f8-c4ca-70d0311f7a9c",
        "colab": {
          "base_uri": "https://localhost:8080/"
        }
      },
      "execution_count": null,
      "outputs": [
        {
          "output_type": "execute_result",
          "data": {
            "text/plain": [
              "datetime.datetime(2022, 8, 31, 0, 0)"
            ]
          },
          "metadata": {},
          "execution_count": 47
        }
      ]
    },
    {
      "cell_type": "code",
      "source": [
        "datetime.datetime(2022,8,31)"
      ],
      "metadata": {
        "id": "sWFT89kuX6ZC",
        "outputId": "57f1500d-2846-4b16-a046-e113e071a682",
        "colab": {
          "base_uri": "https://localhost:8080/"
        }
      },
      "execution_count": null,
      "outputs": [
        {
          "output_type": "execute_result",
          "data": {
            "text/plain": [
              "datetime.datetime(2022, 8, 31, 0, 0)"
            ]
          },
          "metadata": {},
          "execution_count": 39
        }
      ]
    },
    {
      "cell_type": "code",
      "source": [
        "articles.sample(10)"
      ],
      "metadata": {
        "id": "u5u0DJYMtjIo",
        "colab": {
          "base_uri": "https://localhost:8080/",
          "height": 363
        },
        "outputId": "59a5515a-ceb6-4691-b4eb-15706418924e"
      },
      "execution_count": 11,
      "outputs": [
        {
          "output_type": "execute_result",
          "data": {
            "text/plain": [
              "                                     updated  \\\n",
              "http://arxiv.org/abs/2208.08497v1 2022-08-17   \n",
              "http://arxiv.org/abs/2208.11737v1 2022-08-24   \n",
              "http://arxiv.org/abs/2007.08380v2 2022-08-30   \n",
              "http://arxiv.org/abs/2206.12700v2 2022-08-16   \n",
              "http://arxiv.org/abs/2109.09889v2 2022-08-20   \n",
              "http://arxiv.org/abs/2206.14191v2 2022-08-18   \n",
              "http://arxiv.org/abs/2105.14111v5 2022-08-20   \n",
              "http://arxiv.org/abs/2208.10483v1 2022-08-22   \n",
              "http://arxiv.org/abs/2012.10147v2 2022-08-18   \n",
              "http://arxiv.org/abs/2208.10458v1 2022-08-22   \n",
              "\n",
              "                                                                               title  \\\n",
              "http://arxiv.org/abs/2208.08497v1  Choquet regularization for reinforcement learning   \n",
              "http://arxiv.org/abs/2208.11737v1  Mastering Autonomous Assembly in Fusion Applic...   \n",
              "http://arxiv.org/abs/2007.08380v2  Joint Trajectory and Passive Beamforming Desig...   \n",
              "http://arxiv.org/abs/2206.12700v2  Towards Modern Card Games with Large-Scale Act...   \n",
              "http://arxiv.org/abs/2109.09889v2  A Simple Unified Framework for Anomaly Detecti...   \n",
              "http://arxiv.org/abs/2206.14191v2  Low Emission Building Control with Zero-Shot R...   \n",
              "http://arxiv.org/abs/2105.14111v5  Goal Misgeneralization in Deep Reinforcement L...   \n",
              "http://arxiv.org/abs/2208.10483v1  Prioritizing Samples in Reinforcement Learning...   \n",
              "http://arxiv.org/abs/2012.10147v2  Hierarchical principles of embodied reinforcem...   \n",
              "http://arxiv.org/abs/2208.10458v1  Minimax-Optimal Multi-Agent RL in Zero-Sum Mar...   \n",
              "\n",
              "                                                                             summary  \\\n",
              "http://arxiv.org/abs/2208.08497v1    We propose \\emph{Choquet regularizers} to me...   \n",
              "http://arxiv.org/abs/2208.11737v1    Robotic peg-in-hole assembly is an essential...   \n",
              "http://arxiv.org/abs/2007.08380v2    In this paper, the intelligent reflecting su...   \n",
              "http://arxiv.org/abs/2206.12700v2    Axie infinity is a complicated card game wit...   \n",
              "http://arxiv.org/abs/2109.09889v2    Abnormal states in deep reinforcement learni...   \n",
              "http://arxiv.org/abs/2206.14191v2    Heating and cooling systems in buildings acc...   \n",
              "http://arxiv.org/abs/2105.14111v5    We study goal misgeneralization, a type of o...   \n",
              "http://arxiv.org/abs/2208.10483v1    Most reinforcement learning algorithms take ...   \n",
              "http://arxiv.org/abs/2012.10147v2    Cognitive Psychology and related disciplines...   \n",
              "http://arxiv.org/abs/2208.10458v1    This paper is concerned with two-player zero...   \n",
              "\n",
              "                                                                              author  \\\n",
              "http://arxiv.org/abs/2208.08497v1                   Xia Han, Ruodu Wang, Xun Yu Zhou   \n",
              "http://arxiv.org/abs/2208.11737v1  Ruochen Yin, Huapeng Wu, Ming Li, Yong Cheng, ...   \n",
              "http://arxiv.org/abs/2007.08380v2   Liang Wang, Kezhi Wang, Cunhua Pan, Nauman Aslam   \n",
              "http://arxiv.org/abs/2206.12700v2  Zhiyuan Yao, Tianyu Shi, Site Li, Yiting Xie, ...   \n",
              "http://arxiv.org/abs/2109.09889v2  Hongming Zhang, Ke Sun, Bo Xu, Linglong Kong, ...   \n",
              "http://arxiv.org/abs/2206.14191v2  Scott R. Jeen, Alessandro Abate, Jonathan M. C...   \n",
              "http://arxiv.org/abs/2105.14111v5  Lauro Langosco, Jack Koch, Lee Sharkey, Jacob ...   \n",
              "http://arxiv.org/abs/2208.10483v1  Shivakanth Sujit, Somjit Nath, Pedro H. M. Bra...   \n",
              "http://arxiv.org/abs/2012.10147v2  Manfred Eppe, Christian Gumbsch, Matthias Kerz...   \n",
              "http://arxiv.org/abs/2208.10458v1         Gen Li, Yuejie Chi, Yuting Wei, Yuxin Chen   \n",
              "\n",
              "                                                                link  \n",
              "http://arxiv.org/abs/2208.08497v1  http://arxiv.org/pdf/2208.08497v1  \n",
              "http://arxiv.org/abs/2208.11737v1  http://arxiv.org/pdf/2208.11737v1  \n",
              "http://arxiv.org/abs/2007.08380v2  http://arxiv.org/pdf/2007.08380v2  \n",
              "http://arxiv.org/abs/2206.12700v2  http://arxiv.org/pdf/2206.12700v2  \n",
              "http://arxiv.org/abs/2109.09889v2  http://arxiv.org/pdf/2109.09889v2  \n",
              "http://arxiv.org/abs/2206.14191v2  http://arxiv.org/pdf/2206.14191v2  \n",
              "http://arxiv.org/abs/2105.14111v5  http://arxiv.org/pdf/2105.14111v5  \n",
              "http://arxiv.org/abs/2208.10483v1  http://arxiv.org/pdf/2208.10483v1  \n",
              "http://arxiv.org/abs/2012.10147v2  http://arxiv.org/pdf/2012.10147v2  \n",
              "http://arxiv.org/abs/2208.10458v1  http://arxiv.org/pdf/2208.10458v1  "
            ],
            "text/html": [
              "\n",
              "  <div id=\"df-5a508c97-4e7f-467a-9582-215a157c1e4b\">\n",
              "    <div class=\"colab-df-container\">\n",
              "      <div>\n",
              "<style scoped>\n",
              "    .dataframe tbody tr th:only-of-type {\n",
              "        vertical-align: middle;\n",
              "    }\n",
              "\n",
              "    .dataframe tbody tr th {\n",
              "        vertical-align: top;\n",
              "    }\n",
              "\n",
              "    .dataframe thead th {\n",
              "        text-align: right;\n",
              "    }\n",
              "</style>\n",
              "<table border=\"1\" class=\"dataframe\">\n",
              "  <thead>\n",
              "    <tr style=\"text-align: right;\">\n",
              "      <th></th>\n",
              "      <th>updated</th>\n",
              "      <th>title</th>\n",
              "      <th>summary</th>\n",
              "      <th>author</th>\n",
              "      <th>link</th>\n",
              "    </tr>\n",
              "  </thead>\n",
              "  <tbody>\n",
              "    <tr>\n",
              "      <th>http://arxiv.org/abs/2208.08497v1</th>\n",
              "      <td>2022-08-17</td>\n",
              "      <td>Choquet regularization for reinforcement learning</td>\n",
              "      <td>We propose \\emph{Choquet regularizers} to me...</td>\n",
              "      <td>Xia Han, Ruodu Wang, Xun Yu Zhou</td>\n",
              "      <td>http://arxiv.org/pdf/2208.08497v1</td>\n",
              "    </tr>\n",
              "    <tr>\n",
              "      <th>http://arxiv.org/abs/2208.11737v1</th>\n",
              "      <td>2022-08-24</td>\n",
              "      <td>Mastering Autonomous Assembly in Fusion Applic...</td>\n",
              "      <td>Robotic peg-in-hole assembly is an essential...</td>\n",
              "      <td>Ruochen Yin, Huapeng Wu, Ming Li, Yong Cheng, ...</td>\n",
              "      <td>http://arxiv.org/pdf/2208.11737v1</td>\n",
              "    </tr>\n",
              "    <tr>\n",
              "      <th>http://arxiv.org/abs/2007.08380v2</th>\n",
              "      <td>2022-08-30</td>\n",
              "      <td>Joint Trajectory and Passive Beamforming Desig...</td>\n",
              "      <td>In this paper, the intelligent reflecting su...</td>\n",
              "      <td>Liang Wang, Kezhi Wang, Cunhua Pan, Nauman Aslam</td>\n",
              "      <td>http://arxiv.org/pdf/2007.08380v2</td>\n",
              "    </tr>\n",
              "    <tr>\n",
              "      <th>http://arxiv.org/abs/2206.12700v2</th>\n",
              "      <td>2022-08-16</td>\n",
              "      <td>Towards Modern Card Games with Large-Scale Act...</td>\n",
              "      <td>Axie infinity is a complicated card game wit...</td>\n",
              "      <td>Zhiyuan Yao, Tianyu Shi, Site Li, Yiting Xie, ...</td>\n",
              "      <td>http://arxiv.org/pdf/2206.12700v2</td>\n",
              "    </tr>\n",
              "    <tr>\n",
              "      <th>http://arxiv.org/abs/2109.09889v2</th>\n",
              "      <td>2022-08-20</td>\n",
              "      <td>A Simple Unified Framework for Anomaly Detecti...</td>\n",
              "      <td>Abnormal states in deep reinforcement learni...</td>\n",
              "      <td>Hongming Zhang, Ke Sun, Bo Xu, Linglong Kong, ...</td>\n",
              "      <td>http://arxiv.org/pdf/2109.09889v2</td>\n",
              "    </tr>\n",
              "    <tr>\n",
              "      <th>http://arxiv.org/abs/2206.14191v2</th>\n",
              "      <td>2022-08-18</td>\n",
              "      <td>Low Emission Building Control with Zero-Shot R...</td>\n",
              "      <td>Heating and cooling systems in buildings acc...</td>\n",
              "      <td>Scott R. Jeen, Alessandro Abate, Jonathan M. C...</td>\n",
              "      <td>http://arxiv.org/pdf/2206.14191v2</td>\n",
              "    </tr>\n",
              "    <tr>\n",
              "      <th>http://arxiv.org/abs/2105.14111v5</th>\n",
              "      <td>2022-08-20</td>\n",
              "      <td>Goal Misgeneralization in Deep Reinforcement L...</td>\n",
              "      <td>We study goal misgeneralization, a type of o...</td>\n",
              "      <td>Lauro Langosco, Jack Koch, Lee Sharkey, Jacob ...</td>\n",
              "      <td>http://arxiv.org/pdf/2105.14111v5</td>\n",
              "    </tr>\n",
              "    <tr>\n",
              "      <th>http://arxiv.org/abs/2208.10483v1</th>\n",
              "      <td>2022-08-22</td>\n",
              "      <td>Prioritizing Samples in Reinforcement Learning...</td>\n",
              "      <td>Most reinforcement learning algorithms take ...</td>\n",
              "      <td>Shivakanth Sujit, Somjit Nath, Pedro H. M. Bra...</td>\n",
              "      <td>http://arxiv.org/pdf/2208.10483v1</td>\n",
              "    </tr>\n",
              "    <tr>\n",
              "      <th>http://arxiv.org/abs/2012.10147v2</th>\n",
              "      <td>2022-08-18</td>\n",
              "      <td>Hierarchical principles of embodied reinforcem...</td>\n",
              "      <td>Cognitive Psychology and related disciplines...</td>\n",
              "      <td>Manfred Eppe, Christian Gumbsch, Matthias Kerz...</td>\n",
              "      <td>http://arxiv.org/pdf/2012.10147v2</td>\n",
              "    </tr>\n",
              "    <tr>\n",
              "      <th>http://arxiv.org/abs/2208.10458v1</th>\n",
              "      <td>2022-08-22</td>\n",
              "      <td>Minimax-Optimal Multi-Agent RL in Zero-Sum Mar...</td>\n",
              "      <td>This paper is concerned with two-player zero...</td>\n",
              "      <td>Gen Li, Yuejie Chi, Yuting Wei, Yuxin Chen</td>\n",
              "      <td>http://arxiv.org/pdf/2208.10458v1</td>\n",
              "    </tr>\n",
              "  </tbody>\n",
              "</table>\n",
              "</div>\n",
              "      <button class=\"colab-df-convert\" onclick=\"convertToInteractive('df-5a508c97-4e7f-467a-9582-215a157c1e4b')\"\n",
              "              title=\"Convert this dataframe to an interactive table.\"\n",
              "              style=\"display:none;\">\n",
              "        \n",
              "  <svg xmlns=\"http://www.w3.org/2000/svg\" height=\"24px\"viewBox=\"0 0 24 24\"\n",
              "       width=\"24px\">\n",
              "    <path d=\"M0 0h24v24H0V0z\" fill=\"none\"/>\n",
              "    <path d=\"M18.56 5.44l.94 2.06.94-2.06 2.06-.94-2.06-.94-.94-2.06-.94 2.06-2.06.94zm-11 1L8.5 8.5l.94-2.06 2.06-.94-2.06-.94L8.5 2.5l-.94 2.06-2.06.94zm10 10l.94 2.06.94-2.06 2.06-.94-2.06-.94-.94-2.06-.94 2.06-2.06.94z\"/><path d=\"M17.41 7.96l-1.37-1.37c-.4-.4-.92-.59-1.43-.59-.52 0-1.04.2-1.43.59L10.3 9.45l-7.72 7.72c-.78.78-.78 2.05 0 2.83L4 21.41c.39.39.9.59 1.41.59.51 0 1.02-.2 1.41-.59l7.78-7.78 2.81-2.81c.8-.78.8-2.07 0-2.86zM5.41 20L4 18.59l7.72-7.72 1.47 1.35L5.41 20z\"/>\n",
              "  </svg>\n",
              "      </button>\n",
              "      \n",
              "  <style>\n",
              "    .colab-df-container {\n",
              "      display:flex;\n",
              "      flex-wrap:wrap;\n",
              "      gap: 12px;\n",
              "    }\n",
              "\n",
              "    .colab-df-convert {\n",
              "      background-color: #E8F0FE;\n",
              "      border: none;\n",
              "      border-radius: 50%;\n",
              "      cursor: pointer;\n",
              "      display: none;\n",
              "      fill: #1967D2;\n",
              "      height: 32px;\n",
              "      padding: 0 0 0 0;\n",
              "      width: 32px;\n",
              "    }\n",
              "\n",
              "    .colab-df-convert:hover {\n",
              "      background-color: #E2EBFA;\n",
              "      box-shadow: 0px 1px 2px rgba(60, 64, 67, 0.3), 0px 1px 3px 1px rgba(60, 64, 67, 0.15);\n",
              "      fill: #174EA6;\n",
              "    }\n",
              "\n",
              "    [theme=dark] .colab-df-convert {\n",
              "      background-color: #3B4455;\n",
              "      fill: #D2E3FC;\n",
              "    }\n",
              "\n",
              "    [theme=dark] .colab-df-convert:hover {\n",
              "      background-color: #434B5C;\n",
              "      box-shadow: 0px 1px 3px 1px rgba(0, 0, 0, 0.15);\n",
              "      filter: drop-shadow(0px 1px 2px rgba(0, 0, 0, 0.3));\n",
              "      fill: #FFFFFF;\n",
              "    }\n",
              "  </style>\n",
              "\n",
              "      <script>\n",
              "        const buttonEl =\n",
              "          document.querySelector('#df-5a508c97-4e7f-467a-9582-215a157c1e4b button.colab-df-convert');\n",
              "        buttonEl.style.display =\n",
              "          google.colab.kernel.accessAllowed ? 'block' : 'none';\n",
              "\n",
              "        async function convertToInteractive(key) {\n",
              "          const element = document.querySelector('#df-5a508c97-4e7f-467a-9582-215a157c1e4b');\n",
              "          const dataTable =\n",
              "            await google.colab.kernel.invokeFunction('convertToInteractive',\n",
              "                                                     [key], {});\n",
              "          if (!dataTable) return;\n",
              "\n",
              "          const docLinkHtml = 'Like what you see? Visit the ' +\n",
              "            '<a target=\"_blank\" href=https://colab.research.google.com/notebooks/data_table.ipynb>data table notebook</a>'\n",
              "            + ' to learn more about interactive tables.';\n",
              "          element.innerHTML = '';\n",
              "          dataTable['output_type'] = 'display_data';\n",
              "          await google.colab.output.renderOutput(dataTable, element);\n",
              "          const docLink = document.createElement('div');\n",
              "          docLink.innerHTML = docLinkHtml;\n",
              "          element.appendChild(docLink);\n",
              "        }\n",
              "      </script>\n",
              "    </div>\n",
              "  </div>\n",
              "  "
            ]
          },
          "metadata": {},
          "execution_count": 11
        }
      ]
    },
    {
      "cell_type": "code",
      "source": [
        "articles.updated.value_counts()"
      ],
      "metadata": {
        "colab": {
          "base_uri": "https://localhost:8080/"
        },
        "id": "TAZMbKetbJE6",
        "outputId": "432e1a6f-a0ae-4a86-eda4-d15bff50ff4a"
      },
      "execution_count": 12,
      "outputs": [
        {
          "output_type": "execute_result",
          "data": {
            "text/plain": [
              "2022-08-26    1400\n",
              "2022-08-18    1330\n",
              "2022-08-22    1190\n",
              "2022-08-16     984\n",
              "2022-08-17     910\n",
              "2022-08-23     840\n",
              "2022-08-15     808\n",
              "2022-08-19     770\n",
              "2022-08-25     770\n",
              "2022-08-24     700\n",
              "2022-08-30     675\n",
              "2022-08-29     630\n",
              "2022-08-21     560\n",
              "2022-08-27     405\n",
              "2022-08-28     369\n",
              "2022-08-12     354\n",
              "2022-08-20     350\n",
              "2022-08-31     270\n",
              "2022-08-11     231\n",
              "2022-08-13     150\n",
              "2022-09-01     136\n",
              "2022-08-14     123\n",
              "2022-08-10      45\n",
              "Name: updated, dtype: int64"
            ]
          },
          "metadata": {},
          "execution_count": 12
        }
      ]
    },
    {
      "cell_type": "code",
      "source": [
        "articles.info()"
      ],
      "metadata": {
        "colab": {
          "base_uri": "https://localhost:8080/"
        },
        "id": "m3JYF40vEYHG",
        "outputId": "6ac80f91-9a01-4aa1-faba-b2941c4d467c"
      },
      "execution_count": 13,
      "outputs": [
        {
          "output_type": "stream",
          "name": "stdout",
          "text": [
            "<class 'pandas.core.frame.DataFrame'>\n",
            "Index: 14000 entries, http://arxiv.org/abs/2201.13170v3 to http://arxiv.org/abs/2208.05120v1\n",
            "Data columns (total 5 columns):\n",
            " #   Column   Non-Null Count  Dtype         \n",
            "---  ------   --------------  -----         \n",
            " 0   updated  14000 non-null  datetime64[ns]\n",
            " 1   title    14000 non-null  object        \n",
            " 2   summary  14000 non-null  object        \n",
            " 3   author   14000 non-null  object        \n",
            " 4   link     14000 non-null  object        \n",
            "dtypes: datetime64[ns](1), object(4)\n",
            "memory usage: 656.2+ KB\n"
          ]
        }
      ]
    },
    {
      "cell_type": "code",
      "source": [],
      "metadata": {
        "id": "W7fbWqnFFVED"
      },
      "execution_count": null,
      "outputs": []
    }
  ]
}