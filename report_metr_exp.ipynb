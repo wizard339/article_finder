{
  "nbformat": 4,
  "nbformat_minor": 0,
  "metadata": {
    "colab": {
      "name": "report_metr_exp.ipynb",
      "provenance": [],
      "toc_visible": true,
      "authorship_tag": "ABX9TyPOTRKS+JR1xPwUlkfj6pMf",
      "include_colab_link": true
    },
    "kernelspec": {
      "name": "python3",
      "display_name": "Python 3"
    },
    "language_info": {
      "name": "python"
    }
  },
  "cells": [
    {
      "cell_type": "markdown",
      "metadata": {
        "id": "view-in-github",
        "colab_type": "text"
      },
      "source": [
        "<a href=\"https://colab.research.google.com/github/wizard339/article_finder/blob/main/report_metr_exp.ipynb\" target=\"_parent\"><img src=\"https://colab.research.google.com/assets/colab-badge.svg\" alt=\"Open In Colab\"/></a>"
      ]
    },
    {
      "cell_type": "code",
      "execution_count": null,
      "metadata": {
        "id": "Q5Emg2IiJYCi"
      },
      "outputs": [],
      "source": [
        "import pandas as pd\n",
        "import numpy as np\n",
        "import re\n",
        "from collections import namedtuple"
      ]
    },
    {
      "cell_type": "code",
      "source": [
        "data = pd.read_excel('/content/для анализа.xlsx', index_col='№ п/п')\n",
        "data.head()"
      ],
      "metadata": {
        "colab": {
          "base_uri": "https://localhost:8080/",
          "height": 385
        },
        "id": "A_hqi-UIJk7J",
        "outputId": "2d8ec916-9135-4df7-ab82-aa11829fe89e"
      },
      "execution_count": null,
      "outputs": [
        {
          "output_type": "execute_result",
          "data": {
            "text/plain": [
              "      Дата получения документа Дата возврата документа     Номер документа  \\\n",
              "№ п/п                                                                        \n",
              "1                   2021-12-28              2021-12-29        ИТКС.1114-21   \n",
              "2                   2021-12-28              2021-12-29   ИТКС.685669.001СБ   \n",
              "3                   2021-12-28              2021-12-29   ИТКС.443124.001ИЭ   \n",
              "4                   2021-12-28              2021-12-29  ИТКС.443124.001ПЭ4   \n",
              "5                   2021-12-28              2021-12-29   ИТКС.443124.001Е1   \n",
              "\n",
              "      Название изделия/обозначение Отдел, разработчик  Количество форматов А4  \\\n",
              "№ п/п                                                                           \n",
              "1            ИТКС.443124.001 УБР-1   ОРС ТВГ, Малюгин                       3   \n",
              "2                             Жгут   ОРС ТВГ, Малюгин                       4   \n",
              "3                              NaN    ОРС ТВГ, Бурков                       9   \n",
              "4                              NaN   ОРС ТВГ, Малюгин                       1   \n",
              "5                              NaN   ОРС ТВГ, Малюгин                       2   \n",
              "\n",
              "      Фамилия эксперта Проект, тема, литера/ примечания   Замечания (шифры)  \\\n",
              "№ п/п                                                                         \n",
              "1            Докторова                              NaN                 NaN   \n",
              "2            Докторова                              NaN              10, 17   \n",
              "3            Докторова                              NaN  2, 19, 3, 17, 6, 7   \n",
              "4            Докторова                              NaN                 NaN   \n",
              "5            Докторова                              NaN                  17   \n",
              "\n",
              "      Повторные замечания (шифры)  \n",
              "№ п/п                              \n",
              "1                             NaN  \n",
              "2                             NaN  \n",
              "3                           17, 4  \n",
              "4                             NaN  \n",
              "5                           17, 3  "
            ],
            "text/html": [
              "\n",
              "  <div id=\"df-85b17839-62fc-49a3-8ba8-c3b39151bda5\">\n",
              "    <div class=\"colab-df-container\">\n",
              "      <div>\n",
              "<style scoped>\n",
              "    .dataframe tbody tr th:only-of-type {\n",
              "        vertical-align: middle;\n",
              "    }\n",
              "\n",
              "    .dataframe tbody tr th {\n",
              "        vertical-align: top;\n",
              "    }\n",
              "\n",
              "    .dataframe thead th {\n",
              "        text-align: right;\n",
              "    }\n",
              "</style>\n",
              "<table border=\"1\" class=\"dataframe\">\n",
              "  <thead>\n",
              "    <tr style=\"text-align: right;\">\n",
              "      <th></th>\n",
              "      <th>Дата получения документа</th>\n",
              "      <th>Дата возврата документа</th>\n",
              "      <th>Номер документа</th>\n",
              "      <th>Название изделия/обозначение</th>\n",
              "      <th>Отдел, разработчик</th>\n",
              "      <th>Количество форматов А4</th>\n",
              "      <th>Фамилия эксперта</th>\n",
              "      <th>Проект, тема, литера/ примечания</th>\n",
              "      <th>Замечания (шифры)</th>\n",
              "      <th>Повторные замечания (шифры)</th>\n",
              "    </tr>\n",
              "    <tr>\n",
              "      <th>№ п/п</th>\n",
              "      <th></th>\n",
              "      <th></th>\n",
              "      <th></th>\n",
              "      <th></th>\n",
              "      <th></th>\n",
              "      <th></th>\n",
              "      <th></th>\n",
              "      <th></th>\n",
              "      <th></th>\n",
              "      <th></th>\n",
              "    </tr>\n",
              "  </thead>\n",
              "  <tbody>\n",
              "    <tr>\n",
              "      <th>1</th>\n",
              "      <td>2021-12-28</td>\n",
              "      <td>2021-12-29</td>\n",
              "      <td>ИТКС.1114-21</td>\n",
              "      <td>ИТКС.443124.001 УБР-1</td>\n",
              "      <td>ОРС ТВГ, Малюгин</td>\n",
              "      <td>3</td>\n",
              "      <td>Докторова</td>\n",
              "      <td>NaN</td>\n",
              "      <td>NaN</td>\n",
              "      <td>NaN</td>\n",
              "    </tr>\n",
              "    <tr>\n",
              "      <th>2</th>\n",
              "      <td>2021-12-28</td>\n",
              "      <td>2021-12-29</td>\n",
              "      <td>ИТКС.685669.001СБ</td>\n",
              "      <td>Жгут</td>\n",
              "      <td>ОРС ТВГ, Малюгин</td>\n",
              "      <td>4</td>\n",
              "      <td>Докторова</td>\n",
              "      <td>NaN</td>\n",
              "      <td>10, 17</td>\n",
              "      <td>NaN</td>\n",
              "    </tr>\n",
              "    <tr>\n",
              "      <th>3</th>\n",
              "      <td>2021-12-28</td>\n",
              "      <td>2021-12-29</td>\n",
              "      <td>ИТКС.443124.001ИЭ</td>\n",
              "      <td>NaN</td>\n",
              "      <td>ОРС ТВГ, Бурков</td>\n",
              "      <td>9</td>\n",
              "      <td>Докторова</td>\n",
              "      <td>NaN</td>\n",
              "      <td>2, 19, 3, 17, 6, 7</td>\n",
              "      <td>17, 4</td>\n",
              "    </tr>\n",
              "    <tr>\n",
              "      <th>4</th>\n",
              "      <td>2021-12-28</td>\n",
              "      <td>2021-12-29</td>\n",
              "      <td>ИТКС.443124.001ПЭ4</td>\n",
              "      <td>NaN</td>\n",
              "      <td>ОРС ТВГ, Малюгин</td>\n",
              "      <td>1</td>\n",
              "      <td>Докторова</td>\n",
              "      <td>NaN</td>\n",
              "      <td>NaN</td>\n",
              "      <td>NaN</td>\n",
              "    </tr>\n",
              "    <tr>\n",
              "      <th>5</th>\n",
              "      <td>2021-12-28</td>\n",
              "      <td>2021-12-29</td>\n",
              "      <td>ИТКС.443124.001Е1</td>\n",
              "      <td>NaN</td>\n",
              "      <td>ОРС ТВГ, Малюгин</td>\n",
              "      <td>2</td>\n",
              "      <td>Докторова</td>\n",
              "      <td>NaN</td>\n",
              "      <td>17</td>\n",
              "      <td>17, 3</td>\n",
              "    </tr>\n",
              "  </tbody>\n",
              "</table>\n",
              "</div>\n",
              "      <button class=\"colab-df-convert\" onclick=\"convertToInteractive('df-85b17839-62fc-49a3-8ba8-c3b39151bda5')\"\n",
              "              title=\"Convert this dataframe to an interactive table.\"\n",
              "              style=\"display:none;\">\n",
              "        \n",
              "  <svg xmlns=\"http://www.w3.org/2000/svg\" height=\"24px\"viewBox=\"0 0 24 24\"\n",
              "       width=\"24px\">\n",
              "    <path d=\"M0 0h24v24H0V0z\" fill=\"none\"/>\n",
              "    <path d=\"M18.56 5.44l.94 2.06.94-2.06 2.06-.94-2.06-.94-.94-2.06-.94 2.06-2.06.94zm-11 1L8.5 8.5l.94-2.06 2.06-.94-2.06-.94L8.5 2.5l-.94 2.06-2.06.94zm10 10l.94 2.06.94-2.06 2.06-.94-2.06-.94-.94-2.06-.94 2.06-2.06.94z\"/><path d=\"M17.41 7.96l-1.37-1.37c-.4-.4-.92-.59-1.43-.59-.52 0-1.04.2-1.43.59L10.3 9.45l-7.72 7.72c-.78.78-.78 2.05 0 2.83L4 21.41c.39.39.9.59 1.41.59.51 0 1.02-.2 1.41-.59l7.78-7.78 2.81-2.81c.8-.78.8-2.07 0-2.86zM5.41 20L4 18.59l7.72-7.72 1.47 1.35L5.41 20z\"/>\n",
              "  </svg>\n",
              "      </button>\n",
              "      \n",
              "  <style>\n",
              "    .colab-df-container {\n",
              "      display:flex;\n",
              "      flex-wrap:wrap;\n",
              "      gap: 12px;\n",
              "    }\n",
              "\n",
              "    .colab-df-convert {\n",
              "      background-color: #E8F0FE;\n",
              "      border: none;\n",
              "      border-radius: 50%;\n",
              "      cursor: pointer;\n",
              "      display: none;\n",
              "      fill: #1967D2;\n",
              "      height: 32px;\n",
              "      padding: 0 0 0 0;\n",
              "      width: 32px;\n",
              "    }\n",
              "\n",
              "    .colab-df-convert:hover {\n",
              "      background-color: #E2EBFA;\n",
              "      box-shadow: 0px 1px 2px rgba(60, 64, 67, 0.3), 0px 1px 3px 1px rgba(60, 64, 67, 0.15);\n",
              "      fill: #174EA6;\n",
              "    }\n",
              "\n",
              "    [theme=dark] .colab-df-convert {\n",
              "      background-color: #3B4455;\n",
              "      fill: #D2E3FC;\n",
              "    }\n",
              "\n",
              "    [theme=dark] .colab-df-convert:hover {\n",
              "      background-color: #434B5C;\n",
              "      box-shadow: 0px 1px 3px 1px rgba(0, 0, 0, 0.15);\n",
              "      filter: drop-shadow(0px 1px 2px rgba(0, 0, 0, 0.3));\n",
              "      fill: #FFFFFF;\n",
              "    }\n",
              "  </style>\n",
              "\n",
              "      <script>\n",
              "        const buttonEl =\n",
              "          document.querySelector('#df-85b17839-62fc-49a3-8ba8-c3b39151bda5 button.colab-df-convert');\n",
              "        buttonEl.style.display =\n",
              "          google.colab.kernel.accessAllowed ? 'block' : 'none';\n",
              "\n",
              "        async function convertToInteractive(key) {\n",
              "          const element = document.querySelector('#df-85b17839-62fc-49a3-8ba8-c3b39151bda5');\n",
              "          const dataTable =\n",
              "            await google.colab.kernel.invokeFunction('convertToInteractive',\n",
              "                                                     [key], {});\n",
              "          if (!dataTable) return;\n",
              "\n",
              "          const docLinkHtml = 'Like what you see? Visit the ' +\n",
              "            '<a target=\"_blank\" href=https://colab.research.google.com/notebooks/data_table.ipynb>data table notebook</a>'\n",
              "            + ' to learn more about interactive tables.';\n",
              "          element.innerHTML = '';\n",
              "          dataTable['output_type'] = 'display_data';\n",
              "          await google.colab.output.renderOutput(dataTable, element);\n",
              "          const docLink = document.createElement('div');\n",
              "          docLink.innerHTML = docLinkHtml;\n",
              "          element.appendChild(docLink);\n",
              "        }\n",
              "      </script>\n",
              "    </div>\n",
              "  </div>\n",
              "  "
            ]
          },
          "metadata": {},
          "execution_count": 426
        }
      ]
    },
    {
      "cell_type": "code",
      "source": [
        "data.info()"
      ],
      "metadata": {
        "colab": {
          "base_uri": "https://localhost:8080/"
        },
        "id": "1A8fDJcwJv9m",
        "outputId": "c49cba3a-c7b4-4b55-a7de-8a4f9683d5f2"
      },
      "execution_count": null,
      "outputs": [
        {
          "output_type": "stream",
          "name": "stdout",
          "text": [
            "<class 'pandas.core.frame.DataFrame'>\n",
            "Int64Index: 1125 entries, 1 to 1125\n",
            "Data columns (total 10 columns):\n",
            " #   Column                            Non-Null Count  Dtype         \n",
            "---  ------                            --------------  -----         \n",
            " 0   Дата получения документа          1124 non-null   datetime64[ns]\n",
            " 1   Дата возврата документа           1123 non-null   datetime64[ns]\n",
            " 2   Номер документа                   1119 non-null   object        \n",
            " 3   Название изделия/обозначение      1079 non-null   object        \n",
            " 4   Отдел, разработчик                962 non-null    object        \n",
            " 5   Количество форматов А4            1125 non-null   int64         \n",
            " 6   Фамилия эксперта                  1123 non-null   object        \n",
            " 7   Проект, тема, литера/ примечания  105 non-null    object        \n",
            " 8    Замечания (шифры)                161 non-null    object        \n",
            " 9   Повторные замечания (шифры)       19 non-null     object        \n",
            "dtypes: datetime64[ns](2), int64(1), object(7)\n",
            "memory usage: 96.7+ KB\n"
          ]
        }
      ]
    },
    {
      "cell_type": "markdown",
      "source": [
        "# 1 Обработка пропусков в данных"
      ],
      "metadata": {
        "id": "nrv0aSFFKjs2"
      }
    },
    {
      "cell_type": "code",
      "source": [
        "# заполняем пропуски в столбце 'Отдел, разработчик' значениями предыдущей строки\n",
        "data['Отдел, разработчик'] = data['Отдел, разработчик'].fillna(method='ffill')"
      ],
      "metadata": {
        "id": "zDOu0KBPQDjF"
      },
      "execution_count": null,
      "outputs": []
    },
    {
      "cell_type": "code",
      "source": [
        "data['Дата получения документа'] = data['Дата получения документа'].fillna(method='ffill')\n",
        "data['Дата возврата документа'] = data['Дата возврата документа'].fillna(data['Дата получения документа'])"
      ],
      "metadata": {
        "id": "gHEhNyScXoTR"
      },
      "execution_count": null,
      "outputs": []
    },
    {
      "cell_type": "code",
      "source": [
        "data[' Замечания (шифры)'] = data[' Замечания (шифры)'].fillna(0)"
      ],
      "metadata": {
        "id": "mSKLe-FsohSw"
      },
      "execution_count": null,
      "outputs": []
    },
    {
      "cell_type": "markdown",
      "source": [
        "# 2 Создание дополнительных столбцов"
      ],
      "metadata": {
        "id": "SAz3ouSge5mI"
      }
    },
    {
      "cell_type": "code",
      "source": [
        "data['Срок проверки'] = data['Дата возврата документа'] - data['Дата получения документа'] + pd.offsets.Day(1)"
      ],
      "metadata": {
        "id": "Lk2DJaCGKCz6"
      },
      "execution_count": null,
      "outputs": []
    },
    {
      "cell_type": "code",
      "source": [
        "data['Разработчик'] = ''"
      ],
      "metadata": {
        "id": "QS7Ddb1DiezI"
      },
      "execution_count": null,
      "outputs": []
    },
    {
      "cell_type": "code",
      "source": [
        "# разделяем значения из столбца 'Отдел, разработчик' на 2 значения\n",
        "for i in range(data['Отдел, разработчик'].shape[0]):\n",
        "  data['Отдел, разработчик'].iloc[i] = data['Отдел, разработчик'].iloc[i].split(',')\n",
        "  for s in data['Отдел, разработчик'].iloc[i]:\n",
        "    s = s.strip()\n",
        "    data['Разработчик'].iloc[i] = data['Отдел, разработчик'].iloc[i][1]\n",
        "  data['Отдел, разработчик'].iloc[i] = data['Отдел, разработчик'].iloc[i][0]"
      ],
      "metadata": {
        "colab": {
          "base_uri": "https://localhost:8080/"
        },
        "id": "xSUpkWq8fgJW",
        "outputId": "de0b9a8a-08e4-4772-eac9-ae9756cf340c"
      },
      "execution_count": null,
      "outputs": [
        {
          "output_type": "stream",
          "name": "stderr",
          "text": [
            "/usr/local/lib/python3.7/dist-packages/pandas/core/indexing.py:1732: SettingWithCopyWarning: \n",
            "A value is trying to be set on a copy of a slice from a DataFrame\n",
            "\n",
            "See the caveats in the documentation: https://pandas.pydata.org/pandas-docs/stable/user_guide/indexing.html#returning-a-view-versus-a-copy\n",
            "  self._setitem_single_block(indexer, value, name)\n"
          ]
        }
      ]
    },
    {
      "cell_type": "code",
      "source": [
        "# исправляем типичные ошибки в названиях отделов + актуализируем названия\n",
        "data['Отдел, разработчик'] = data['Отдел, разработчик'].replace(['ОРМД', 'ОРМС'],'ОРМ')\n",
        "data['Отдел, разработчик'] = data['Отдел, разработчик'].replace('ОРЛГ', 'ОРИС')\n",
        "data['Отдел, разработчик'] = data['Отдел, разработчик'].replace('ОРСТВГ', 'ОРС ТВГ')\n",
        "data['Отдел, разработчик'] = data['Отдел, разработчик'].replace('ОРСДВ', 'ОРС ДВ')"
      ],
      "metadata": {
        "id": "V7oks8xajoC_"
      },
      "execution_count": null,
      "outputs": []
    },
    {
      "cell_type": "code",
      "source": [
        "data.info()"
      ],
      "metadata": {
        "colab": {
          "base_uri": "https://localhost:8080/"
        },
        "id": "0VCnOisflYq6",
        "outputId": "48c48f33-c04f-498f-8c97-72e73fb6e550"
      },
      "execution_count": null,
      "outputs": [
        {
          "output_type": "stream",
          "name": "stdout",
          "text": [
            "<class 'pandas.core.frame.DataFrame'>\n",
            "Int64Index: 1125 entries, 1 to 1125\n",
            "Data columns (total 12 columns):\n",
            " #   Column                            Non-Null Count  Dtype          \n",
            "---  ------                            --------------  -----          \n",
            " 0   Дата получения документа          1125 non-null   datetime64[ns] \n",
            " 1   Дата возврата документа           1125 non-null   datetime64[ns] \n",
            " 2   Номер документа                   1119 non-null   object         \n",
            " 3   Название изделия/обозначение      1079 non-null   object         \n",
            " 4   Отдел, разработчик                1125 non-null   object         \n",
            " 5   Количество форматов А4            1125 non-null   int64          \n",
            " 6   Фамилия эксперта                  1123 non-null   object         \n",
            " 7   Проект, тема, литера/ примечания  105 non-null    object         \n",
            " 8    Замечания (шифры)                1125 non-null   object         \n",
            " 9   Повторные замечания (шифры)       19 non-null     object         \n",
            " 10  Срок проверки                     1125 non-null   timedelta64[ns]\n",
            " 11  Разработчик                       1125 non-null   object         \n",
            "dtypes: datetime64[ns](2), int64(1), object(8), timedelta64[ns](1)\n",
            "memory usage: 114.3+ KB\n"
          ]
        }
      ]
    },
    {
      "cell_type": "markdown",
      "source": [
        "# 3 Обработка столбца с замечаниями"
      ],
      "metadata": {
        "id": "2Rcmpc_GlpPH"
      }
    },
    {
      "cell_type": "code",
      "source": [
        "# для удобства дальнейшей обработки создаем список шифров\n",
        "for i in range(data[' Замечания (шифры)'].shape[0]):\n",
        "   a = [s.strip() for s in re.split('[,.]', str(data[' Замечания (шифры)'].iloc[i]))]\n",
        "   data[' Замечания (шифры)'].iloc[i] = a"
      ],
      "metadata": {
        "colab": {
          "base_uri": "https://localhost:8080/"
        },
        "id": "44C5t60dlnvc",
        "outputId": "4b10654a-5dad-4346-a554-c5955f79ca58"
      },
      "execution_count": null,
      "outputs": [
        {
          "output_type": "stream",
          "name": "stderr",
          "text": [
            "/usr/local/lib/python3.7/dist-packages/pandas/core/indexing.py:1732: SettingWithCopyWarning: \n",
            "A value is trying to be set on a copy of a slice from a DataFrame\n",
            "\n",
            "See the caveats in the documentation: https://pandas.pydata.org/pandas-docs/stable/user_guide/indexing.html#returning-a-view-versus-a-copy\n",
            "  self._setitem_single_block(indexer, value, name)\n"
          ]
        }
      ]
    },
    {
      "cell_type": "code",
      "source": [
        "# словарь для хранения количества замечаний по каждому шифру\n",
        "codes = dict(zip(np.arange(0, 31), np.zeros(30)))"
      ],
      "metadata": {
        "id": "ZKs1nqu-vD38"
      },
      "execution_count": null,
      "outputs": []
    },
    {
      "cell_type": "code",
      "source": [
        "# функция для подсчета количества ошибок по отделам\n",
        "\n",
        "def count_codes(data: pd.DataFrame, department: str, codes: dict) -> dict:\n",
        "  # цикл по строкам датафрейма  с помощью указателя i\n",
        "  \n",
        "  for i in range(data.shape[0]):\n",
        "    # если строка относится к нужному отделу\n",
        "    if data['Отдел, разработчик'].iloc[i] == department:\n",
        "      # берем значение из столбца с замечаниями\n",
        "      \n",
        "      for c in data[' Замечания (шифры)'].iloc[i]:\n",
        "        # добавляем к счетчику шифров\n",
        "        codes[int(c)] += 1\n",
        "  \n",
        "  return codes"
      ],
      "metadata": {
        "id": "xpY0_PUqwG9v"
      },
      "execution_count": null,
      "outputs": []
    },
    {
      "cell_type": "code",
      "source": [
        "codes_dp = namedtuple('codes_dp', ['department', 'codes'])\n",
        "\n",
        "counts_of_codes = [codes_dp(dp, count_codes(data, dp, codes)) for dp in data['Отдел, разработчик'].unique()]"
      ],
      "metadata": {
        "id": "76Iejkzz6vRt"
      },
      "execution_count": null,
      "outputs": []
    },
    {
      "cell_type": "code",
      "source": [
        "counts_of_codes[0]"
      ],
      "metadata": {
        "colab": {
          "base_uri": "https://localhost:8080/"
        },
        "id": "dnPJm4oG4Byl",
        "outputId": "e104cbb4-03a2-4bdc-bebf-26366675b9ca"
      },
      "execution_count": null,
      "outputs": [
        {
          "output_type": "execute_result",
          "data": {
            "text/plain": [
              "codes_dp(department='ОРС ТВГ', codes={0: 979.0, 1: 8.0, 2: 29.0, 3: 9.0, 4: 37.0, 5: 41.0, 6: 16.0, 7: 13.0, 8: 3.0, 9: 10.0, 10: 20.0, 11: 4.0, 12: 28.0, 13: 0.0, 14: 0.0, 15: 7.0, 16: 1.0, 17: 110.0, 18: 12.0, 19: 43.0, 20: 2.0, 21: 3.0, 22: 1.0, 23: 0.0, 24: 2.0, 25: 1.0, 26: 1.0, 27: 25.0, 28: 2.0, 29: 5.0})"
            ]
          },
          "metadata": {},
          "execution_count": 450
        }
      ]
    },
    {
      "cell_type": "code",
      "source": [
        "data.groupby(['Отдел, разработчик']).sum()"
      ],
      "metadata": {
        "colab": {
          "base_uri": "https://localhost:8080/",
          "height": 394
        },
        "id": "p5RMOFUTs7v2",
        "outputId": "a2f56a8f-530b-44fe-831c-a27bc73eb125"
      },
      "execution_count": null,
      "outputs": [
        {
          "output_type": "execute_result",
          "data": {
            "text/plain": [
              "                    Количество форматов А4\n",
              "Отдел, разработчик                        \n",
              "КО                                    1463\n",
              "ОГТ                                    334\n",
              "ОН                                      21\n",
              "ОРИС                                  1185\n",
              "ОРМ                                    206\n",
              "ОРНК                                   353\n",
              "ОРС ДВ                                 406\n",
              "ОРС ТВГ                                300\n",
              "ОРТА                                    97\n",
              "ОРЭ                                    620"
            ],
            "text/html": [
              "\n",
              "  <div id=\"df-7336d943-a397-4533-ae5f-dc838bfb3230\">\n",
              "    <div class=\"colab-df-container\">\n",
              "      <div>\n",
              "<style scoped>\n",
              "    .dataframe tbody tr th:only-of-type {\n",
              "        vertical-align: middle;\n",
              "    }\n",
              "\n",
              "    .dataframe tbody tr th {\n",
              "        vertical-align: top;\n",
              "    }\n",
              "\n",
              "    .dataframe thead th {\n",
              "        text-align: right;\n",
              "    }\n",
              "</style>\n",
              "<table border=\"1\" class=\"dataframe\">\n",
              "  <thead>\n",
              "    <tr style=\"text-align: right;\">\n",
              "      <th></th>\n",
              "      <th>Количество форматов А4</th>\n",
              "    </tr>\n",
              "    <tr>\n",
              "      <th>Отдел, разработчик</th>\n",
              "      <th></th>\n",
              "    </tr>\n",
              "  </thead>\n",
              "  <tbody>\n",
              "    <tr>\n",
              "      <th>КО</th>\n",
              "      <td>1463</td>\n",
              "    </tr>\n",
              "    <tr>\n",
              "      <th>ОГТ</th>\n",
              "      <td>334</td>\n",
              "    </tr>\n",
              "    <tr>\n",
              "      <th>ОН</th>\n",
              "      <td>21</td>\n",
              "    </tr>\n",
              "    <tr>\n",
              "      <th>ОРИС</th>\n",
              "      <td>1185</td>\n",
              "    </tr>\n",
              "    <tr>\n",
              "      <th>ОРМ</th>\n",
              "      <td>206</td>\n",
              "    </tr>\n",
              "    <tr>\n",
              "      <th>ОРНК</th>\n",
              "      <td>353</td>\n",
              "    </tr>\n",
              "    <tr>\n",
              "      <th>ОРС ДВ</th>\n",
              "      <td>406</td>\n",
              "    </tr>\n",
              "    <tr>\n",
              "      <th>ОРС ТВГ</th>\n",
              "      <td>300</td>\n",
              "    </tr>\n",
              "    <tr>\n",
              "      <th>ОРТА</th>\n",
              "      <td>97</td>\n",
              "    </tr>\n",
              "    <tr>\n",
              "      <th>ОРЭ</th>\n",
              "      <td>620</td>\n",
              "    </tr>\n",
              "  </tbody>\n",
              "</table>\n",
              "</div>\n",
              "      <button class=\"colab-df-convert\" onclick=\"convertToInteractive('df-7336d943-a397-4533-ae5f-dc838bfb3230')\"\n",
              "              title=\"Convert this dataframe to an interactive table.\"\n",
              "              style=\"display:none;\">\n",
              "        \n",
              "  <svg xmlns=\"http://www.w3.org/2000/svg\" height=\"24px\"viewBox=\"0 0 24 24\"\n",
              "       width=\"24px\">\n",
              "    <path d=\"M0 0h24v24H0V0z\" fill=\"none\"/>\n",
              "    <path d=\"M18.56 5.44l.94 2.06.94-2.06 2.06-.94-2.06-.94-.94-2.06-.94 2.06-2.06.94zm-11 1L8.5 8.5l.94-2.06 2.06-.94-2.06-.94L8.5 2.5l-.94 2.06-2.06.94zm10 10l.94 2.06.94-2.06 2.06-.94-2.06-.94-.94-2.06-.94 2.06-2.06.94z\"/><path d=\"M17.41 7.96l-1.37-1.37c-.4-.4-.92-.59-1.43-.59-.52 0-1.04.2-1.43.59L10.3 9.45l-7.72 7.72c-.78.78-.78 2.05 0 2.83L4 21.41c.39.39.9.59 1.41.59.51 0 1.02-.2 1.41-.59l7.78-7.78 2.81-2.81c.8-.78.8-2.07 0-2.86zM5.41 20L4 18.59l7.72-7.72 1.47 1.35L5.41 20z\"/>\n",
              "  </svg>\n",
              "      </button>\n",
              "      \n",
              "  <style>\n",
              "    .colab-df-container {\n",
              "      display:flex;\n",
              "      flex-wrap:wrap;\n",
              "      gap: 12px;\n",
              "    }\n",
              "\n",
              "    .colab-df-convert {\n",
              "      background-color: #E8F0FE;\n",
              "      border: none;\n",
              "      border-radius: 50%;\n",
              "      cursor: pointer;\n",
              "      display: none;\n",
              "      fill: #1967D2;\n",
              "      height: 32px;\n",
              "      padding: 0 0 0 0;\n",
              "      width: 32px;\n",
              "    }\n",
              "\n",
              "    .colab-df-convert:hover {\n",
              "      background-color: #E2EBFA;\n",
              "      box-shadow: 0px 1px 2px rgba(60, 64, 67, 0.3), 0px 1px 3px 1px rgba(60, 64, 67, 0.15);\n",
              "      fill: #174EA6;\n",
              "    }\n",
              "\n",
              "    [theme=dark] .colab-df-convert {\n",
              "      background-color: #3B4455;\n",
              "      fill: #D2E3FC;\n",
              "    }\n",
              "\n",
              "    [theme=dark] .colab-df-convert:hover {\n",
              "      background-color: #434B5C;\n",
              "      box-shadow: 0px 1px 3px 1px rgba(0, 0, 0, 0.15);\n",
              "      filter: drop-shadow(0px 1px 2px rgba(0, 0, 0, 0.3));\n",
              "      fill: #FFFFFF;\n",
              "    }\n",
              "  </style>\n",
              "\n",
              "      <script>\n",
              "        const buttonEl =\n",
              "          document.querySelector('#df-7336d943-a397-4533-ae5f-dc838bfb3230 button.colab-df-convert');\n",
              "        buttonEl.style.display =\n",
              "          google.colab.kernel.accessAllowed ? 'block' : 'none';\n",
              "\n",
              "        async function convertToInteractive(key) {\n",
              "          const element = document.querySelector('#df-7336d943-a397-4533-ae5f-dc838bfb3230');\n",
              "          const dataTable =\n",
              "            await google.colab.kernel.invokeFunction('convertToInteractive',\n",
              "                                                     [key], {});\n",
              "          if (!dataTable) return;\n",
              "\n",
              "          const docLinkHtml = 'Like what you see? Visit the ' +\n",
              "            '<a target=\"_blank\" href=https://colab.research.google.com/notebooks/data_table.ipynb>data table notebook</a>'\n",
              "            + ' to learn more about interactive tables.';\n",
              "          element.innerHTML = '';\n",
              "          dataTable['output_type'] = 'display_data';\n",
              "          await google.colab.output.renderOutput(dataTable, element);\n",
              "          const docLink = document.createElement('div');\n",
              "          docLink.innerHTML = docLinkHtml;\n",
              "          element.appendChild(docLink);\n",
              "        }\n",
              "      </script>\n",
              "    </div>\n",
              "  </div>\n",
              "  "
            ]
          },
          "metadata": {},
          "execution_count": 290
        }
      ]
    },
    {
      "cell_type": "code",
      "source": [
        "# разделим датасет на части поквартально и на полугодия\n",
        "data_1q = data[(data['Дата получения документа'] > '2022-01-01') & (data['Дата получения документа'] < '2022-04-01')]\n",
        "data_2q = data[(data['Дата получения документа'] >= '2022-04-01') & (data['Дата получения документа'] < '2022-07-01')]\n",
        "data_1_half_year = data[(data['Дата получения документа'] >= '2022-01-01') & (data['Дата получения документа'] < '2022-07-01')]"
      ],
      "metadata": {
        "id": "6gawub0fVuEm"
      },
      "execution_count": null,
      "outputs": []
    },
    {
      "cell_type": "code",
      "source": [
        "print(f'1 квартал: {data_1q.shape} \\n2 квартал: {data_2q.shape} \\nПолугодие: {data_1_half_year.shape}')"
      ],
      "metadata": {
        "colab": {
          "base_uri": "https://localhost:8080/"
        },
        "id": "7vymsOeXdSXm",
        "outputId": "b0073da2-190a-40c6-eff8-8069eea9fbe1"
      },
      "execution_count": null,
      "outputs": [
        {
          "output_type": "stream",
          "name": "stdout",
          "text": [
            "1 квартал: (493, 11) \n",
            "2 квартал: (569, 11) \n",
            "Полугодие: (1062, 11)\n"
          ]
        }
      ]
    },
    {
      "cell_type": "code",
      "source": [
        ""
      ],
      "metadata": {
        "id": "ACLvrA_FdVt6"
      },
      "execution_count": null,
      "outputs": []
    }
  ]
}