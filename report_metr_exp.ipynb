{
  "nbformat": 4,
  "nbformat_minor": 0,
  "metadata": {
    "colab": {
      "name": "report_metr_exp.ipynb",
      "provenance": [],
      "authorship_tag": "ABX9TyOql+FiCauPdE49xNUmFnmR",
      "include_colab_link": true
    },
    "kernelspec": {
      "name": "python3",
      "display_name": "Python 3"
    },
    "language_info": {
      "name": "python"
    }
  },
  "cells": [
    {
      "cell_type": "markdown",
      "metadata": {
        "id": "view-in-github",
        "colab_type": "text"
      },
      "source": [
        "<a href=\"https://colab.research.google.com/github/wizard339/article_finder/blob/main/report_metr_exp.ipynb\" target=\"_parent\"><img src=\"https://colab.research.google.com/assets/colab-badge.svg\" alt=\"Open In Colab\"/></a>"
      ]
    },
    {
      "cell_type": "code",
      "execution_count": 1,
      "metadata": {
        "id": "Q5Emg2IiJYCi"
      },
      "outputs": [],
      "source": [
        "import pandas as pd\n",
        "import numpy as np\n",
        "import re\n",
        "import zipfile\n",
        "from collections import namedtuple"
      ]
    },
    {
      "cell_type": "code",
      "source": [
        "data = pd.read_excel('/content/Для анализа.xlsx', index_col='№ п/п')\n",
        "data.head()"
      ],
      "metadata": {
        "colab": {
          "base_uri": "https://localhost:8080/",
          "height": 420
        },
        "id": "A_hqi-UIJk7J",
        "outputId": "760478c8-1cf9-4705-da1d-25026ce9b9b3"
      },
      "execution_count": 2,
      "outputs": [
        {
          "output_type": "execute_result",
          "data": {
            "text/plain": [
              "      Дата получения документа Дата возврата документа     Номер документа  \\\n",
              "№ п/п                                                                        \n",
              "1                   2021-12-28              2021-12-29        ИТКС.1114-21   \n",
              "2                   2021-12-28              2021-12-29   ИТКС.685669.001СБ   \n",
              "3                   2021-12-28              2021-12-29   ИТКС.443124.001ИЭ   \n",
              "4                   2021-12-28              2021-12-29  ИТКС.443124.001ПЭ4   \n",
              "5                   2021-12-28              2021-12-29   ИТКС.443124.001Е1   \n",
              "\n",
              "      Название изделия/обозначение Отдел, разработчик  Количество форматов А4  \\\n",
              "№ п/п                                                                           \n",
              "1            ИТКС.443124.001 УБР-1   ОРС ТВГ, Малюгин                       3   \n",
              "2                             Жгут   ОРС ТВГ, Малюгин                       4   \n",
              "3                              NaN    ОРС ТВГ, Бурков                       9   \n",
              "4                              NaN   ОРС ТВГ, Малюгин                       1   \n",
              "5                              NaN   ОРС ТВГ, Малюгин                       2   \n",
              "\n",
              "      Фамилия эксперта Проект, тема, литера/ примечания   Замечания (шифры)  \\\n",
              "№ п/п                                                                         \n",
              "1            Докторова                              NaN                 NaN   \n",
              "2            Докторова                              NaN              10, 17   \n",
              "3            Докторова                              NaN  2, 19, 3, 17, 6, 7   \n",
              "4            Докторова                              NaN                 NaN   \n",
              "5            Докторова                              NaN                  17   \n",
              "\n",
              "      Повторные замечания (шифры)  \n",
              "№ п/п                              \n",
              "1                             NaN  \n",
              "2                             NaN  \n",
              "3                           17, 4  \n",
              "4                             NaN  \n",
              "5                           17, 3  "
            ],
            "text/html": [
              "\n",
              "  <div id=\"df-e69f184f-cdeb-4b2c-8c90-6ad9d93d3496\">\n",
              "    <div class=\"colab-df-container\">\n",
              "      <div>\n",
              "<style scoped>\n",
              "    .dataframe tbody tr th:only-of-type {\n",
              "        vertical-align: middle;\n",
              "    }\n",
              "\n",
              "    .dataframe tbody tr th {\n",
              "        vertical-align: top;\n",
              "    }\n",
              "\n",
              "    .dataframe thead th {\n",
              "        text-align: right;\n",
              "    }\n",
              "</style>\n",
              "<table border=\"1\" class=\"dataframe\">\n",
              "  <thead>\n",
              "    <tr style=\"text-align: right;\">\n",
              "      <th></th>\n",
              "      <th>Дата получения документа</th>\n",
              "      <th>Дата возврата документа</th>\n",
              "      <th>Номер документа</th>\n",
              "      <th>Название изделия/обозначение</th>\n",
              "      <th>Отдел, разработчик</th>\n",
              "      <th>Количество форматов А4</th>\n",
              "      <th>Фамилия эксперта</th>\n",
              "      <th>Проект, тема, литера/ примечания</th>\n",
              "      <th>Замечания (шифры)</th>\n",
              "      <th>Повторные замечания (шифры)</th>\n",
              "    </tr>\n",
              "    <tr>\n",
              "      <th>№ п/п</th>\n",
              "      <th></th>\n",
              "      <th></th>\n",
              "      <th></th>\n",
              "      <th></th>\n",
              "      <th></th>\n",
              "      <th></th>\n",
              "      <th></th>\n",
              "      <th></th>\n",
              "      <th></th>\n",
              "      <th></th>\n",
              "    </tr>\n",
              "  </thead>\n",
              "  <tbody>\n",
              "    <tr>\n",
              "      <th>1</th>\n",
              "      <td>2021-12-28</td>\n",
              "      <td>2021-12-29</td>\n",
              "      <td>ИТКС.1114-21</td>\n",
              "      <td>ИТКС.443124.001 УБР-1</td>\n",
              "      <td>ОРС ТВГ, Малюгин</td>\n",
              "      <td>3</td>\n",
              "      <td>Докторова</td>\n",
              "      <td>NaN</td>\n",
              "      <td>NaN</td>\n",
              "      <td>NaN</td>\n",
              "    </tr>\n",
              "    <tr>\n",
              "      <th>2</th>\n",
              "      <td>2021-12-28</td>\n",
              "      <td>2021-12-29</td>\n",
              "      <td>ИТКС.685669.001СБ</td>\n",
              "      <td>Жгут</td>\n",
              "      <td>ОРС ТВГ, Малюгин</td>\n",
              "      <td>4</td>\n",
              "      <td>Докторова</td>\n",
              "      <td>NaN</td>\n",
              "      <td>10, 17</td>\n",
              "      <td>NaN</td>\n",
              "    </tr>\n",
              "    <tr>\n",
              "      <th>3</th>\n",
              "      <td>2021-12-28</td>\n",
              "      <td>2021-12-29</td>\n",
              "      <td>ИТКС.443124.001ИЭ</td>\n",
              "      <td>NaN</td>\n",
              "      <td>ОРС ТВГ, Бурков</td>\n",
              "      <td>9</td>\n",
              "      <td>Докторова</td>\n",
              "      <td>NaN</td>\n",
              "      <td>2, 19, 3, 17, 6, 7</td>\n",
              "      <td>17, 4</td>\n",
              "    </tr>\n",
              "    <tr>\n",
              "      <th>4</th>\n",
              "      <td>2021-12-28</td>\n",
              "      <td>2021-12-29</td>\n",
              "      <td>ИТКС.443124.001ПЭ4</td>\n",
              "      <td>NaN</td>\n",
              "      <td>ОРС ТВГ, Малюгин</td>\n",
              "      <td>1</td>\n",
              "      <td>Докторова</td>\n",
              "      <td>NaN</td>\n",
              "      <td>NaN</td>\n",
              "      <td>NaN</td>\n",
              "    </tr>\n",
              "    <tr>\n",
              "      <th>5</th>\n",
              "      <td>2021-12-28</td>\n",
              "      <td>2021-12-29</td>\n",
              "      <td>ИТКС.443124.001Е1</td>\n",
              "      <td>NaN</td>\n",
              "      <td>ОРС ТВГ, Малюгин</td>\n",
              "      <td>2</td>\n",
              "      <td>Докторова</td>\n",
              "      <td>NaN</td>\n",
              "      <td>17</td>\n",
              "      <td>17, 3</td>\n",
              "    </tr>\n",
              "  </tbody>\n",
              "</table>\n",
              "</div>\n",
              "      <button class=\"colab-df-convert\" onclick=\"convertToInteractive('df-e69f184f-cdeb-4b2c-8c90-6ad9d93d3496')\"\n",
              "              title=\"Convert this dataframe to an interactive table.\"\n",
              "              style=\"display:none;\">\n",
              "        \n",
              "  <svg xmlns=\"http://www.w3.org/2000/svg\" height=\"24px\"viewBox=\"0 0 24 24\"\n",
              "       width=\"24px\">\n",
              "    <path d=\"M0 0h24v24H0V0z\" fill=\"none\"/>\n",
              "    <path d=\"M18.56 5.44l.94 2.06.94-2.06 2.06-.94-2.06-.94-.94-2.06-.94 2.06-2.06.94zm-11 1L8.5 8.5l.94-2.06 2.06-.94-2.06-.94L8.5 2.5l-.94 2.06-2.06.94zm10 10l.94 2.06.94-2.06 2.06-.94-2.06-.94-.94-2.06-.94 2.06-2.06.94z\"/><path d=\"M17.41 7.96l-1.37-1.37c-.4-.4-.92-.59-1.43-.59-.52 0-1.04.2-1.43.59L10.3 9.45l-7.72 7.72c-.78.78-.78 2.05 0 2.83L4 21.41c.39.39.9.59 1.41.59.51 0 1.02-.2 1.41-.59l7.78-7.78 2.81-2.81c.8-.78.8-2.07 0-2.86zM5.41 20L4 18.59l7.72-7.72 1.47 1.35L5.41 20z\"/>\n",
              "  </svg>\n",
              "      </button>\n",
              "      \n",
              "  <style>\n",
              "    .colab-df-container {\n",
              "      display:flex;\n",
              "      flex-wrap:wrap;\n",
              "      gap: 12px;\n",
              "    }\n",
              "\n",
              "    .colab-df-convert {\n",
              "      background-color: #E8F0FE;\n",
              "      border: none;\n",
              "      border-radius: 50%;\n",
              "      cursor: pointer;\n",
              "      display: none;\n",
              "      fill: #1967D2;\n",
              "      height: 32px;\n",
              "      padding: 0 0 0 0;\n",
              "      width: 32px;\n",
              "    }\n",
              "\n",
              "    .colab-df-convert:hover {\n",
              "      background-color: #E2EBFA;\n",
              "      box-shadow: 0px 1px 2px rgba(60, 64, 67, 0.3), 0px 1px 3px 1px rgba(60, 64, 67, 0.15);\n",
              "      fill: #174EA6;\n",
              "    }\n",
              "\n",
              "    [theme=dark] .colab-df-convert {\n",
              "      background-color: #3B4455;\n",
              "      fill: #D2E3FC;\n",
              "    }\n",
              "\n",
              "    [theme=dark] .colab-df-convert:hover {\n",
              "      background-color: #434B5C;\n",
              "      box-shadow: 0px 1px 3px 1px rgba(0, 0, 0, 0.15);\n",
              "      filter: drop-shadow(0px 1px 2px rgba(0, 0, 0, 0.3));\n",
              "      fill: #FFFFFF;\n",
              "    }\n",
              "  </style>\n",
              "\n",
              "      <script>\n",
              "        const buttonEl =\n",
              "          document.querySelector('#df-e69f184f-cdeb-4b2c-8c90-6ad9d93d3496 button.colab-df-convert');\n",
              "        buttonEl.style.display =\n",
              "          google.colab.kernel.accessAllowed ? 'block' : 'none';\n",
              "\n",
              "        async function convertToInteractive(key) {\n",
              "          const element = document.querySelector('#df-e69f184f-cdeb-4b2c-8c90-6ad9d93d3496');\n",
              "          const dataTable =\n",
              "            await google.colab.kernel.invokeFunction('convertToInteractive',\n",
              "                                                     [key], {});\n",
              "          if (!dataTable) return;\n",
              "\n",
              "          const docLinkHtml = 'Like what you see? Visit the ' +\n",
              "            '<a target=\"_blank\" href=https://colab.research.google.com/notebooks/data_table.ipynb>data table notebook</a>'\n",
              "            + ' to learn more about interactive tables.';\n",
              "          element.innerHTML = '';\n",
              "          dataTable['output_type'] = 'display_data';\n",
              "          await google.colab.output.renderOutput(dataTable, element);\n",
              "          const docLink = document.createElement('div');\n",
              "          docLink.innerHTML = docLinkHtml;\n",
              "          element.appendChild(docLink);\n",
              "        }\n",
              "      </script>\n",
              "    </div>\n",
              "  </div>\n",
              "  "
            ]
          },
          "metadata": {},
          "execution_count": 2
        }
      ]
    },
    {
      "cell_type": "markdown",
      "source": [
        "# 1 Обработка пропусков в данных"
      ],
      "metadata": {
        "id": "nrv0aSFFKjs2"
      }
    },
    {
      "cell_type": "code",
      "source": [
        "# заполняем пропуски в столбце 'Отдел, разработчик' значениями предыдущей строки\n",
        "data['Отдел, разработчик'] = data['Отдел, разработчик'].fillna(method='ffill')"
      ],
      "metadata": {
        "id": "zDOu0KBPQDjF"
      },
      "execution_count": 3,
      "outputs": []
    },
    {
      "cell_type": "code",
      "source": [
        "data['Дата получения документа'] = data['Дата получения документа'].fillna(method='ffill')\n",
        "data['Дата возврата документа'] = data['Дата возврата документа'].fillna(data['Дата получения документа'])"
      ],
      "metadata": {
        "id": "gHEhNyScXoTR"
      },
      "execution_count": 4,
      "outputs": []
    },
    {
      "cell_type": "code",
      "source": [
        "data[' Замечания (шифры)'] = data[' Замечания (шифры)'].fillna(0)\n",
        "data['Повторные замечания (шифры)'] = data['Повторные замечания (шифры)'].fillna(0)"
      ],
      "metadata": {
        "id": "mSKLe-FsohSw"
      },
      "execution_count": 5,
      "outputs": []
    },
    {
      "cell_type": "markdown",
      "source": [
        "# 2 Создание дополнительных столбцов"
      ],
      "metadata": {
        "id": "SAz3ouSge5mI"
      }
    },
    {
      "cell_type": "code",
      "source": [
        "data['Срок проверки'] = data['Дата возврата документа'] - data['Дата получения документа'] + pd.offsets.Day(1)"
      ],
      "metadata": {
        "id": "Lk2DJaCGKCz6"
      },
      "execution_count": 6,
      "outputs": []
    },
    {
      "cell_type": "code",
      "source": [
        "data['Разработчик'] = ''"
      ],
      "metadata": {
        "id": "QS7Ddb1DiezI"
      },
      "execution_count": 7,
      "outputs": []
    },
    {
      "cell_type": "code",
      "source": [
        "# разделяем значения из столбца 'Отдел, разработчик' на 2 значения\n",
        "for i in range(data['Отдел, разработчик'].shape[0]):\n",
        "  data['Отдел, разработчик'].iloc[i] = data['Отдел, разработчик'].iloc[i].split(',')\n",
        "  for s in data['Отдел, разработчик'].iloc[i]:\n",
        "    s = s.strip()\n",
        "    data['Разработчик'].iloc[i] = data['Отдел, разработчик'].iloc[i][1].strip()\n",
        "  data['Отдел, разработчик'].iloc[i] = data['Отдел, разработчик'].iloc[i][0]"
      ],
      "metadata": {
        "colab": {
          "base_uri": "https://localhost:8080/"
        },
        "id": "xSUpkWq8fgJW",
        "outputId": "8abaabea-1373-4d1f-a20b-499c4dc8a5bc"
      },
      "execution_count": 8,
      "outputs": [
        {
          "output_type": "stream",
          "name": "stderr",
          "text": [
            "/usr/local/lib/python3.8/dist-packages/pandas/core/indexing.py:1732: SettingWithCopyWarning: \n",
            "A value is trying to be set on a copy of a slice from a DataFrame\n",
            "\n",
            "See the caveats in the documentation: https://pandas.pydata.org/pandas-docs/stable/user_guide/indexing.html#returning-a-view-versus-a-copy\n",
            "  self._setitem_single_block(indexer, value, name)\n"
          ]
        }
      ]
    },
    {
      "cell_type": "code",
      "source": [
        "# исправляем типичные ошибки в названиях отделов + актуализируем названия\n",
        "data['Отдел, разработчик'] = data['Отдел, разработчик'].replace(['ОРМД', 'ОРМС'],'ОРМ')\n",
        "data['Отдел, разработчик'] = data['Отдел, разработчик'].replace('ОРЛГ', 'ОРИС')\n",
        "data['Отдел, разработчик'] = data['Отдел, разработчик'].replace('ОРСТВГ', 'ОРС ТВГ')\n",
        "data['Отдел, разработчик'] = data['Отдел, разработчик'].replace('ОРСДВ', 'ОРС ДВ')\n",
        "\n",
        "data['Разработчик'] = data['Разработчик'].replace(['Докторова', 'Важнова'], 'Важнова (Докторова)')\n",
        "data['Фамилия эксперта'] = data['Фамилия эксперта'].replace(['Докторова', 'Важнова'], 'Важнова (Докторова)')"
      ],
      "metadata": {
        "id": "V7oks8xajoC_"
      },
      "execution_count": 9,
      "outputs": []
    },
    {
      "cell_type": "code",
      "source": [
        "# добавляем к фамилии разработчика суффикс с названием его отдела\n",
        "for i in range(data['Разработчик'].shape[0]):\n",
        "  data['Разработчик'].iloc[i] = data['Разработчик'].iloc[i] + '_' + data['Отдел, разработчик'].iloc[i]"
      ],
      "metadata": {
        "id": "b49l4JtJlGeq"
      },
      "execution_count": 10,
      "outputs": []
    },
    {
      "cell_type": "markdown",
      "source": [
        "# 3 Обработка столбца с замечаниями"
      ],
      "metadata": {
        "id": "2Rcmpc_GlpPH"
      }
    },
    {
      "cell_type": "code",
      "source": [
        "# для удобства дальнейшей обработки создаем список шифров\n",
        "for i in range(data[' Замечания (шифры)'].shape[0]):\n",
        "   a = [s.strip() for s in re.split('[,.]', str(data[' Замечания (шифры)'].iloc[i]))]\n",
        "   data[' Замечания (шифры)'].iloc[i] = a\n",
        "\n",
        "for i in range(data['Повторные замечания (шифры)'].shape[0]):\n",
        "   a = [s.strip() for s in re.split('[,.]', str(data['Повторные замечания (шифры)'].iloc[i]))]\n",
        "   data['Повторные замечания (шифры)'].iloc[i] = a"
      ],
      "metadata": {
        "id": "44C5t60dlnvc"
      },
      "execution_count": 11,
      "outputs": []
    },
    {
      "cell_type": "code",
      "source": [
        "data.sample(10)"
      ],
      "metadata": {
        "id": "8N_mH9sVby2i",
        "outputId": "17f9c6e9-50cd-456d-b533-37338ba094c4",
        "colab": {
          "base_uri": "https://localhost:8080/",
          "height": 629
        }
      },
      "execution_count": 12,
      "outputs": [
        {
          "output_type": "execute_result",
          "data": {
            "text/plain": [
              "      Дата получения документа Дата возврата документа        Номер документа  \\\n",
              "№ п/п                                                                           \n",
              "84                  2022-01-18              2022-01-19      ИТКС.301313.042СБ   \n",
              "1196                2022-07-12              2022-07-13        ИТКС.711162.003   \n",
              "2269                2022-11-23              2022-11-23             ОГТ.112-22   \n",
              "1184                2022-07-12              2022-07-13      ИТКС.301318.073СБ   \n",
              "2335                2022-11-30              2022-11-30      ИТКС.301318.081CБ   \n",
              "1530                2022-09-05              2022-09-05        ИТКС.754312.054   \n",
              "42                  2022-01-12              2022-01-12            ИТКС.878-21   \n",
              "2024                2022-12-01              2022-12-01        ИТКС.637 2/2-22   \n",
              "874                 2022-05-31              2022-05-31  СЯПИ.433724.013-02 ЭТ   \n",
              "122                 2022-01-20              2022-01-21      ИТКС.687427.195Д3   \n",
              "\n",
              "                            Название изделия/обозначение Отдел, разработчик  \\\n",
              "№ п/п                                                                         \n",
              "84                                             Основание                 КО   \n",
              "1196                                               Гайка                 КО   \n",
              "2269                                   Акселерометр А-18                ОГТ   \n",
              "1184                                           Подставка                 КО   \n",
              "2335   Присп. для испытаний БИНС-5 на виб. И удар. Ст...                 КО   \n",
              "1530                                      Знак заводской               ОРИС   \n",
              "42                               ИТКС.461532.034 БИНС-РС               ОРИС   \n",
              "2024                             ИТКС.461532.039 БИНС-20                 КО   \n",
              "874                                     Генератор ГМ-2-2               ОРИС   \n",
              "122         Плата преобр.напряжения и терморегулирования                 КО   \n",
              "\n",
              "       Количество форматов А4 Фамилия эксперта  \\\n",
              "№ п/п                                            \n",
              "84                          8           Авилов   \n",
              "1196                        1           Авилов   \n",
              "2269                        1         Сидорова   \n",
              "1184                        4           Авилов   \n",
              "2335                        2           Авилов   \n",
              "1530                        2         Марусина   \n",
              "42                          1           Иванов   \n",
              "2024                        1         Марусина   \n",
              "874                         1           Иванов   \n",
              "122                         2         Марусина   \n",
              "\n",
              "      Проект, тема, литера/ примечания  Замечания (шифры)  \\\n",
              "№ п/п                                                       \n",
              "84                                 NaN                [0]   \n",
              "1196                               NaN           [21, 24]   \n",
              "2269                               NaN                [0]   \n",
              "1184                               NaN               [29]   \n",
              "2335                               NaN                [0]   \n",
              "1530                               NaN                [0]   \n",
              "42                                 NaN                [0]   \n",
              "2024               Присвоение литеры О                [0]   \n",
              "874                    отраб. на литер                [0]   \n",
              "122                                NaN                [6]   \n",
              "\n",
              "      Повторные замечания (шифры) Срок проверки       Разработчик  \n",
              "№ п/п                                                              \n",
              "84                            [0]        2 days         Хохлов_КО  \n",
              "1196                          [0]        2 days         Бауков_КО  \n",
              "2269                          [0]        1 days       Бушуева_ОГТ  \n",
              "1184                          [0]        2 days         Бауков_КО  \n",
              "2335                          [0]        1 days         Плигин_КО  \n",
              "1530                          [0]        1 days        Мотов_ОРИС  \n",
              "42                            [0]        1 days   Колесников_ОРИС  \n",
              "2024                          [0]        1 days  Миннеахметова_КО  \n",
              "874                           [0]        1 days    Епифанова_ОРИС  \n",
              "122                           [0]        2 days         Хохлов_КО  "
            ],
            "text/html": [
              "\n",
              "  <div id=\"df-93143c4e-9188-4474-b6de-e9fbab75e0c0\">\n",
              "    <div class=\"colab-df-container\">\n",
              "      <div>\n",
              "<style scoped>\n",
              "    .dataframe tbody tr th:only-of-type {\n",
              "        vertical-align: middle;\n",
              "    }\n",
              "\n",
              "    .dataframe tbody tr th {\n",
              "        vertical-align: top;\n",
              "    }\n",
              "\n",
              "    .dataframe thead th {\n",
              "        text-align: right;\n",
              "    }\n",
              "</style>\n",
              "<table border=\"1\" class=\"dataframe\">\n",
              "  <thead>\n",
              "    <tr style=\"text-align: right;\">\n",
              "      <th></th>\n",
              "      <th>Дата получения документа</th>\n",
              "      <th>Дата возврата документа</th>\n",
              "      <th>Номер документа</th>\n",
              "      <th>Название изделия/обозначение</th>\n",
              "      <th>Отдел, разработчик</th>\n",
              "      <th>Количество форматов А4</th>\n",
              "      <th>Фамилия эксперта</th>\n",
              "      <th>Проект, тема, литера/ примечания</th>\n",
              "      <th>Замечания (шифры)</th>\n",
              "      <th>Повторные замечания (шифры)</th>\n",
              "      <th>Срок проверки</th>\n",
              "      <th>Разработчик</th>\n",
              "    </tr>\n",
              "    <tr>\n",
              "      <th>№ п/п</th>\n",
              "      <th></th>\n",
              "      <th></th>\n",
              "      <th></th>\n",
              "      <th></th>\n",
              "      <th></th>\n",
              "      <th></th>\n",
              "      <th></th>\n",
              "      <th></th>\n",
              "      <th></th>\n",
              "      <th></th>\n",
              "      <th></th>\n",
              "      <th></th>\n",
              "    </tr>\n",
              "  </thead>\n",
              "  <tbody>\n",
              "    <tr>\n",
              "      <th>84</th>\n",
              "      <td>2022-01-18</td>\n",
              "      <td>2022-01-19</td>\n",
              "      <td>ИТКС.301313.042СБ</td>\n",
              "      <td>Основание</td>\n",
              "      <td>КО</td>\n",
              "      <td>8</td>\n",
              "      <td>Авилов</td>\n",
              "      <td>NaN</td>\n",
              "      <td>[0]</td>\n",
              "      <td>[0]</td>\n",
              "      <td>2 days</td>\n",
              "      <td>Хохлов_КО</td>\n",
              "    </tr>\n",
              "    <tr>\n",
              "      <th>1196</th>\n",
              "      <td>2022-07-12</td>\n",
              "      <td>2022-07-13</td>\n",
              "      <td>ИТКС.711162.003</td>\n",
              "      <td>Гайка</td>\n",
              "      <td>КО</td>\n",
              "      <td>1</td>\n",
              "      <td>Авилов</td>\n",
              "      <td>NaN</td>\n",
              "      <td>[21, 24]</td>\n",
              "      <td>[0]</td>\n",
              "      <td>2 days</td>\n",
              "      <td>Бауков_КО</td>\n",
              "    </tr>\n",
              "    <tr>\n",
              "      <th>2269</th>\n",
              "      <td>2022-11-23</td>\n",
              "      <td>2022-11-23</td>\n",
              "      <td>ОГТ.112-22</td>\n",
              "      <td>Акселерометр А-18</td>\n",
              "      <td>ОГТ</td>\n",
              "      <td>1</td>\n",
              "      <td>Сидорова</td>\n",
              "      <td>NaN</td>\n",
              "      <td>[0]</td>\n",
              "      <td>[0]</td>\n",
              "      <td>1 days</td>\n",
              "      <td>Бушуева_ОГТ</td>\n",
              "    </tr>\n",
              "    <tr>\n",
              "      <th>1184</th>\n",
              "      <td>2022-07-12</td>\n",
              "      <td>2022-07-13</td>\n",
              "      <td>ИТКС.301318.073СБ</td>\n",
              "      <td>Подставка</td>\n",
              "      <td>КО</td>\n",
              "      <td>4</td>\n",
              "      <td>Авилов</td>\n",
              "      <td>NaN</td>\n",
              "      <td>[29]</td>\n",
              "      <td>[0]</td>\n",
              "      <td>2 days</td>\n",
              "      <td>Бауков_КО</td>\n",
              "    </tr>\n",
              "    <tr>\n",
              "      <th>2335</th>\n",
              "      <td>2022-11-30</td>\n",
              "      <td>2022-11-30</td>\n",
              "      <td>ИТКС.301318.081CБ</td>\n",
              "      <td>Присп. для испытаний БИНС-5 на виб. И удар. Ст...</td>\n",
              "      <td>КО</td>\n",
              "      <td>2</td>\n",
              "      <td>Авилов</td>\n",
              "      <td>NaN</td>\n",
              "      <td>[0]</td>\n",
              "      <td>[0]</td>\n",
              "      <td>1 days</td>\n",
              "      <td>Плигин_КО</td>\n",
              "    </tr>\n",
              "    <tr>\n",
              "      <th>1530</th>\n",
              "      <td>2022-09-05</td>\n",
              "      <td>2022-09-05</td>\n",
              "      <td>ИТКС.754312.054</td>\n",
              "      <td>Знак заводской</td>\n",
              "      <td>ОРИС</td>\n",
              "      <td>2</td>\n",
              "      <td>Марусина</td>\n",
              "      <td>NaN</td>\n",
              "      <td>[0]</td>\n",
              "      <td>[0]</td>\n",
              "      <td>1 days</td>\n",
              "      <td>Мотов_ОРИС</td>\n",
              "    </tr>\n",
              "    <tr>\n",
              "      <th>42</th>\n",
              "      <td>2022-01-12</td>\n",
              "      <td>2022-01-12</td>\n",
              "      <td>ИТКС.878-21</td>\n",
              "      <td>ИТКС.461532.034 БИНС-РС</td>\n",
              "      <td>ОРИС</td>\n",
              "      <td>1</td>\n",
              "      <td>Иванов</td>\n",
              "      <td>NaN</td>\n",
              "      <td>[0]</td>\n",
              "      <td>[0]</td>\n",
              "      <td>1 days</td>\n",
              "      <td>Колесников_ОРИС</td>\n",
              "    </tr>\n",
              "    <tr>\n",
              "      <th>2024</th>\n",
              "      <td>2022-12-01</td>\n",
              "      <td>2022-12-01</td>\n",
              "      <td>ИТКС.637 2/2-22</td>\n",
              "      <td>ИТКС.461532.039 БИНС-20</td>\n",
              "      <td>КО</td>\n",
              "      <td>1</td>\n",
              "      <td>Марусина</td>\n",
              "      <td>Присвоение литеры О</td>\n",
              "      <td>[0]</td>\n",
              "      <td>[0]</td>\n",
              "      <td>1 days</td>\n",
              "      <td>Миннеахметова_КО</td>\n",
              "    </tr>\n",
              "    <tr>\n",
              "      <th>874</th>\n",
              "      <td>2022-05-31</td>\n",
              "      <td>2022-05-31</td>\n",
              "      <td>СЯПИ.433724.013-02 ЭТ</td>\n",
              "      <td>Генератор ГМ-2-2</td>\n",
              "      <td>ОРИС</td>\n",
              "      <td>1</td>\n",
              "      <td>Иванов</td>\n",
              "      <td>отраб. на литер</td>\n",
              "      <td>[0]</td>\n",
              "      <td>[0]</td>\n",
              "      <td>1 days</td>\n",
              "      <td>Епифанова_ОРИС</td>\n",
              "    </tr>\n",
              "    <tr>\n",
              "      <th>122</th>\n",
              "      <td>2022-01-20</td>\n",
              "      <td>2022-01-21</td>\n",
              "      <td>ИТКС.687427.195Д3</td>\n",
              "      <td>Плата преобр.напряжения и терморегулирования</td>\n",
              "      <td>КО</td>\n",
              "      <td>2</td>\n",
              "      <td>Марусина</td>\n",
              "      <td>NaN</td>\n",
              "      <td>[6]</td>\n",
              "      <td>[0]</td>\n",
              "      <td>2 days</td>\n",
              "      <td>Хохлов_КО</td>\n",
              "    </tr>\n",
              "  </tbody>\n",
              "</table>\n",
              "</div>\n",
              "      <button class=\"colab-df-convert\" onclick=\"convertToInteractive('df-93143c4e-9188-4474-b6de-e9fbab75e0c0')\"\n",
              "              title=\"Convert this dataframe to an interactive table.\"\n",
              "              style=\"display:none;\">\n",
              "        \n",
              "  <svg xmlns=\"http://www.w3.org/2000/svg\" height=\"24px\"viewBox=\"0 0 24 24\"\n",
              "       width=\"24px\">\n",
              "    <path d=\"M0 0h24v24H0V0z\" fill=\"none\"/>\n",
              "    <path d=\"M18.56 5.44l.94 2.06.94-2.06 2.06-.94-2.06-.94-.94-2.06-.94 2.06-2.06.94zm-11 1L8.5 8.5l.94-2.06 2.06-.94-2.06-.94L8.5 2.5l-.94 2.06-2.06.94zm10 10l.94 2.06.94-2.06 2.06-.94-2.06-.94-.94-2.06-.94 2.06-2.06.94z\"/><path d=\"M17.41 7.96l-1.37-1.37c-.4-.4-.92-.59-1.43-.59-.52 0-1.04.2-1.43.59L10.3 9.45l-7.72 7.72c-.78.78-.78 2.05 0 2.83L4 21.41c.39.39.9.59 1.41.59.51 0 1.02-.2 1.41-.59l7.78-7.78 2.81-2.81c.8-.78.8-2.07 0-2.86zM5.41 20L4 18.59l7.72-7.72 1.47 1.35L5.41 20z\"/>\n",
              "  </svg>\n",
              "      </button>\n",
              "      \n",
              "  <style>\n",
              "    .colab-df-container {\n",
              "      display:flex;\n",
              "      flex-wrap:wrap;\n",
              "      gap: 12px;\n",
              "    }\n",
              "\n",
              "    .colab-df-convert {\n",
              "      background-color: #E8F0FE;\n",
              "      border: none;\n",
              "      border-radius: 50%;\n",
              "      cursor: pointer;\n",
              "      display: none;\n",
              "      fill: #1967D2;\n",
              "      height: 32px;\n",
              "      padding: 0 0 0 0;\n",
              "      width: 32px;\n",
              "    }\n",
              "\n",
              "    .colab-df-convert:hover {\n",
              "      background-color: #E2EBFA;\n",
              "      box-shadow: 0px 1px 2px rgba(60, 64, 67, 0.3), 0px 1px 3px 1px rgba(60, 64, 67, 0.15);\n",
              "      fill: #174EA6;\n",
              "    }\n",
              "\n",
              "    [theme=dark] .colab-df-convert {\n",
              "      background-color: #3B4455;\n",
              "      fill: #D2E3FC;\n",
              "    }\n",
              "\n",
              "    [theme=dark] .colab-df-convert:hover {\n",
              "      background-color: #434B5C;\n",
              "      box-shadow: 0px 1px 3px 1px rgba(0, 0, 0, 0.15);\n",
              "      filter: drop-shadow(0px 1px 2px rgba(0, 0, 0, 0.3));\n",
              "      fill: #FFFFFF;\n",
              "    }\n",
              "  </style>\n",
              "\n",
              "      <script>\n",
              "        const buttonEl =\n",
              "          document.querySelector('#df-93143c4e-9188-4474-b6de-e9fbab75e0c0 button.colab-df-convert');\n",
              "        buttonEl.style.display =\n",
              "          google.colab.kernel.accessAllowed ? 'block' : 'none';\n",
              "\n",
              "        async function convertToInteractive(key) {\n",
              "          const element = document.querySelector('#df-93143c4e-9188-4474-b6de-e9fbab75e0c0');\n",
              "          const dataTable =\n",
              "            await google.colab.kernel.invokeFunction('convertToInteractive',\n",
              "                                                     [key], {});\n",
              "          if (!dataTable) return;\n",
              "\n",
              "          const docLinkHtml = 'Like what you see? Visit the ' +\n",
              "            '<a target=\"_blank\" href=https://colab.research.google.com/notebooks/data_table.ipynb>data table notebook</a>'\n",
              "            + ' to learn more about interactive tables.';\n",
              "          element.innerHTML = '';\n",
              "          dataTable['output_type'] = 'display_data';\n",
              "          await google.colab.output.renderOutput(dataTable, element);\n",
              "          const docLink = document.createElement('div');\n",
              "          docLink.innerHTML = docLinkHtml;\n",
              "          element.appendChild(docLink);\n",
              "        }\n",
              "      </script>\n",
              "    </div>\n",
              "  </div>\n",
              "  "
            ]
          },
          "metadata": {},
          "execution_count": 12
        }
      ]
    },
    {
      "cell_type": "code",
      "source": [
        "# функция для подсчета количества ошибок по отделам\n",
        "\n",
        "def count_codes(data: pd.DataFrame, department: str) -> dict:\n",
        "  # словарь для хранения количества замечаний по каждому шифру\n",
        "  codes = dict(zip(np.arange(0, 31), np.zeros(30)))\n",
        "\n",
        "  # цикл по строкам датафрейма  с помощью указателя i\n",
        "  for i in range(data.shape[0]):\n",
        "    # если строка относится к нужному отделу\n",
        "    if data['Отдел, разработчик'].iloc[i] == department:\n",
        "      # берем значение из столбца с замечаниями\n",
        "      \n",
        "      for c in data[' Замечания (шифры)'].iloc[i]:\n",
        "        # добавляем к счетчику шифров\n",
        "        codes[int(c)] += 1\n",
        "      for c in data['Повторные замечания (шифры)'].iloc[i]:\n",
        "        # добавляем к счетчику шифров за исключением 0 шифра\n",
        "        if int(c) != 0:\n",
        "          codes[int(c)] += 1\n",
        "  \n",
        "  return codes"
      ],
      "metadata": {
        "id": "xpY0_PUqwG9v"
      },
      "execution_count": 13,
      "outputs": []
    },
    {
      "cell_type": "code",
      "source": [
        "# функция для подсчета количества ошибок по разработчику\n",
        "\n",
        "def count_codes_by_person(data: pd.DataFrame, person: str) -> dict:\n",
        "  # словарь для хранения количества замечаний по каждому шифру\n",
        "  codes = dict(zip(np.arange(0, 31), np.zeros(30)))\n",
        "\n",
        "  # цикл по строкам датафрейма  с помощью указателя i\n",
        "  for i in range(data.shape[0]):\n",
        "    # если строка относится к нужному разработчику\n",
        "    if data['Разработчик'].iloc[i] == person:\n",
        "      # берем значение из столбца с замечаниями\n",
        "      \n",
        "      for c in data[' Замечания (шифры)'].iloc[i]:\n",
        "        # добавляем к счетчику шифров\n",
        "        codes[int(c)] += 1\n",
        "      for c in data['Повторные замечания (шифры)'].iloc[i]:\n",
        "        # добавляем к счетчику шифров за исключением 0 шифра\n",
        "        if int(c) != 0:\n",
        "          codes[int(c)] += 1\n",
        "  \n",
        "  return codes"
      ],
      "metadata": {
        "id": "shsHu0Ro48hm"
      },
      "execution_count": 14,
      "outputs": []
    },
    {
      "cell_type": "markdown",
      "source": [
        "# 4 Формирование отчетов"
      ],
      "metadata": {
        "id": "3vdZosZpwr_3"
      }
    },
    {
      "cell_type": "code",
      "source": [
        "def make_main_report(data: pd.DataFrame) -> pd.DataFrame:\n",
        "  report = pd.DataFrame(columns=['Проверено документов, шт',\n",
        "                                   'Проверено листов А4, шт',\n",
        "                                   'Всего замечаний, шт',\n",
        "                                   'Доля документов с замечаниями, %',\n",
        "                                   'Количество замечаний на 100 листов А4, шт'])\n",
        "  report['Проверено документов, шт'] = data.groupby(['Отдел, разработчик']).count()['Дата получения документа']\n",
        "  report['Проверено листов А4, шт'] = data.groupby(['Отдел, разработчик']).sum()\n",
        "\n",
        "  # в цикле создаем вспомогательные переменные для подсчета замечаний и показателей\n",
        "  for name in report.index.to_list():\n",
        "    # создаем словарь для каждого отдела с количеством замечаний\n",
        "    codes = count_codes(data, name)\n",
        "    # переменная для хранения количества замечаний без учета шифра '17'\n",
        "    total_without_17 = 0\n",
        "    # переменная для хранения количества замечаний с шифром '17'\n",
        "    count_17 = codes[17]\n",
        "    # переменная для хранения количества документов без замечаний\n",
        "    without_mistakes = codes[0]\n",
        "    for c in codes.keys():\n",
        "      if c not in (0, 17):\n",
        "        total_without_17 += codes[c]\n",
        "    # переменная для хранения общего числа замечаний\n",
        "    total_count = total_without_17 + count_17\n",
        "    \n",
        "    report.loc[name, 'Всего замечаний, шт'] = total_count\n",
        "    report.loc[name, 'Доля документов с замечаниями, %'] = np.round(((1 - (without_mistakes / report.loc[name, 'Проверено документов, шт'])) * 100), 1)\n",
        "    report.loc[name, 'Количество замечаний на 100 листов А4, шт'] = np.round(((total_count / report.loc[name, 'Проверено листов А4, шт']) * 100), 1)\n",
        "\n",
        "  # создаем переменные для хранения сводных показателей по предприятию\n",
        "  all_docs = np.sum(report['Проверено документов, шт'])\n",
        "  all_pages = np.sum(report['Проверено листов А4, шт'])\n",
        "  all_mistakes = np.sum(report['Всего замечаний, шт'])\n",
        "  all_docs_with_mistakes = np.sum(report['Проверено документов, шт'] * (report['Доля документов с замечаниями, %'] / 100))\n",
        "  \n",
        "  # добавляем в датафрейм строку со сводными показателями\n",
        "  report.loc['Общая статистика по предприятию'] = [all_docs, all_pages, all_mistakes, np.round((all_docs_with_mistakes / all_docs)*100, 1), np.round((all_mistakes / all_pages)*100, 1)]\n",
        "\n",
        "  return report"
      ],
      "metadata": {
        "id": "qXmaoi9fdD_Z"
      },
      "execution_count": 15,
      "outputs": []
    },
    {
      "cell_type": "code",
      "source": [
        "def make_codes_report(data: pd.DataFrame) -> pd.DataFrame:\n",
        "  Codes = namedtuple('Codes', ['department', 'codes'])\n",
        "  counts_of_codes = [Codes(dp, count_codes(data, dp)) for dp in data['Отдел, разработчик'].unique()]\n",
        "\n",
        "  cols = list(data['Отдел, разработчик'].unique())\n",
        "  cols.insert(0, 'Шифр')\n",
        "  report = pd.DataFrame(columns=[cols])\n",
        "\n",
        "  for nt in counts_of_codes:\n",
        "    report[nt.department] = nt.codes.values()\n",
        "  \n",
        "  report['Шифр'] = report.index\n",
        "  \n",
        "  return report"
      ],
      "metadata": {
        "id": "ukNbUlNlxKOV"
      },
      "execution_count": 16,
      "outputs": []
    },
    {
      "cell_type": "code",
      "source": [
        "def make_codes_by_person_report(data: pd.DataFrame) -> pd.DataFrame:\n",
        "  Codes = namedtuple('Codes', ['person', 'codes'])\n",
        "  counts_of_codes = [Codes(pers, count_codes_by_person(data, pers)) for pers in data['Разработчик'].unique()]\n",
        "\n",
        "  cols = list(data['Разработчик'].unique())\n",
        "  cols.insert(0, 'Шифр')\n",
        "  report = pd.DataFrame(columns=[cols])\n",
        "\n",
        "  for nt in counts_of_codes:\n",
        "    report[nt.person] = nt.codes.values()\n",
        "  \n",
        "  report['Шифр'] = report.index\n",
        "  report = report.T\n",
        "  report = report.drop('Шифр', axis=0)\n",
        "\n",
        "  report.insert(0, 'Отдел', [report.index.values[i][0].split('_')[1] for i in range(report.index.shape[0])])\n",
        "\n",
        "  return report"
      ],
      "metadata": {
        "id": "KMCmd-GEfM0C"
      },
      "execution_count": 17,
      "outputs": []
    },
    {
      "cell_type": "code",
      "source": [
        "def make_time_report(data: pd.DataFrame) -> pd.DataFrame:\n",
        "  report = pd.DataFrame(data['Срок проверки'].value_counts())\n",
        "  return report"
      ],
      "metadata": {
        "id": "yRIVDswrAxIp"
      },
      "execution_count": 18,
      "outputs": []
    },
    {
      "cell_type": "markdown",
      "source": [
        "# 5 Деление датасета на части"
      ],
      "metadata": {
        "id": "PlEIMoDVACgC"
      }
    },
    {
      "cell_type": "code",
      "source": [
        "# разделим датасет на части по кварталам и полугодиям\n",
        "data_1q = data[(data['Дата получения документа'] > '2022-01-01') & (data['Дата получения документа'] < '2022-04-01')]\n",
        "data_2q = data[(data['Дата получения документа'] >= '2022-04-01') & (data['Дата получения документа'] < '2022-07-01')]\n",
        "data_3q = data[(data['Дата получения документа'] >= '2022-07-01') & (data['Дата получения документа'] < '2022-10-01')]\n",
        "data_4q = data[(data['Дата получения документа'] >= '2022-10-01') & (data['Дата получения документа'] < '2023-01-01')]\n",
        "data_1_half_year = data[(data['Дата получения документа'] >= '2022-01-01') & (data['Дата получения документа'] < '2022-07-01')]\n",
        "data_2_half_year = data[(data['Дата получения документа'] >= '2022-07-01') & (data['Дата получения документа'] < '2023-01-01')]\n",
        "data_full = data[(data['Дата получения документа'] >= '2022-01-01') & (data['Дата получения документа'] < '2023-01-01')]\n",
        "data_list = [data_1q, data_2q, data_3q, data_4q, data_1_half_year, data_2_half_year, data_full]"
      ],
      "metadata": {
        "id": "6gawub0fVuEm"
      },
      "execution_count": 19,
      "outputs": []
    },
    {
      "cell_type": "code",
      "source": [
        "# создадим аттрибуты с именем датасета\n",
        "data_1q.name = '1_квартал'\n",
        "data_2q.name = '2_квартал'\n",
        "data_3q.name = '3_квартал'\n",
        "data_4q.name = '4_квартал'\n",
        "data_1_half_year.name = '1_полугодие'\n",
        "data_2_half_year.name = '2_полугодие'\n",
        "data_full.name = 'Весь_год'"
      ],
      "metadata": {
        "id": "HQ9VLV-S-bmG"
      },
      "execution_count": 20,
      "outputs": []
    },
    {
      "cell_type": "code",
      "source": [
        "print(f'1 квартал: {data_1q.shape} \\n2 квартал: {data_2q.shape} \\n3 квартал: {data_3q.shape}  \\n4 квартал: {data_4q.shape} \\n1 полугодие: {data_1_half_year.shape}  \\n2 полугодие: {data_2_half_year.shape} \\nВесь год: {data_full.shape}')"
      ],
      "metadata": {
        "colab": {
          "base_uri": "https://localhost:8080/"
        },
        "id": "7vymsOeXdSXm",
        "outputId": "537299b1-c38f-499a-b636-8d0d88859dc0"
      },
      "execution_count": 21,
      "outputs": [
        {
          "output_type": "stream",
          "name": "stdout",
          "text": [
            "1 квартал: (493, 12) \n",
            "2 квартал: (569, 12) \n",
            "3 квартал: (722, 12)  \n",
            "4 квартал: (929, 12) \n",
            "1 полугодие: (1062, 12)  \n",
            "2 полугодие: (1651, 12) \n",
            "Весь год: (2713, 12)\n"
          ]
        }
      ]
    },
    {
      "cell_type": "markdown",
      "source": [
        "# 6 Сохранение отчетов"
      ],
      "metadata": {
        "id": "RMLwE5PGAedR"
      }
    },
    {
      "cell_type": "code",
      "source": [
        "for d in data_list:\n",
        "  with zipfile.ZipFile(f'{d.name}.zip', 'w') as zf:\n",
        "    with zf.open(f'{d.name}_основной_отчет.xlsx', 'w') as buffer:\n",
        "      with pd.ExcelWriter(buffer) as writer:\n",
        "        df = make_main_report(d)\n",
        "        df.to_excel(writer)  \n",
        "\n",
        "    with zf.open(f'{d.name}_основной_по_ошибкам.xlsx', 'w') as buffer:\n",
        "      with pd.ExcelWriter(buffer) as writer:\n",
        "        df = make_codes_report(d)\n",
        "        df.to_excel(writer)\n",
        "\n",
        "    with zf.open(f'{d.name}_ошибки_по_разработчику.xlsx', 'w') as buffer:\n",
        "      with pd.ExcelWriter(buffer) as writer:\n",
        "        df = make_codes_by_person_report(d)\n",
        "        df.to_excel(writer)\n",
        "\n",
        "    with zf.open(f'{d.name}_основной_по_срокам.xlsx', 'w') as buffer:\n",
        "      with pd.ExcelWriter(buffer) as writer:\n",
        "        df = make_time_report(d)\n",
        "        df.to_excel(writer)\n",
        "    "
      ],
      "metadata": {
        "id": "ACLvrA_FdVt6",
        "outputId": "74db7f0b-85f8-4369-8933-aee7315e4a1e",
        "colab": {
          "base_uri": "https://localhost:8080/"
        }
      },
      "execution_count": 22,
      "outputs": [
        {
          "output_type": "stream",
          "name": "stderr",
          "text": [
            "/usr/local/lib/python3.8/dist-packages/pandas/core/generic.py:4150: PerformanceWarning: dropping on a non-lexsorted multi-index without a level parameter may impact performance.\n",
            "  obj = obj._drop_axis(labels, axis, level=level, errors=errors)\n"
          ]
        }
      ]
    },
    {
      "cell_type": "code",
      "source": [],
      "metadata": {
        "id": "O1BbjZL-6riw"
      },
      "execution_count": 22,
      "outputs": []
    }
  ]
}