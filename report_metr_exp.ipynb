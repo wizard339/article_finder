{
  "nbformat": 4,
  "nbformat_minor": 0,
  "metadata": {
    "colab": {
      "name": "report_metr_exp.ipynb",
      "provenance": [],
      "collapsed_sections": [],
      "authorship_tag": "ABX9TyN7yQUt3S8uuFrrxdpMzctV",
      "include_colab_link": true
    },
    "kernelspec": {
      "name": "python3",
      "display_name": "Python 3"
    },
    "language_info": {
      "name": "python"
    }
  },
  "cells": [
    {
      "cell_type": "markdown",
      "metadata": {
        "id": "view-in-github",
        "colab_type": "text"
      },
      "source": [
        "<a href=\"https://colab.research.google.com/github/wizard339/article_finder/blob/main/report_metr_exp.ipynb\" target=\"_parent\"><img src=\"https://colab.research.google.com/assets/colab-badge.svg\" alt=\"Open In Colab\"/></a>"
      ]
    },
    {
      "cell_type": "code",
      "execution_count": 60,
      "metadata": {
        "id": "Q5Emg2IiJYCi"
      },
      "outputs": [],
      "source": [
        "import pandas as pd\n",
        "import numpy as np\n",
        "import re\n",
        "import zipfile\n",
        "from collections import namedtuple"
      ]
    },
    {
      "cell_type": "code",
      "source": [
        "data = pd.read_excel('/content/1-3 кв.xlsx', index_col='№ п/п')\n",
        "data.head()"
      ],
      "metadata": {
        "colab": {
          "base_uri": "https://localhost:8080/",
          "height": 475
        },
        "id": "A_hqi-UIJk7J",
        "outputId": "95750611-a133-4c2c-9ce9-9ddcc01ee7c9"
      },
      "execution_count": 61,
      "outputs": [
        {
          "output_type": "execute_result",
          "data": {
            "text/plain": [
              "      Дата получения документа Дата возврата документа     Номер документа  \\\n",
              "№ п/п                                                                        \n",
              "1                   2021-12-28              2021-12-29        ИТКС.1114-21   \n",
              "2                   2021-12-28              2021-12-29   ИТКС.685669.001СБ   \n",
              "3                   2021-12-28              2021-12-29   ИТКС.443124.001ИЭ   \n",
              "4                   2021-12-28              2021-12-29  ИТКС.443124.001ПЭ4   \n",
              "5                   2021-12-28              2021-12-29   ИТКС.443124.001Е1   \n",
              "\n",
              "      Название изделия/обозначение Отдел, разработчик  Количество форматов А4  \\\n",
              "№ п/п                                                                           \n",
              "1            ИТКС.443124.001 УБР-1   ОРС ТВГ, Малюгин                       3   \n",
              "2                             Жгут   ОРС ТВГ, Малюгин                       4   \n",
              "3                              NaN    ОРС ТВГ, Бурков                       9   \n",
              "4                              NaN   ОРС ТВГ, Малюгин                       1   \n",
              "5                              NaN   ОРС ТВГ, Малюгин                       2   \n",
              "\n",
              "      Фамилия эксперта Проект, тема, литера/ примечания   Замечания (шифры)  \\\n",
              "№ п/п                                                                         \n",
              "1            Докторова                              NaN                 NaN   \n",
              "2            Докторова                              NaN              10, 17   \n",
              "3            Докторова                              NaN  2, 19, 3, 17, 6, 7   \n",
              "4            Докторова                              NaN                 NaN   \n",
              "5            Докторова                              NaN                  17   \n",
              "\n",
              "      Повторные замечания (шифры)  \n",
              "№ п/п                              \n",
              "1                             NaN  \n",
              "2                             NaN  \n",
              "3                           17, 4  \n",
              "4                             NaN  \n",
              "5                           17, 3  "
            ],
            "text/html": [
              "\n",
              "  <div id=\"df-483b0f62-ab81-4ea3-a5d2-ae0a512b711e\">\n",
              "    <div class=\"colab-df-container\">\n",
              "      <div>\n",
              "<style scoped>\n",
              "    .dataframe tbody tr th:only-of-type {\n",
              "        vertical-align: middle;\n",
              "    }\n",
              "\n",
              "    .dataframe tbody tr th {\n",
              "        vertical-align: top;\n",
              "    }\n",
              "\n",
              "    .dataframe thead th {\n",
              "        text-align: right;\n",
              "    }\n",
              "</style>\n",
              "<table border=\"1\" class=\"dataframe\">\n",
              "  <thead>\n",
              "    <tr style=\"text-align: right;\">\n",
              "      <th></th>\n",
              "      <th>Дата получения документа</th>\n",
              "      <th>Дата возврата документа</th>\n",
              "      <th>Номер документа</th>\n",
              "      <th>Название изделия/обозначение</th>\n",
              "      <th>Отдел, разработчик</th>\n",
              "      <th>Количество форматов А4</th>\n",
              "      <th>Фамилия эксперта</th>\n",
              "      <th>Проект, тема, литера/ примечания</th>\n",
              "      <th>Замечания (шифры)</th>\n",
              "      <th>Повторные замечания (шифры)</th>\n",
              "    </tr>\n",
              "    <tr>\n",
              "      <th>№ п/п</th>\n",
              "      <th></th>\n",
              "      <th></th>\n",
              "      <th></th>\n",
              "      <th></th>\n",
              "      <th></th>\n",
              "      <th></th>\n",
              "      <th></th>\n",
              "      <th></th>\n",
              "      <th></th>\n",
              "      <th></th>\n",
              "    </tr>\n",
              "  </thead>\n",
              "  <tbody>\n",
              "    <tr>\n",
              "      <th>1</th>\n",
              "      <td>2021-12-28</td>\n",
              "      <td>2021-12-29</td>\n",
              "      <td>ИТКС.1114-21</td>\n",
              "      <td>ИТКС.443124.001 УБР-1</td>\n",
              "      <td>ОРС ТВГ, Малюгин</td>\n",
              "      <td>3</td>\n",
              "      <td>Докторова</td>\n",
              "      <td>NaN</td>\n",
              "      <td>NaN</td>\n",
              "      <td>NaN</td>\n",
              "    </tr>\n",
              "    <tr>\n",
              "      <th>2</th>\n",
              "      <td>2021-12-28</td>\n",
              "      <td>2021-12-29</td>\n",
              "      <td>ИТКС.685669.001СБ</td>\n",
              "      <td>Жгут</td>\n",
              "      <td>ОРС ТВГ, Малюгин</td>\n",
              "      <td>4</td>\n",
              "      <td>Докторова</td>\n",
              "      <td>NaN</td>\n",
              "      <td>10, 17</td>\n",
              "      <td>NaN</td>\n",
              "    </tr>\n",
              "    <tr>\n",
              "      <th>3</th>\n",
              "      <td>2021-12-28</td>\n",
              "      <td>2021-12-29</td>\n",
              "      <td>ИТКС.443124.001ИЭ</td>\n",
              "      <td>NaN</td>\n",
              "      <td>ОРС ТВГ, Бурков</td>\n",
              "      <td>9</td>\n",
              "      <td>Докторова</td>\n",
              "      <td>NaN</td>\n",
              "      <td>2, 19, 3, 17, 6, 7</td>\n",
              "      <td>17, 4</td>\n",
              "    </tr>\n",
              "    <tr>\n",
              "      <th>4</th>\n",
              "      <td>2021-12-28</td>\n",
              "      <td>2021-12-29</td>\n",
              "      <td>ИТКС.443124.001ПЭ4</td>\n",
              "      <td>NaN</td>\n",
              "      <td>ОРС ТВГ, Малюгин</td>\n",
              "      <td>1</td>\n",
              "      <td>Докторова</td>\n",
              "      <td>NaN</td>\n",
              "      <td>NaN</td>\n",
              "      <td>NaN</td>\n",
              "    </tr>\n",
              "    <tr>\n",
              "      <th>5</th>\n",
              "      <td>2021-12-28</td>\n",
              "      <td>2021-12-29</td>\n",
              "      <td>ИТКС.443124.001Е1</td>\n",
              "      <td>NaN</td>\n",
              "      <td>ОРС ТВГ, Малюгин</td>\n",
              "      <td>2</td>\n",
              "      <td>Докторова</td>\n",
              "      <td>NaN</td>\n",
              "      <td>17</td>\n",
              "      <td>17, 3</td>\n",
              "    </tr>\n",
              "  </tbody>\n",
              "</table>\n",
              "</div>\n",
              "      <button class=\"colab-df-convert\" onclick=\"convertToInteractive('df-483b0f62-ab81-4ea3-a5d2-ae0a512b711e')\"\n",
              "              title=\"Convert this dataframe to an interactive table.\"\n",
              "              style=\"display:none;\">\n",
              "        \n",
              "  <svg xmlns=\"http://www.w3.org/2000/svg\" height=\"24px\"viewBox=\"0 0 24 24\"\n",
              "       width=\"24px\">\n",
              "    <path d=\"M0 0h24v24H0V0z\" fill=\"none\"/>\n",
              "    <path d=\"M18.56 5.44l.94 2.06.94-2.06 2.06-.94-2.06-.94-.94-2.06-.94 2.06-2.06.94zm-11 1L8.5 8.5l.94-2.06 2.06-.94-2.06-.94L8.5 2.5l-.94 2.06-2.06.94zm10 10l.94 2.06.94-2.06 2.06-.94-2.06-.94-.94-2.06-.94 2.06-2.06.94z\"/><path d=\"M17.41 7.96l-1.37-1.37c-.4-.4-.92-.59-1.43-.59-.52 0-1.04.2-1.43.59L10.3 9.45l-7.72 7.72c-.78.78-.78 2.05 0 2.83L4 21.41c.39.39.9.59 1.41.59.51 0 1.02-.2 1.41-.59l7.78-7.78 2.81-2.81c.8-.78.8-2.07 0-2.86zM5.41 20L4 18.59l7.72-7.72 1.47 1.35L5.41 20z\"/>\n",
              "  </svg>\n",
              "      </button>\n",
              "      \n",
              "  <style>\n",
              "    .colab-df-container {\n",
              "      display:flex;\n",
              "      flex-wrap:wrap;\n",
              "      gap: 12px;\n",
              "    }\n",
              "\n",
              "    .colab-df-convert {\n",
              "      background-color: #E8F0FE;\n",
              "      border: none;\n",
              "      border-radius: 50%;\n",
              "      cursor: pointer;\n",
              "      display: none;\n",
              "      fill: #1967D2;\n",
              "      height: 32px;\n",
              "      padding: 0 0 0 0;\n",
              "      width: 32px;\n",
              "    }\n",
              "\n",
              "    .colab-df-convert:hover {\n",
              "      background-color: #E2EBFA;\n",
              "      box-shadow: 0px 1px 2px rgba(60, 64, 67, 0.3), 0px 1px 3px 1px rgba(60, 64, 67, 0.15);\n",
              "      fill: #174EA6;\n",
              "    }\n",
              "\n",
              "    [theme=dark] .colab-df-convert {\n",
              "      background-color: #3B4455;\n",
              "      fill: #D2E3FC;\n",
              "    }\n",
              "\n",
              "    [theme=dark] .colab-df-convert:hover {\n",
              "      background-color: #434B5C;\n",
              "      box-shadow: 0px 1px 3px 1px rgba(0, 0, 0, 0.15);\n",
              "      filter: drop-shadow(0px 1px 2px rgba(0, 0, 0, 0.3));\n",
              "      fill: #FFFFFF;\n",
              "    }\n",
              "  </style>\n",
              "\n",
              "      <script>\n",
              "        const buttonEl =\n",
              "          document.querySelector('#df-483b0f62-ab81-4ea3-a5d2-ae0a512b711e button.colab-df-convert');\n",
              "        buttonEl.style.display =\n",
              "          google.colab.kernel.accessAllowed ? 'block' : 'none';\n",
              "\n",
              "        async function convertToInteractive(key) {\n",
              "          const element = document.querySelector('#df-483b0f62-ab81-4ea3-a5d2-ae0a512b711e');\n",
              "          const dataTable =\n",
              "            await google.colab.kernel.invokeFunction('convertToInteractive',\n",
              "                                                     [key], {});\n",
              "          if (!dataTable) return;\n",
              "\n",
              "          const docLinkHtml = 'Like what you see? Visit the ' +\n",
              "            '<a target=\"_blank\" href=https://colab.research.google.com/notebooks/data_table.ipynb>data table notebook</a>'\n",
              "            + ' to learn more about interactive tables.';\n",
              "          element.innerHTML = '';\n",
              "          dataTable['output_type'] = 'display_data';\n",
              "          await google.colab.output.renderOutput(dataTable, element);\n",
              "          const docLink = document.createElement('div');\n",
              "          docLink.innerHTML = docLinkHtml;\n",
              "          element.appendChild(docLink);\n",
              "        }\n",
              "      </script>\n",
              "    </div>\n",
              "  </div>\n",
              "  "
            ]
          },
          "metadata": {},
          "execution_count": 61
        }
      ]
    },
    {
      "cell_type": "markdown",
      "source": [
        "# 1 Обработка пропусков в данных"
      ],
      "metadata": {
        "id": "nrv0aSFFKjs2"
      }
    },
    {
      "cell_type": "code",
      "source": [
        "# заполняем пропуски в столбце 'Отдел, разработчик' значениями предыдущей строки\n",
        "data['Отдел, разработчик'] = data['Отдел, разработчик'].fillna(method='ffill')"
      ],
      "metadata": {
        "id": "zDOu0KBPQDjF"
      },
      "execution_count": 62,
      "outputs": []
    },
    {
      "cell_type": "code",
      "source": [
        "data['Дата получения документа'] = data['Дата получения документа'].fillna(method='ffill')\n",
        "data['Дата возврата документа'] = data['Дата возврата документа'].fillna(data['Дата получения документа'])"
      ],
      "metadata": {
        "id": "gHEhNyScXoTR"
      },
      "execution_count": 63,
      "outputs": []
    },
    {
      "cell_type": "code",
      "source": [
        "data[' Замечания (шифры)'] = data[' Замечания (шифры)'].fillna(0)"
      ],
      "metadata": {
        "id": "mSKLe-FsohSw"
      },
      "execution_count": 64,
      "outputs": []
    },
    {
      "cell_type": "markdown",
      "source": [
        "# 2 Создание дополнительных столбцов"
      ],
      "metadata": {
        "id": "SAz3ouSge5mI"
      }
    },
    {
      "cell_type": "code",
      "source": [
        "data['Срок проверки'] = data['Дата возврата документа'] - data['Дата получения документа'] + pd.offsets.Day(1)"
      ],
      "metadata": {
        "id": "Lk2DJaCGKCz6"
      },
      "execution_count": 65,
      "outputs": []
    },
    {
      "cell_type": "code",
      "source": [
        "data['Разработчик'] = ''"
      ],
      "metadata": {
        "id": "QS7Ddb1DiezI"
      },
      "execution_count": 66,
      "outputs": []
    },
    {
      "cell_type": "code",
      "source": [
        "# разделяем значения из столбца 'Отдел, разработчик' на 2 значения\n",
        "for i in range(data['Отдел, разработчик'].shape[0]):\n",
        "  data['Отдел, разработчик'].iloc[i] = data['Отдел, разработчик'].iloc[i].split(',')\n",
        "  for s in data['Отдел, разработчик'].iloc[i]:\n",
        "    s = s.strip()\n",
        "    data['Разработчик'].iloc[i] = data['Отдел, разработчик'].iloc[i][1].strip()\n",
        "  data['Отдел, разработчик'].iloc[i] = data['Отдел, разработчик'].iloc[i][0]"
      ],
      "metadata": {
        "colab": {
          "base_uri": "https://localhost:8080/"
        },
        "id": "xSUpkWq8fgJW",
        "outputId": "5f1a914c-3508-43f0-fa7c-7fef222febb9"
      },
      "execution_count": 67,
      "outputs": [
        {
          "output_type": "stream",
          "name": "stderr",
          "text": [
            "/usr/local/lib/python3.7/dist-packages/pandas/core/indexing.py:1732: SettingWithCopyWarning: \n",
            "A value is trying to be set on a copy of a slice from a DataFrame\n",
            "\n",
            "See the caveats in the documentation: https://pandas.pydata.org/pandas-docs/stable/user_guide/indexing.html#returning-a-view-versus-a-copy\n",
            "  self._setitem_single_block(indexer, value, name)\n"
          ]
        }
      ]
    },
    {
      "cell_type": "code",
      "source": [
        "# исправляем типичные ошибки в названиях отделов + актуализируем названия\n",
        "data['Отдел, разработчик'] = data['Отдел, разработчик'].replace(['ОРМД', 'ОРМС', 'ОРМ'],'ОРМД')\n",
        "data['Отдел, разработчик'] = data['Отдел, разработчик'].replace('ОРЛГ', 'ОРИС')\n",
        "data['Отдел, разработчик'] = data['Отдел, разработчик'].replace('ОРСТВГ', 'ОРС ТВГ')\n",
        "data['Отдел, разработчик'] = data['Отдел, разработчик'].replace('ОРСДВ', 'ОРС ДВ')"
      ],
      "metadata": {
        "id": "V7oks8xajoC_"
      },
      "execution_count": 68,
      "outputs": []
    },
    {
      "cell_type": "code",
      "source": [
        "# добавляем к фамилии разработчика суффикс с названием его отдела\n",
        "for i in range(data['Разработчик'].shape[0]):\n",
        "  data['Разработчик'].iloc[i] = data['Разработчик'].iloc[i] + '_' + data['Отдел, разработчик'].iloc[i]"
      ],
      "metadata": {
        "id": "b49l4JtJlGeq"
      },
      "execution_count": 69,
      "outputs": []
    },
    {
      "cell_type": "markdown",
      "source": [
        "# 3 Обработка столбца с замечаниями"
      ],
      "metadata": {
        "id": "2Rcmpc_GlpPH"
      }
    },
    {
      "cell_type": "code",
      "source": [
        "# для удобства дальнейшей обработки создаем список шифров\n",
        "for i in range(data[' Замечания (шифры)'].shape[0]):\n",
        "   a = [s.strip() for s in re.split('[,.]', str(data[' Замечания (шифры)'].iloc[i]))]\n",
        "   data[' Замечания (шифры)'].iloc[i] = a"
      ],
      "metadata": {
        "id": "44C5t60dlnvc"
      },
      "execution_count": 70,
      "outputs": []
    },
    {
      "cell_type": "code",
      "source": [
        "# функция для подсчета количества ошибок по отделам\n",
        "\n",
        "def count_codes(data: pd.DataFrame, department: str) -> dict:\n",
        "  # словарь для хранения количества замечаний по каждому шифру\n",
        "  codes = dict(zip(np.arange(0, 31), np.zeros(30)))\n",
        "\n",
        "  # цикл по строкам датафрейма  с помощью указателя i\n",
        "  for i in range(data.shape[0]):\n",
        "    # если строка относится к нужному отделу\n",
        "    if data['Отдел, разработчик'].iloc[i] == department:\n",
        "      # берем значение из столбца с замечаниями\n",
        "      \n",
        "      for c in data[' Замечания (шифры)'].iloc[i]:\n",
        "        # добавляем к счетчику шифров\n",
        "        codes[int(c)] += 1\n",
        "  \n",
        "  return codes"
      ],
      "metadata": {
        "id": "xpY0_PUqwG9v"
      },
      "execution_count": 71,
      "outputs": []
    },
    {
      "cell_type": "code",
      "source": [
        "# функция для подсчета количества ошибок по разработчику\n",
        "\n",
        "def count_codes_by_person(data: pd.DataFrame, person: str) -> dict:\n",
        "  # словарь для хранения количества замечаний по каждому шифру\n",
        "  codes = dict(zip(np.arange(0, 31), np.zeros(30)))\n",
        "\n",
        "  # цикл по строкам датафрейма  с помощью указателя i\n",
        "  for i in range(data.shape[0]):\n",
        "    # если строка относится к нужному разработчику\n",
        "    if data['Разработчик'].iloc[i] == person:\n",
        "      # берем значение из столбца с замечаниями\n",
        "      \n",
        "      for c in data[' Замечания (шифры)'].iloc[i]:\n",
        "        # добавляем к счетчику шифров\n",
        "        codes[int(c)] += 1\n",
        "  \n",
        "  return codes"
      ],
      "metadata": {
        "id": "shsHu0Ro48hm"
      },
      "execution_count": 72,
      "outputs": []
    },
    {
      "cell_type": "markdown",
      "source": [
        "# 4 Формирование отчетов"
      ],
      "metadata": {
        "id": "3vdZosZpwr_3"
      }
    },
    {
      "cell_type": "code",
      "source": [
        "def make_main_report(data: pd.DataFrame) -> pd.DataFrame:\n",
        "  report = pd.DataFrame(columns=['Проверено документов, шт',\n",
        "                                   'Проверено листов А4, шт',\n",
        "                                   'Всего замечаний, шт',\n",
        "                                   'Доля документов с замечаниями, %',\n",
        "                                   'Количество замечаний на 100 листов А4, шт'])\n",
        "  report['Проверено документов, шт'] = data.groupby(['Отдел, разработчик']).count()['Дата получения документа']\n",
        "  report['Проверено листов А4, шт'] = data.groupby(['Отдел, разработчик']).sum()\n",
        "\n",
        "  # в цикле создаем вспомогательные переменные для подсчета замечаний и показателей\n",
        "  for name in report.index.to_list():\n",
        "    # создаем словарь для каждого отдела с количеством замечаний\n",
        "    codes = count_codes(data, name)\n",
        "    # переменная для хранения количества замечаний без учета шифра '17'\n",
        "    total_without_17 = 0\n",
        "    # переменная для хранения количества замечаний с шифром '17'\n",
        "    count_17 = codes[17]\n",
        "    # переменная для хранения количества документов без замечаний\n",
        "    without_mistakes = codes[0]\n",
        "    for c in codes.keys():\n",
        "      if c not in (0, 17):\n",
        "        total_without_17 += codes[c]\n",
        "    # переменная для хранения общего числа замечаний\n",
        "    total_count = total_without_17 + count_17\n",
        "    \n",
        "    report.loc[name, 'Всего замечаний, шт'] = total_count\n",
        "    report.loc[name, 'Доля документов с замечаниями, %'] = np.round(((1 - (without_mistakes / report.loc[name, 'Проверено документов, шт'])) * 100), 1)\n",
        "    report.loc[name, 'Количество замечаний на 100 листов А4, шт'] = np.round(((total_count / report.loc[name, 'Проверено листов А4, шт']) * 100), 1)\n",
        "\n",
        "  return report"
      ],
      "metadata": {
        "id": "qXmaoi9fdD_Z"
      },
      "execution_count": 73,
      "outputs": []
    },
    {
      "cell_type": "code",
      "source": [
        "def make_codes_report(data: pd.DataFrame) -> pd.DataFrame:\n",
        "  Codes = namedtuple('Codes', ['department', 'codes'])\n",
        "  counts_of_codes = [Codes(dp, count_codes(data, dp)) for dp in data['Отдел, разработчик'].unique()]\n",
        "\n",
        "  cols = list(data['Отдел, разработчик'].unique())\n",
        "  cols.insert(0, 'Шифр')\n",
        "  report = pd.DataFrame(columns=[cols])\n",
        "\n",
        "  for nt in counts_of_codes:\n",
        "    report[nt.department] = nt.codes.values()\n",
        "  \n",
        "  report['Шифр'] = report.index\n",
        "  \n",
        "  return report"
      ],
      "metadata": {
        "id": "ukNbUlNlxKOV"
      },
      "execution_count": 74,
      "outputs": []
    },
    {
      "cell_type": "code",
      "source": [
        "def make_codes_by_person_report(data: pd.DataFrame) -> pd.DataFrame:\n",
        "  Codes = namedtuple('Codes', ['person', 'codes'])\n",
        "  counts_of_codes = [Codes(pers, count_codes_by_person(data, pers)) for pers in data['Разработчик'].unique()]\n",
        "\n",
        "  cols = list(data['Разработчик'].unique())\n",
        "  cols.insert(0, 'Шифр')\n",
        "  report = pd.DataFrame(columns=[cols])\n",
        "\n",
        "  for nt in counts_of_codes:\n",
        "    report[nt.person] = nt.codes.values()\n",
        "  \n",
        "  report['Шифр'] = report.index\n",
        "  report = report.T\n",
        "  report = report.drop('Шифр', axis=0)\n",
        "\n",
        "  report.insert(0, 'Отдел', [report.index.values[i][0].split('_')[1] for i in range(report.index.shape[0])])\n",
        "\n",
        "  return report"
      ],
      "metadata": {
        "id": "KMCmd-GEfM0C"
      },
      "execution_count": 75,
      "outputs": []
    },
    {
      "cell_type": "code",
      "source": [
        "def make_time_report(data: pd.DataFrame) -> pd.DataFrame:\n",
        "  report = pd.DataFrame(data['Срок проверки'].value_counts())\n",
        "  return report"
      ],
      "metadata": {
        "id": "yRIVDswrAxIp"
      },
      "execution_count": 76,
      "outputs": []
    },
    {
      "cell_type": "markdown",
      "source": [
        "# 5 Деление датасета на части"
      ],
      "metadata": {
        "id": "PlEIMoDVACgC"
      }
    },
    {
      "cell_type": "code",
      "source": [
        "# разделим датасет на части по кварталам и полугодиям\n",
        "data_1q = data[(data['Дата получения документа'] > '2022-01-01') & (data['Дата получения документа'] < '2022-04-01')]\n",
        "data_2q = data[(data['Дата получения документа'] >= '2022-04-01') & (data['Дата получения документа'] < '2022-07-01')]\n",
        "data_3q = data[(data['Дата получения документа'] >= '2022-07-01') & (data['Дата получения документа'] < '2022-10-01')]\n",
        "data_1_half_year = data[(data['Дата получения документа'] >= '2022-01-01') & (data['Дата получения документа'] < '2022-07-01')]\n",
        "data_full = data[(data['Дата получения документа'] >= '2022-01-01') & (data['Дата получения документа'] < '2022-10-01')]\n",
        "data_list = [data_1q, data_2q, data_3q, data_1_half_year, data_full]"
      ],
      "metadata": {
        "id": "6gawub0fVuEm"
      },
      "execution_count": 77,
      "outputs": []
    },
    {
      "cell_type": "code",
      "source": [
        "# создадим аттрибуты с именем датасета\n",
        "data_1q.name = '1_квартал'\n",
        "data_2q.name = '2_квартал'\n",
        "data_3q.name = '3_квартал'\n",
        "data_1_half_year.name = '1_полугодие'\n",
        "data_full.name = '9_месяцев'"
      ],
      "metadata": {
        "id": "HQ9VLV-S-bmG"
      },
      "execution_count": 78,
      "outputs": []
    },
    {
      "cell_type": "code",
      "source": [
        "print(f'1 квартал: {data_1q.shape} \\n2 квартал: {data_2q.shape} \\n3 квартал: {data_3q.shape} \\nПолугодие: {data_1_half_year.shape} \\n9 месяцев: {data_full.shape}')"
      ],
      "metadata": {
        "colab": {
          "base_uri": "https://localhost:8080/"
        },
        "id": "7vymsOeXdSXm",
        "outputId": "8dfc039e-dde7-4983-f0b4-0f4ba83d4c70"
      },
      "execution_count": 79,
      "outputs": [
        {
          "output_type": "stream",
          "name": "stdout",
          "text": [
            "1 квартал: (493, 12) \n",
            "2 квартал: (569, 12) \n",
            "3 квартал: (722, 12) \n",
            "Полугодие: (1062, 12) \n",
            "9 месяцев: (1784, 12)\n"
          ]
        }
      ]
    },
    {
      "cell_type": "markdown",
      "source": [
        "# 6 Сохранение отчетов"
      ],
      "metadata": {
        "id": "RMLwE5PGAedR"
      }
    },
    {
      "cell_type": "code",
      "source": [
        "for d in data_list:\n",
        "  with zipfile.ZipFile(f'{d.name}.zip', 'w') as zf:\n",
        "    with zf.open(f'{d.name}_основной_отчет.xlsx', 'w') as buffer:\n",
        "      with pd.ExcelWriter(buffer) as writer:\n",
        "        df = make_main_report(d)\n",
        "        df.to_excel(writer)  \n",
        "\n",
        "    with zf.open(f'{d.name}_основной_по_ошибкам.xlsx', 'w') as buffer:\n",
        "      with pd.ExcelWriter(buffer) as writer:\n",
        "        df = make_codes_report(d)\n",
        "        df.to_excel(writer)\n",
        "\n",
        "    with zf.open(f'{d.name}_ошибки_по_разработчику.xlsx', 'w') as buffer:\n",
        "      with pd.ExcelWriter(buffer) as writer:\n",
        "        df = make_codes_by_person_report(d)\n",
        "        df.to_excel(writer)\n",
        "\n",
        "    with zf.open(f'{d.name}_основной_по_срокам.xlsx', 'w') as buffer:\n",
        "      with pd.ExcelWriter(buffer) as writer:\n",
        "        df = make_time_report(d)\n",
        "        df.to_excel(writer)\n",
        "    "
      ],
      "metadata": {
        "id": "ACLvrA_FdVt6",
        "outputId": "ae483c35-5add-4240-8816-4e52e71aa363",
        "colab": {
          "base_uri": "https://localhost:8080/"
        }
      },
      "execution_count": 80,
      "outputs": [
        {
          "output_type": "stream",
          "name": "stderr",
          "text": [
            "/usr/local/lib/python3.7/dist-packages/pandas/core/generic.py:4150: PerformanceWarning: dropping on a non-lexsorted multi-index without a level parameter may impact performance.\n",
            "  obj = obj._drop_axis(labels, axis, level=level, errors=errors)\n"
          ]
        }
      ]
    },
    {
      "cell_type": "code",
      "source": [],
      "metadata": {
        "id": "O1BbjZL-6riw"
      },
      "execution_count": null,
      "outputs": []
    }
  ]
}